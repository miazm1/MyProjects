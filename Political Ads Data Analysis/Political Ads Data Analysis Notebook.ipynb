{
 "cells": [
  {
   "cell_type": "markdown",
   "metadata": {},
   "source": [
    "# Milestone 1"
   ]
  },
  {
   "cell_type": "markdown",
   "metadata": {},
   "source": [
    "# Introduction"
   ]
  },
  {
   "cell_type": "markdown",
   "metadata": {},
   "source": [
    "```txt\n",
    "Nama : Maulana Azmi Izzuddin\n",
    "Batch: FTDS-013\n",
    "```"
   ]
  },
  {
   "cell_type": "markdown",
   "metadata": {},
   "source": [
    "# link heroku app = https://maulana-azmi-i-ftds-013-p0m1.herokuapp.com/"
   ]
  },
  {
   "cell_type": "markdown",
   "metadata": {},
   "source": [
    "# Problems"
   ]
  },
  {
   "cell_type": "markdown",
   "metadata": {},
   "source": [
    "```txt\n",
    "Kamu adalah seorang Data Analyst yang akan mengerjakan projek besar untuk menyelesaikan suatu permasalahan client dan client kamu butuh sekali hasil analisa datamu menggunakan statistik dan dashboard visualisasi data untuk membantu mereka menyelesaikan masalah. Pilihlah satu dari empat masalah berikut yang dapat kamu bantu selesaikan:\n",
    "\n",
    "Tim sukses seorang politisi di California ingin mengadakan kampanye menggunakan Google Ads. Namun, mereka tidak tahu apakah kampanye ini akan berhasil atau tidak dan butuh budget seberapa besar per bulannya. Bantu mereka untuk mengetahui apakah kampanye di Google Ads ini efektif atau tidak. Gunakan dataset google_political_ads di Google Cloud Platform BigQuery.\n",
    "```\n"
   ]
  },
  {
   "cell_type": "markdown",
   "metadata": {},
   "source": [
    "# Penjabaran Masalah"
   ]
  },
  {
   "cell_type": "markdown",
   "metadata": {},
   "source": [
    "* Bagaimana perilaku warga United States dalam mengeluarkan US dollar untuk sebuah iklan terhadap impression yang di dapat? (Visual)\n",
    "* Bagiamana persebaran data pada impression yang di dapat dari sebuah ads di United States? (Deskriptif)\n",
    "* Bagiamana persebaran data pada US dollar yang dikeluarkan untuk sebuah ads di United States? (Deskriptif)\n",
    "* Bagaimana persebaran total ads yang ditujukan pada setiap states di United States?(Visual)\n",
    "* Bagaimana persebaran total dana yang dikeluarkan pada suatu iklan yang ditujukan pada setiap states di United States? (Visual)\n",
    "* Gender apa saja yang menjadi target dalam political ads? Bagaimana proporsinya? (Visual)\n",
    "* Tipe ads apa yang paling di rekomendasikan? (Visual)\n",
    "* Apakah impressions yang didapatkan pada setiap tipe ads sama? (Inferensial)\n",
    "\n"
   ]
  },
  {
   "cell_type": "markdown",
   "metadata": {},
   "source": [
    "# Metric"
   ]
  },
  {
   "cell_type": "markdown",
   "metadata": {},
   "source": [
    "* advertiser_id\n",
    "* total_spend\n",
    "* total_creatives\n",
    "* num_of_days\n",
    "* max_impressions\n",
    "* ads_type\n",
    "* total ads per state\n",
    "* total spend per state\n",
    "* latitude,longitude : external bukan dari bigquery\n",
    "* gender_targeting\n",
    "* total spend per ads type\n",
    "* impression per ads type\n"
   ]
  },
  {
   "cell_type": "markdown",
   "metadata": {},
   "source": [
    "# List of Query"
   ]
  },
  {
   "cell_type": "markdown",
   "metadata": {},
   "source": [
    "Query pertama dilakukan untuk mendapatkan data yang akan digunakan untuk analisa terkait seberapa banyak total spending per ads nya dan juga seberapa banyak impressions yang di dapat dan berapa lama ads itu dijalankan.\n",
    "\n",
    "Query ini dilakukan dengan menggunakan agg function, subquery, dan dilakukan juga inner join dengan key nya advertiser_id.\n",
    "\n",
    "Dilakukan GroupBy untuk melihat aktivitas dari setiap advertiser_id yang dimana setiap orang tidak hanya mengeluarkan 1 ads saja melainkan bisa lebih."
   ]
  },
  {
   "cell_type": "markdown",
   "metadata": {},
   "source": [
    "```txt\n",
    "SELECT  spend.advertiser_id,spend.advertiser_name, SUM(spend.spend_usd) AS total_spend_usd,stats.total_creatives,stats_imp.maximum_impressions,stats_imp.total_day\n",
    "FROM `bigquery-public-data.google_political_ads.advertiser_geo_spend` spend \n",
    "INNER JOIN `bigquery-public-data.google_political_ads.advertiser_stats` stats\n",
    "ON spend.advertiser_id = stats.advertiser_id\n",
    "INNER JOIN\n",
    "(\n",
    "  SELECT SUM(CAST(REGEXP_SUBSTR (impressions, \"-(.*)\") AS INT)) AS maximum_impressions,advertiser_id,SUM(num_of_days) AS total_day\n",
    "  FROM `bigquery-public-data.google_political_ads.creative_stats`\n",
    "  GROUP BY advertiser_id) AS stats_imp\n",
    "ON spend.advertiser_id = stats_imp.advertiser_id\n",
    "WHERE spend.country =\"US\"\n",
    "GROUP BY spend.advertiser_id,spend.advertiser_name, stats.total_creatives,stats_imp.maximum_impressions,stats_imp.total_day\n",
    "ORDER BY spend.advertiser_id;\n",
    "```"
   ]
  },
  {
   "cell_type": "markdown",
   "metadata": {},
   "source": [
    "Query kedua dilakukan untuk mendapatkan data dari spending dan total ads yang ada pada setiap state di United States."
   ]
  },
  {
   "cell_type": "markdown",
   "metadata": {},
   "source": [
    "```txt\n",
    "SELECT geo.country, geo.state, geo.total_district,total_ads ,total_spend\n",
    "FROM \n",
    "(SELECT country, REGEXP_SUBSTR (country_subdivision_primary, \"-(.*)\") AS state, COUNT(spend_usd) AS total_district,SUM(spend_usd) AS total_spend\n",
    "  FROM `bigquery-public-data.google_political_ads.geo_spend` \n",
    "  GROUP BY state,country\n",
    ") AS geo\n",
    "INNER JOIN \n",
    "(SELECT  country_subdivision_primary,COUNT(country) AS total_ads\n",
    "FROM `bigquery-public-data.google_political_ads.advertiser_geo_spend`\n",
    "GROUP BY country_subdivision_primary\n",
    ") AS ads_state\n",
    "ON geo.state = ads_state.country_subdivision_primary \n",
    "WHERE geo.country = \"US\"\n",
    "AND geo.state  IS NOT NULL\n",
    "GROUP BY geo.state,geo.country,geo.total_district,total_ads ,total_spend;\n",
    "```"
   ]
  },
  {
   "cell_type": "markdown",
   "metadata": {},
   "source": [
    "Query ketiga dilakukan untuk mendapatkan data impression yang didapatkan dan spending yang dikeluarkan untuk setiap tipe ads."
   ]
  },
  {
   "cell_type": "markdown",
   "metadata": {},
   "source": [
    "```txt\n",
    "SELECT imp.regions, imp.ad_type, imp.impressions , imp.spend_usd\n",
    "FROM \n",
    "(\n",
    "  SELECT regions,ad_type, REGEXP_SUBSTR (impressions, \"-(.*)\") AS impressions, spend_range_max_usd AS spend_usd\n",
    "  FROM`bigquery-public-data.google_political_ads.creative_stats` ) AS imp\n",
    "WHERE imp.regions = \"US\"\n",
    "AND imp.impressions IS NOT NULL;\n",
    "```"
   ]
  },
  {
   "cell_type": "markdown",
   "metadata": {},
   "source": [
    "Query keempat untuk mendapatkan persebaran targeting gender terhadap todal ads yang dikeluarkan."
   ]
  },
  {
   "cell_type": "markdown",
   "metadata": {},
   "source": [
    "```txt\n",
    "SELECT advertiser_id, gender_targeting\n",
    "FROM `bigquery-public-data.google_political_ads.creative_stats` \n",
    "WHERE gender_targeting IS NOT NULL\n",
    "AND regions = \"US\";\n",
    "```"
   ]
  },
  {
   "cell_type": "markdown",
   "metadata": {},
   "source": [
    "# Import Library yang diperlukan"
   ]
  },
  {
   "cell_type": "code",
   "execution_count": 118,
   "metadata": {},
   "outputs": [],
   "source": [
    "import pandas as pd #manipulasi data\n",
    "import numpy as np #komputasi array\n",
    "import matplotlib.pyplot as plt #plotting\n",
    "import scipy.stats as stats #uji anova dan statistik lainnya\n",
    "import seaborn as sns #plotting\n",
    "import plotly.graph_objects as go #plotting"
   ]
  },
  {
   "cell_type": "markdown",
   "metadata": {},
   "source": [
    "# Loading dan Manipulation data"
   ]
  },
  {
   "cell_type": "markdown",
   "metadata": {},
   "source": [
    "## Query 1 Data Utama"
   ]
  },
  {
   "cell_type": "markdown",
   "metadata": {},
   "source": [
    "Melakukan loading data query 1 dan menunjukan head dan tail data."
   ]
  },
  {
   "cell_type": "code",
   "execution_count": 119,
   "metadata": {},
   "outputs": [
    {
     "data": {
      "text/html": [
       "<div>\n",
       "<style scoped>\n",
       "    .dataframe tbody tr th:only-of-type {\n",
       "        vertical-align: middle;\n",
       "    }\n",
       "\n",
       "    .dataframe tbody tr th {\n",
       "        vertical-align: top;\n",
       "    }\n",
       "\n",
       "    .dataframe thead th {\n",
       "        text-align: right;\n",
       "    }\n",
       "</style>\n",
       "<table border=\"1\" class=\"dataframe\">\n",
       "  <thead>\n",
       "    <tr style=\"text-align: right;\">\n",
       "      <th></th>\n",
       "      <th>advertiser_id</th>\n",
       "      <th>advertiser_name</th>\n",
       "      <th>total_spend_usd</th>\n",
       "      <th>total_creatives</th>\n",
       "      <th>maximum_impressions</th>\n",
       "      <th>total_day</th>\n",
       "    </tr>\n",
       "  </thead>\n",
       "  <tbody>\n",
       "    <tr>\n",
       "      <th>0</th>\n",
       "      <td>AR00000475401340059649</td>\n",
       "      <td>VINCE LEACH FOR SENATE</td>\n",
       "      <td>10500</td>\n",
       "      <td>5</td>\n",
       "      <td>865000.0</td>\n",
       "      <td>276</td>\n",
       "    </tr>\n",
       "    <tr>\n",
       "      <th>1</th>\n",
       "      <td>AR00008638175664668673</td>\n",
       "      <td>TINA SMITH FOR MINNESOTA</td>\n",
       "      <td>251500</td>\n",
       "      <td>111</td>\n",
       "      <td>8346000.0</td>\n",
       "      <td>2294</td>\n",
       "    </tr>\n",
       "    <tr>\n",
       "      <th>2</th>\n",
       "      <td>AR00013006535361822721</td>\n",
       "      <td>NICK LALOTA FOR CONGRESS</td>\n",
       "      <td>3300</td>\n",
       "      <td>3</td>\n",
       "      <td>31000.0</td>\n",
       "      <td>138</td>\n",
       "    </tr>\n",
       "    <tr>\n",
       "      <th>3</th>\n",
       "      <td>AR00013986200222171137</td>\n",
       "      <td>VESCOGNI FOR STATES ATTORNEY</td>\n",
       "      <td>400</td>\n",
       "      <td>3</td>\n",
       "      <td>3000.0</td>\n",
       "      <td>41</td>\n",
       "    </tr>\n",
       "    <tr>\n",
       "      <th>4</th>\n",
       "      <td>AR00017645374919409665</td>\n",
       "      <td>DEMOCRATIC PARTY OF OREGON</td>\n",
       "      <td>6200</td>\n",
       "      <td>8</td>\n",
       "      <td>84000.0</td>\n",
       "      <td>96</td>\n",
       "    </tr>\n",
       "  </tbody>\n",
       "</table>\n",
       "</div>"
      ],
      "text/plain": [
       "            advertiser_id               advertiser_name  total_spend_usd  \\\n",
       "0  AR00000475401340059649        VINCE LEACH FOR SENATE            10500   \n",
       "1  AR00008638175664668673      TINA SMITH FOR MINNESOTA           251500   \n",
       "2  AR00013006535361822721      NICK LALOTA FOR CONGRESS             3300   \n",
       "3  AR00013986200222171137  VESCOGNI FOR STATES ATTORNEY              400   \n",
       "4  AR00017645374919409665    DEMOCRATIC PARTY OF OREGON             6200   \n",
       "\n",
       "   total_creatives  maximum_impressions  total_day  \n",
       "0                5             865000.0        276  \n",
       "1              111            8346000.0       2294  \n",
       "2                3              31000.0        138  \n",
       "3                3               3000.0         41  \n",
       "4                8              84000.0         96  "
      ]
     },
     "execution_count": 119,
     "metadata": {},
     "output_type": "execute_result"
    }
   ],
   "source": [
    "ads_data = pd.read_csv(\"deployment/ads_data.csv\")\n",
    "ads_data.head()"
   ]
  },
  {
   "cell_type": "code",
   "execution_count": 120,
   "metadata": {},
   "outputs": [
    {
     "data": {
      "text/html": [
       "<div>\n",
       "<style scoped>\n",
       "    .dataframe tbody tr th:only-of-type {\n",
       "        vertical-align: middle;\n",
       "    }\n",
       "\n",
       "    .dataframe tbody tr th {\n",
       "        vertical-align: top;\n",
       "    }\n",
       "\n",
       "    .dataframe thead th {\n",
       "        text-align: right;\n",
       "    }\n",
       "</style>\n",
       "<table border=\"1\" class=\"dataframe\">\n",
       "  <thead>\n",
       "    <tr style=\"text-align: right;\">\n",
       "      <th></th>\n",
       "      <th>advertiser_id</th>\n",
       "      <th>advertiser_name</th>\n",
       "      <th>total_spend_usd</th>\n",
       "      <th>total_creatives</th>\n",
       "      <th>maximum_impressions</th>\n",
       "      <th>total_day</th>\n",
       "    </tr>\n",
       "  </thead>\n",
       "  <tbody>\n",
       "    <tr>\n",
       "      <th>6414</th>\n",
       "      <td>AR18430858742028304385</td>\n",
       "      <td>Rod Honeycutt For Congress</td>\n",
       "      <td>5100</td>\n",
       "      <td>2</td>\n",
       "      <td>176000.0</td>\n",
       "      <td>7</td>\n",
       "    </tr>\n",
       "    <tr>\n",
       "      <th>6415</th>\n",
       "      <td>AR18433708676167499777</td>\n",
       "      <td>COMMITTEE TO ELECT MEG LOUGHRAN CAPPEL</td>\n",
       "      <td>1400</td>\n",
       "      <td>44</td>\n",
       "      <td>44000.0</td>\n",
       "      <td>351</td>\n",
       "    </tr>\n",
       "    <tr>\n",
       "      <th>6416</th>\n",
       "      <td>AR18434980811120836609</td>\n",
       "      <td>PEOPLE FOR MARK LUFT</td>\n",
       "      <td>5500</td>\n",
       "      <td>2</td>\n",
       "      <td>200000.0</td>\n",
       "      <td>12</td>\n",
       "    </tr>\n",
       "    <tr>\n",
       "      <th>6417</th>\n",
       "      <td>AR18437367850864738305</td>\n",
       "      <td>AMERICANS FOR PROSPERITY</td>\n",
       "      <td>1306600</td>\n",
       "      <td>654</td>\n",
       "      <td>119027000.0</td>\n",
       "      <td>13140</td>\n",
       "    </tr>\n",
       "    <tr>\n",
       "      <th>6418</th>\n",
       "      <td>AR18441871450492108801</td>\n",
       "      <td>SAM GRAVES VICTORY FUND</td>\n",
       "      <td>2100</td>\n",
       "      <td>7</td>\n",
       "      <td>54000.0</td>\n",
       "      <td>316</td>\n",
       "    </tr>\n",
       "  </tbody>\n",
       "</table>\n",
       "</div>"
      ],
      "text/plain": [
       "               advertiser_id                         advertiser_name  \\\n",
       "6414  AR18430858742028304385              Rod Honeycutt For Congress   \n",
       "6415  AR18433708676167499777  COMMITTEE TO ELECT MEG LOUGHRAN CAPPEL   \n",
       "6416  AR18434980811120836609                    PEOPLE FOR MARK LUFT   \n",
       "6417  AR18437367850864738305                AMERICANS FOR PROSPERITY   \n",
       "6418  AR18441871450492108801                 SAM GRAVES VICTORY FUND   \n",
       "\n",
       "      total_spend_usd  total_creatives  maximum_impressions  total_day  \n",
       "6414             5100                2             176000.0          7  \n",
       "6415             1400               44              44000.0        351  \n",
       "6416             5500                2             200000.0         12  \n",
       "6417          1306600              654          119027000.0      13140  \n",
       "6418             2100                7              54000.0        316  "
      ]
     },
     "execution_count": 120,
     "metadata": {},
     "output_type": "execute_result"
    }
   ],
   "source": [
    "ads_data.tail()"
   ]
  },
  {
   "cell_type": "code",
   "execution_count": 121,
   "metadata": {},
   "outputs": [
    {
     "name": "stdout",
     "output_type": "stream",
     "text": [
      "<class 'pandas.core.frame.DataFrame'>\n",
      "RangeIndex: 6419 entries, 0 to 6418\n",
      "Data columns (total 6 columns):\n",
      " #   Column               Non-Null Count  Dtype  \n",
      "---  ------               --------------  -----  \n",
      " 0   advertiser_id        6419 non-null   object \n",
      " 1   advertiser_name      6419 non-null   object \n",
      " 2   total_spend_usd      6419 non-null   int64  \n",
      " 3   total_creatives      6419 non-null   int64  \n",
      " 4   maximum_impressions  6418 non-null   float64\n",
      " 5   total_day            6419 non-null   int64  \n",
      "dtypes: float64(1), int64(3), object(2)\n",
      "memory usage: 301.0+ KB\n"
     ]
    }
   ],
   "source": [
    "ads_data.info()"
   ]
  },
  {
   "cell_type": "markdown",
   "metadata": {},
   "source": [
    "Terlihat ternyata terdapat missing value pada kolom maximum_impressions."
   ]
  },
  {
   "cell_type": "code",
   "execution_count": 122,
   "metadata": {},
   "outputs": [],
   "source": [
    "ads_data.dropna(subset=['maximum_impressions'],inplace=True)"
   ]
  },
  {
   "cell_type": "markdown",
   "metadata": {},
   "source": [
    "Melakukan drop missing value agar data bersih dari missing value."
   ]
  },
  {
   "cell_type": "code",
   "execution_count": 123,
   "metadata": {},
   "outputs": [
    {
     "name": "stdout",
     "output_type": "stream",
     "text": [
      "<class 'pandas.core.frame.DataFrame'>\n",
      "Int64Index: 6418 entries, 0 to 6418\n",
      "Data columns (total 6 columns):\n",
      " #   Column               Non-Null Count  Dtype  \n",
      "---  ------               --------------  -----  \n",
      " 0   advertiser_id        6418 non-null   object \n",
      " 1   advertiser_name      6418 non-null   object \n",
      " 2   total_spend_usd      6418 non-null   int64  \n",
      " 3   total_creatives      6418 non-null   int64  \n",
      " 4   maximum_impressions  6418 non-null   float64\n",
      " 5   total_day            6418 non-null   int64  \n",
      "dtypes: float64(1), int64(3), object(2)\n",
      "memory usage: 351.0+ KB\n"
     ]
    }
   ],
   "source": [
    "ads_data.info()"
   ]
  },
  {
   "cell_type": "markdown",
   "metadata": {},
   "source": [
    "Terlihat pada data sudah tidak ada missing value."
   ]
  },
  {
   "cell_type": "markdown",
   "metadata": {},
   "source": [
    "Membuat column yang berisikan impressions/ ads sehingga disini ingin mengetahui value seberapa banyak impression yang didapatkan dalam satu iklan. namun sebelum itu kita perlu mengetahui impression/day nya (seberapa banyak impression yang didapat dalam 1 hari)"
   ]
  },
  {
   "cell_type": "code",
   "execution_count": 124,
   "metadata": {},
   "outputs": [
    {
     "data": {
      "text/html": [
       "<div>\n",
       "<style scoped>\n",
       "    .dataframe tbody tr th:only-of-type {\n",
       "        vertical-align: middle;\n",
       "    }\n",
       "\n",
       "    .dataframe tbody tr th {\n",
       "        vertical-align: top;\n",
       "    }\n",
       "\n",
       "    .dataframe thead th {\n",
       "        text-align: right;\n",
       "    }\n",
       "</style>\n",
       "<table border=\"1\" class=\"dataframe\">\n",
       "  <thead>\n",
       "    <tr style=\"text-align: right;\">\n",
       "      <th></th>\n",
       "      <th>advertiser_id</th>\n",
       "      <th>advertiser_name</th>\n",
       "      <th>total_spend_usd</th>\n",
       "      <th>total_creatives</th>\n",
       "      <th>maximum_impressions</th>\n",
       "      <th>total_day</th>\n",
       "      <th>impressions_per_day</th>\n",
       "    </tr>\n",
       "  </thead>\n",
       "  <tbody>\n",
       "    <tr>\n",
       "      <th>0</th>\n",
       "      <td>AR00000475401340059649</td>\n",
       "      <td>VINCE LEACH FOR SENATE</td>\n",
       "      <td>10500</td>\n",
       "      <td>5</td>\n",
       "      <td>865000.0</td>\n",
       "      <td>276</td>\n",
       "      <td>3134.057971</td>\n",
       "    </tr>\n",
       "    <tr>\n",
       "      <th>1</th>\n",
       "      <td>AR00008638175664668673</td>\n",
       "      <td>TINA SMITH FOR MINNESOTA</td>\n",
       "      <td>251500</td>\n",
       "      <td>111</td>\n",
       "      <td>8346000.0</td>\n",
       "      <td>2294</td>\n",
       "      <td>3638.186574</td>\n",
       "    </tr>\n",
       "    <tr>\n",
       "      <th>2</th>\n",
       "      <td>AR00013006535361822721</td>\n",
       "      <td>NICK LALOTA FOR CONGRESS</td>\n",
       "      <td>3300</td>\n",
       "      <td>3</td>\n",
       "      <td>31000.0</td>\n",
       "      <td>138</td>\n",
       "      <td>224.637681</td>\n",
       "    </tr>\n",
       "    <tr>\n",
       "      <th>3</th>\n",
       "      <td>AR00013986200222171137</td>\n",
       "      <td>VESCOGNI FOR STATES ATTORNEY</td>\n",
       "      <td>400</td>\n",
       "      <td>3</td>\n",
       "      <td>3000.0</td>\n",
       "      <td>41</td>\n",
       "      <td>73.170732</td>\n",
       "    </tr>\n",
       "    <tr>\n",
       "      <th>4</th>\n",
       "      <td>AR00017645374919409665</td>\n",
       "      <td>DEMOCRATIC PARTY OF OREGON</td>\n",
       "      <td>6200</td>\n",
       "      <td>8</td>\n",
       "      <td>84000.0</td>\n",
       "      <td>96</td>\n",
       "      <td>875.000000</td>\n",
       "    </tr>\n",
       "    <tr>\n",
       "      <th>...</th>\n",
       "      <td>...</td>\n",
       "      <td>...</td>\n",
       "      <td>...</td>\n",
       "      <td>...</td>\n",
       "      <td>...</td>\n",
       "      <td>...</td>\n",
       "      <td>...</td>\n",
       "    </tr>\n",
       "    <tr>\n",
       "      <th>6414</th>\n",
       "      <td>AR18430858742028304385</td>\n",
       "      <td>Rod Honeycutt For Congress</td>\n",
       "      <td>5100</td>\n",
       "      <td>2</td>\n",
       "      <td>176000.0</td>\n",
       "      <td>7</td>\n",
       "      <td>25142.857143</td>\n",
       "    </tr>\n",
       "    <tr>\n",
       "      <th>6415</th>\n",
       "      <td>AR18433708676167499777</td>\n",
       "      <td>COMMITTEE TO ELECT MEG LOUGHRAN CAPPEL</td>\n",
       "      <td>1400</td>\n",
       "      <td>44</td>\n",
       "      <td>44000.0</td>\n",
       "      <td>351</td>\n",
       "      <td>125.356125</td>\n",
       "    </tr>\n",
       "    <tr>\n",
       "      <th>6416</th>\n",
       "      <td>AR18434980811120836609</td>\n",
       "      <td>PEOPLE FOR MARK LUFT</td>\n",
       "      <td>5500</td>\n",
       "      <td>2</td>\n",
       "      <td>200000.0</td>\n",
       "      <td>12</td>\n",
       "      <td>16666.666667</td>\n",
       "    </tr>\n",
       "    <tr>\n",
       "      <th>6417</th>\n",
       "      <td>AR18437367850864738305</td>\n",
       "      <td>AMERICANS FOR PROSPERITY</td>\n",
       "      <td>1306600</td>\n",
       "      <td>654</td>\n",
       "      <td>119027000.0</td>\n",
       "      <td>13140</td>\n",
       "      <td>9058.371385</td>\n",
       "    </tr>\n",
       "    <tr>\n",
       "      <th>6418</th>\n",
       "      <td>AR18441871450492108801</td>\n",
       "      <td>SAM GRAVES VICTORY FUND</td>\n",
       "      <td>2100</td>\n",
       "      <td>7</td>\n",
       "      <td>54000.0</td>\n",
       "      <td>316</td>\n",
       "      <td>170.886076</td>\n",
       "    </tr>\n",
       "  </tbody>\n",
       "</table>\n",
       "<p>6418 rows × 7 columns</p>\n",
       "</div>"
      ],
      "text/plain": [
       "               advertiser_id                         advertiser_name  \\\n",
       "0     AR00000475401340059649                  VINCE LEACH FOR SENATE   \n",
       "1     AR00008638175664668673                TINA SMITH FOR MINNESOTA   \n",
       "2     AR00013006535361822721                NICK LALOTA FOR CONGRESS   \n",
       "3     AR00013986200222171137            VESCOGNI FOR STATES ATTORNEY   \n",
       "4     AR00017645374919409665              DEMOCRATIC PARTY OF OREGON   \n",
       "...                      ...                                     ...   \n",
       "6414  AR18430858742028304385              Rod Honeycutt For Congress   \n",
       "6415  AR18433708676167499777  COMMITTEE TO ELECT MEG LOUGHRAN CAPPEL   \n",
       "6416  AR18434980811120836609                    PEOPLE FOR MARK LUFT   \n",
       "6417  AR18437367850864738305                AMERICANS FOR PROSPERITY   \n",
       "6418  AR18441871450492108801                 SAM GRAVES VICTORY FUND   \n",
       "\n",
       "      total_spend_usd  total_creatives  maximum_impressions  total_day  \\\n",
       "0               10500                5             865000.0        276   \n",
       "1              251500              111            8346000.0       2294   \n",
       "2                3300                3              31000.0        138   \n",
       "3                 400                3               3000.0         41   \n",
       "4                6200                8              84000.0         96   \n",
       "...               ...              ...                  ...        ...   \n",
       "6414             5100                2             176000.0          7   \n",
       "6415             1400               44              44000.0        351   \n",
       "6416             5500                2             200000.0         12   \n",
       "6417          1306600              654          119027000.0      13140   \n",
       "6418             2100                7              54000.0        316   \n",
       "\n",
       "      impressions_per_day  \n",
       "0             3134.057971  \n",
       "1             3638.186574  \n",
       "2              224.637681  \n",
       "3               73.170732  \n",
       "4              875.000000  \n",
       "...                   ...  \n",
       "6414         25142.857143  \n",
       "6415           125.356125  \n",
       "6416         16666.666667  \n",
       "6417          9058.371385  \n",
       "6418           170.886076  \n",
       "\n",
       "[6418 rows x 7 columns]"
      ]
     },
     "execution_count": 124,
     "metadata": {},
     "output_type": "execute_result"
    }
   ],
   "source": [
    "ads_data['impressions_per_day'] = ads_data['maximum_impressions']/ads_data['total_day']\n",
    "ads_data"
   ]
  },
  {
   "cell_type": "code",
   "execution_count": 125,
   "metadata": {},
   "outputs": [
    {
     "data": {
      "text/html": [
       "<div>\n",
       "<style scoped>\n",
       "    .dataframe tbody tr th:only-of-type {\n",
       "        vertical-align: middle;\n",
       "    }\n",
       "\n",
       "    .dataframe tbody tr th {\n",
       "        vertical-align: top;\n",
       "    }\n",
       "\n",
       "    .dataframe thead th {\n",
       "        text-align: right;\n",
       "    }\n",
       "</style>\n",
       "<table border=\"1\" class=\"dataframe\">\n",
       "  <thead>\n",
       "    <tr style=\"text-align: right;\">\n",
       "      <th></th>\n",
       "      <th>advertiser_id</th>\n",
       "      <th>advertiser_name</th>\n",
       "      <th>total_spend_usd</th>\n",
       "      <th>total_creatives</th>\n",
       "      <th>maximum_impressions</th>\n",
       "      <th>total_day</th>\n",
       "      <th>impressions_per_day</th>\n",
       "      <th>impressions_per_ads</th>\n",
       "    </tr>\n",
       "  </thead>\n",
       "  <tbody>\n",
       "    <tr>\n",
       "      <th>0</th>\n",
       "      <td>AR00000475401340059649</td>\n",
       "      <td>VINCE LEACH FOR SENATE</td>\n",
       "      <td>10500</td>\n",
       "      <td>5</td>\n",
       "      <td>865000.0</td>\n",
       "      <td>276</td>\n",
       "      <td>3134.057971</td>\n",
       "      <td>626.811594</td>\n",
       "    </tr>\n",
       "    <tr>\n",
       "      <th>1</th>\n",
       "      <td>AR00008638175664668673</td>\n",
       "      <td>TINA SMITH FOR MINNESOTA</td>\n",
       "      <td>251500</td>\n",
       "      <td>111</td>\n",
       "      <td>8346000.0</td>\n",
       "      <td>2294</td>\n",
       "      <td>3638.186574</td>\n",
       "      <td>32.776456</td>\n",
       "    </tr>\n",
       "    <tr>\n",
       "      <th>2</th>\n",
       "      <td>AR00013006535361822721</td>\n",
       "      <td>NICK LALOTA FOR CONGRESS</td>\n",
       "      <td>3300</td>\n",
       "      <td>3</td>\n",
       "      <td>31000.0</td>\n",
       "      <td>138</td>\n",
       "      <td>224.637681</td>\n",
       "      <td>74.879227</td>\n",
       "    </tr>\n",
       "    <tr>\n",
       "      <th>3</th>\n",
       "      <td>AR00013986200222171137</td>\n",
       "      <td>VESCOGNI FOR STATES ATTORNEY</td>\n",
       "      <td>400</td>\n",
       "      <td>3</td>\n",
       "      <td>3000.0</td>\n",
       "      <td>41</td>\n",
       "      <td>73.170732</td>\n",
       "      <td>24.390244</td>\n",
       "    </tr>\n",
       "    <tr>\n",
       "      <th>4</th>\n",
       "      <td>AR00017645374919409665</td>\n",
       "      <td>DEMOCRATIC PARTY OF OREGON</td>\n",
       "      <td>6200</td>\n",
       "      <td>8</td>\n",
       "      <td>84000.0</td>\n",
       "      <td>96</td>\n",
       "      <td>875.000000</td>\n",
       "      <td>109.375000</td>\n",
       "    </tr>\n",
       "    <tr>\n",
       "      <th>...</th>\n",
       "      <td>...</td>\n",
       "      <td>...</td>\n",
       "      <td>...</td>\n",
       "      <td>...</td>\n",
       "      <td>...</td>\n",
       "      <td>...</td>\n",
       "      <td>...</td>\n",
       "      <td>...</td>\n",
       "    </tr>\n",
       "    <tr>\n",
       "      <th>6414</th>\n",
       "      <td>AR18430858742028304385</td>\n",
       "      <td>Rod Honeycutt For Congress</td>\n",
       "      <td>5100</td>\n",
       "      <td>2</td>\n",
       "      <td>176000.0</td>\n",
       "      <td>7</td>\n",
       "      <td>25142.857143</td>\n",
       "      <td>12571.428571</td>\n",
       "    </tr>\n",
       "    <tr>\n",
       "      <th>6415</th>\n",
       "      <td>AR18433708676167499777</td>\n",
       "      <td>COMMITTEE TO ELECT MEG LOUGHRAN CAPPEL</td>\n",
       "      <td>1400</td>\n",
       "      <td>44</td>\n",
       "      <td>44000.0</td>\n",
       "      <td>351</td>\n",
       "      <td>125.356125</td>\n",
       "      <td>2.849003</td>\n",
       "    </tr>\n",
       "    <tr>\n",
       "      <th>6416</th>\n",
       "      <td>AR18434980811120836609</td>\n",
       "      <td>PEOPLE FOR MARK LUFT</td>\n",
       "      <td>5500</td>\n",
       "      <td>2</td>\n",
       "      <td>200000.0</td>\n",
       "      <td>12</td>\n",
       "      <td>16666.666667</td>\n",
       "      <td>8333.333333</td>\n",
       "    </tr>\n",
       "    <tr>\n",
       "      <th>6417</th>\n",
       "      <td>AR18437367850864738305</td>\n",
       "      <td>AMERICANS FOR PROSPERITY</td>\n",
       "      <td>1306600</td>\n",
       "      <td>654</td>\n",
       "      <td>119027000.0</td>\n",
       "      <td>13140</td>\n",
       "      <td>9058.371385</td>\n",
       "      <td>13.850721</td>\n",
       "    </tr>\n",
       "    <tr>\n",
       "      <th>6418</th>\n",
       "      <td>AR18441871450492108801</td>\n",
       "      <td>SAM GRAVES VICTORY FUND</td>\n",
       "      <td>2100</td>\n",
       "      <td>7</td>\n",
       "      <td>54000.0</td>\n",
       "      <td>316</td>\n",
       "      <td>170.886076</td>\n",
       "      <td>24.412297</td>\n",
       "    </tr>\n",
       "  </tbody>\n",
       "</table>\n",
       "<p>6418 rows × 8 columns</p>\n",
       "</div>"
      ],
      "text/plain": [
       "               advertiser_id                         advertiser_name  \\\n",
       "0     AR00000475401340059649                  VINCE LEACH FOR SENATE   \n",
       "1     AR00008638175664668673                TINA SMITH FOR MINNESOTA   \n",
       "2     AR00013006535361822721                NICK LALOTA FOR CONGRESS   \n",
       "3     AR00013986200222171137            VESCOGNI FOR STATES ATTORNEY   \n",
       "4     AR00017645374919409665              DEMOCRATIC PARTY OF OREGON   \n",
       "...                      ...                                     ...   \n",
       "6414  AR18430858742028304385              Rod Honeycutt For Congress   \n",
       "6415  AR18433708676167499777  COMMITTEE TO ELECT MEG LOUGHRAN CAPPEL   \n",
       "6416  AR18434980811120836609                    PEOPLE FOR MARK LUFT   \n",
       "6417  AR18437367850864738305                AMERICANS FOR PROSPERITY   \n",
       "6418  AR18441871450492108801                 SAM GRAVES VICTORY FUND   \n",
       "\n",
       "      total_spend_usd  total_creatives  maximum_impressions  total_day  \\\n",
       "0               10500                5             865000.0        276   \n",
       "1              251500              111            8346000.0       2294   \n",
       "2                3300                3              31000.0        138   \n",
       "3                 400                3               3000.0         41   \n",
       "4                6200                8              84000.0         96   \n",
       "...               ...              ...                  ...        ...   \n",
       "6414             5100                2             176000.0          7   \n",
       "6415             1400               44              44000.0        351   \n",
       "6416             5500                2             200000.0         12   \n",
       "6417          1306600              654          119027000.0      13140   \n",
       "6418             2100                7              54000.0        316   \n",
       "\n",
       "      impressions_per_day  impressions_per_ads  \n",
       "0             3134.057971           626.811594  \n",
       "1             3638.186574            32.776456  \n",
       "2              224.637681            74.879227  \n",
       "3               73.170732            24.390244  \n",
       "4              875.000000           109.375000  \n",
       "...                   ...                  ...  \n",
       "6414         25142.857143         12571.428571  \n",
       "6415           125.356125             2.849003  \n",
       "6416         16666.666667          8333.333333  \n",
       "6417          9058.371385            13.850721  \n",
       "6418           170.886076            24.412297  \n",
       "\n",
       "[6418 rows x 8 columns]"
      ]
     },
     "execution_count": 125,
     "metadata": {},
     "output_type": "execute_result"
    }
   ],
   "source": [
    "ads_data['impressions_per_ads'] = ads_data['impressions_per_day']/ads_data['total_creatives']\n",
    "ads_data"
   ]
  },
  {
   "cell_type": "markdown",
   "metadata": {},
   "source": [
    "Lalu menambah column baru yang berisikan tentang seberapa banyak impression yang didapatkan dalam 1 hari dengan pengeluaran 1 dolar dengan membagikan column impression_per_ads (yang dimana ini sudah dibagi dengan per hari dan per 1 ads) dengan total_spend (total spend ini sudah total dari jumlah ads dan jumlah hari nya)."
   ]
  },
  {
   "cell_type": "code",
   "execution_count": 126,
   "metadata": {},
   "outputs": [
    {
     "data": {
      "text/html": [
       "<div>\n",
       "<style scoped>\n",
       "    .dataframe tbody tr th:only-of-type {\n",
       "        vertical-align: middle;\n",
       "    }\n",
       "\n",
       "    .dataframe tbody tr th {\n",
       "        vertical-align: top;\n",
       "    }\n",
       "\n",
       "    .dataframe thead th {\n",
       "        text-align: right;\n",
       "    }\n",
       "</style>\n",
       "<table border=\"1\" class=\"dataframe\">\n",
       "  <thead>\n",
       "    <tr style=\"text-align: right;\">\n",
       "      <th></th>\n",
       "      <th>advertiser_id</th>\n",
       "      <th>advertiser_name</th>\n",
       "      <th>total_spend_usd</th>\n",
       "      <th>total_creatives</th>\n",
       "      <th>maximum_impressions</th>\n",
       "      <th>total_day</th>\n",
       "      <th>impressions_per_day</th>\n",
       "      <th>impressions_per_ads</th>\n",
       "      <th>impressions_per_spend</th>\n",
       "    </tr>\n",
       "  </thead>\n",
       "  <tbody>\n",
       "    <tr>\n",
       "      <th>0</th>\n",
       "      <td>AR00000475401340059649</td>\n",
       "      <td>VINCE LEACH FOR SENATE</td>\n",
       "      <td>10500</td>\n",
       "      <td>5</td>\n",
       "      <td>865000.0</td>\n",
       "      <td>276</td>\n",
       "      <td>3134.057971</td>\n",
       "      <td>626.811594</td>\n",
       "      <td>0.059696</td>\n",
       "    </tr>\n",
       "    <tr>\n",
       "      <th>1</th>\n",
       "      <td>AR00008638175664668673</td>\n",
       "      <td>TINA SMITH FOR MINNESOTA</td>\n",
       "      <td>251500</td>\n",
       "      <td>111</td>\n",
       "      <td>8346000.0</td>\n",
       "      <td>2294</td>\n",
       "      <td>3638.186574</td>\n",
       "      <td>32.776456</td>\n",
       "      <td>0.000130</td>\n",
       "    </tr>\n",
       "    <tr>\n",
       "      <th>2</th>\n",
       "      <td>AR00013006535361822721</td>\n",
       "      <td>NICK LALOTA FOR CONGRESS</td>\n",
       "      <td>3300</td>\n",
       "      <td>3</td>\n",
       "      <td>31000.0</td>\n",
       "      <td>138</td>\n",
       "      <td>224.637681</td>\n",
       "      <td>74.879227</td>\n",
       "      <td>0.022691</td>\n",
       "    </tr>\n",
       "    <tr>\n",
       "      <th>3</th>\n",
       "      <td>AR00013986200222171137</td>\n",
       "      <td>VESCOGNI FOR STATES ATTORNEY</td>\n",
       "      <td>400</td>\n",
       "      <td>3</td>\n",
       "      <td>3000.0</td>\n",
       "      <td>41</td>\n",
       "      <td>73.170732</td>\n",
       "      <td>24.390244</td>\n",
       "      <td>0.060976</td>\n",
       "    </tr>\n",
       "    <tr>\n",
       "      <th>4</th>\n",
       "      <td>AR00017645374919409665</td>\n",
       "      <td>DEMOCRATIC PARTY OF OREGON</td>\n",
       "      <td>6200</td>\n",
       "      <td>8</td>\n",
       "      <td>84000.0</td>\n",
       "      <td>96</td>\n",
       "      <td>875.000000</td>\n",
       "      <td>109.375000</td>\n",
       "      <td>0.017641</td>\n",
       "    </tr>\n",
       "    <tr>\n",
       "      <th>...</th>\n",
       "      <td>...</td>\n",
       "      <td>...</td>\n",
       "      <td>...</td>\n",
       "      <td>...</td>\n",
       "      <td>...</td>\n",
       "      <td>...</td>\n",
       "      <td>...</td>\n",
       "      <td>...</td>\n",
       "      <td>...</td>\n",
       "    </tr>\n",
       "    <tr>\n",
       "      <th>6414</th>\n",
       "      <td>AR18430858742028304385</td>\n",
       "      <td>Rod Honeycutt For Congress</td>\n",
       "      <td>5100</td>\n",
       "      <td>2</td>\n",
       "      <td>176000.0</td>\n",
       "      <td>7</td>\n",
       "      <td>25142.857143</td>\n",
       "      <td>12571.428571</td>\n",
       "      <td>2.464986</td>\n",
       "    </tr>\n",
       "    <tr>\n",
       "      <th>6415</th>\n",
       "      <td>AR18433708676167499777</td>\n",
       "      <td>COMMITTEE TO ELECT MEG LOUGHRAN CAPPEL</td>\n",
       "      <td>1400</td>\n",
       "      <td>44</td>\n",
       "      <td>44000.0</td>\n",
       "      <td>351</td>\n",
       "      <td>125.356125</td>\n",
       "      <td>2.849003</td>\n",
       "      <td>0.002035</td>\n",
       "    </tr>\n",
       "    <tr>\n",
       "      <th>6416</th>\n",
       "      <td>AR18434980811120836609</td>\n",
       "      <td>PEOPLE FOR MARK LUFT</td>\n",
       "      <td>5500</td>\n",
       "      <td>2</td>\n",
       "      <td>200000.0</td>\n",
       "      <td>12</td>\n",
       "      <td>16666.666667</td>\n",
       "      <td>8333.333333</td>\n",
       "      <td>1.515152</td>\n",
       "    </tr>\n",
       "    <tr>\n",
       "      <th>6417</th>\n",
       "      <td>AR18437367850864738305</td>\n",
       "      <td>AMERICANS FOR PROSPERITY</td>\n",
       "      <td>1306600</td>\n",
       "      <td>654</td>\n",
       "      <td>119027000.0</td>\n",
       "      <td>13140</td>\n",
       "      <td>9058.371385</td>\n",
       "      <td>13.850721</td>\n",
       "      <td>0.000011</td>\n",
       "    </tr>\n",
       "    <tr>\n",
       "      <th>6418</th>\n",
       "      <td>AR18441871450492108801</td>\n",
       "      <td>SAM GRAVES VICTORY FUND</td>\n",
       "      <td>2100</td>\n",
       "      <td>7</td>\n",
       "      <td>54000.0</td>\n",
       "      <td>316</td>\n",
       "      <td>170.886076</td>\n",
       "      <td>24.412297</td>\n",
       "      <td>0.011625</td>\n",
       "    </tr>\n",
       "  </tbody>\n",
       "</table>\n",
       "<p>6418 rows × 9 columns</p>\n",
       "</div>"
      ],
      "text/plain": [
       "               advertiser_id                         advertiser_name  \\\n",
       "0     AR00000475401340059649                  VINCE LEACH FOR SENATE   \n",
       "1     AR00008638175664668673                TINA SMITH FOR MINNESOTA   \n",
       "2     AR00013006535361822721                NICK LALOTA FOR CONGRESS   \n",
       "3     AR00013986200222171137            VESCOGNI FOR STATES ATTORNEY   \n",
       "4     AR00017645374919409665              DEMOCRATIC PARTY OF OREGON   \n",
       "...                      ...                                     ...   \n",
       "6414  AR18430858742028304385              Rod Honeycutt For Congress   \n",
       "6415  AR18433708676167499777  COMMITTEE TO ELECT MEG LOUGHRAN CAPPEL   \n",
       "6416  AR18434980811120836609                    PEOPLE FOR MARK LUFT   \n",
       "6417  AR18437367850864738305                AMERICANS FOR PROSPERITY   \n",
       "6418  AR18441871450492108801                 SAM GRAVES VICTORY FUND   \n",
       "\n",
       "      total_spend_usd  total_creatives  maximum_impressions  total_day  \\\n",
       "0               10500                5             865000.0        276   \n",
       "1              251500              111            8346000.0       2294   \n",
       "2                3300                3              31000.0        138   \n",
       "3                 400                3               3000.0         41   \n",
       "4                6200                8              84000.0         96   \n",
       "...               ...              ...                  ...        ...   \n",
       "6414             5100                2             176000.0          7   \n",
       "6415             1400               44              44000.0        351   \n",
       "6416             5500                2             200000.0         12   \n",
       "6417          1306600              654          119027000.0      13140   \n",
       "6418             2100                7              54000.0        316   \n",
       "\n",
       "      impressions_per_day  impressions_per_ads  impressions_per_spend  \n",
       "0             3134.057971           626.811594               0.059696  \n",
       "1             3638.186574            32.776456               0.000130  \n",
       "2              224.637681            74.879227               0.022691  \n",
       "3               73.170732            24.390244               0.060976  \n",
       "4              875.000000           109.375000               0.017641  \n",
       "...                   ...                  ...                    ...  \n",
       "6414         25142.857143         12571.428571               2.464986  \n",
       "6415           125.356125             2.849003               0.002035  \n",
       "6416         16666.666667          8333.333333               1.515152  \n",
       "6417          9058.371385            13.850721               0.000011  \n",
       "6418           170.886076            24.412297               0.011625  \n",
       "\n",
       "[6418 rows x 9 columns]"
      ]
     },
     "execution_count": 126,
     "metadata": {},
     "output_type": "execute_result"
    }
   ],
   "source": [
    "ads_data['impressions_per_spend'] = ads_data['impressions_per_ads']/ads_data['total_spend_usd']\n",
    "ads_data"
   ]
  },
  {
   "cell_type": "markdown",
   "metadata": {},
   "source": [
    "Membuat colum baru berisikan info terkait sebara banyak usd yang dikeluarkan dalam membuat 1 iklan per 1 hari dengan formula total_spend_usd / (total_creatives)*(total_day)"
   ]
  },
  {
   "cell_type": "code",
   "execution_count": 127,
   "metadata": {},
   "outputs": [
    {
     "data": {
      "text/html": [
       "<div>\n",
       "<style scoped>\n",
       "    .dataframe tbody tr th:only-of-type {\n",
       "        vertical-align: middle;\n",
       "    }\n",
       "\n",
       "    .dataframe tbody tr th {\n",
       "        vertical-align: top;\n",
       "    }\n",
       "\n",
       "    .dataframe thead th {\n",
       "        text-align: right;\n",
       "    }\n",
       "</style>\n",
       "<table border=\"1\" class=\"dataframe\">\n",
       "  <thead>\n",
       "    <tr style=\"text-align: right;\">\n",
       "      <th></th>\n",
       "      <th>advertiser_id</th>\n",
       "      <th>advertiser_name</th>\n",
       "      <th>total_spend_usd</th>\n",
       "      <th>total_creatives</th>\n",
       "      <th>maximum_impressions</th>\n",
       "      <th>total_day</th>\n",
       "      <th>impressions_per_day</th>\n",
       "      <th>impressions_per_ads</th>\n",
       "      <th>impressions_per_spend</th>\n",
       "      <th>usd_per_ads_day</th>\n",
       "    </tr>\n",
       "  </thead>\n",
       "  <tbody>\n",
       "    <tr>\n",
       "      <th>0</th>\n",
       "      <td>AR00000475401340059649</td>\n",
       "      <td>VINCE LEACH FOR SENATE</td>\n",
       "      <td>10500</td>\n",
       "      <td>5</td>\n",
       "      <td>865000.0</td>\n",
       "      <td>276</td>\n",
       "      <td>3134.057971</td>\n",
       "      <td>626.811594</td>\n",
       "      <td>0.059696</td>\n",
       "      <td>7.608696</td>\n",
       "    </tr>\n",
       "    <tr>\n",
       "      <th>1</th>\n",
       "      <td>AR00008638175664668673</td>\n",
       "      <td>TINA SMITH FOR MINNESOTA</td>\n",
       "      <td>251500</td>\n",
       "      <td>111</td>\n",
       "      <td>8346000.0</td>\n",
       "      <td>2294</td>\n",
       "      <td>3638.186574</td>\n",
       "      <td>32.776456</td>\n",
       "      <td>0.000130</td>\n",
       "      <td>0.987692</td>\n",
       "    </tr>\n",
       "    <tr>\n",
       "      <th>2</th>\n",
       "      <td>AR00013006535361822721</td>\n",
       "      <td>NICK LALOTA FOR CONGRESS</td>\n",
       "      <td>3300</td>\n",
       "      <td>3</td>\n",
       "      <td>31000.0</td>\n",
       "      <td>138</td>\n",
       "      <td>224.637681</td>\n",
       "      <td>74.879227</td>\n",
       "      <td>0.022691</td>\n",
       "      <td>7.971014</td>\n",
       "    </tr>\n",
       "    <tr>\n",
       "      <th>3</th>\n",
       "      <td>AR00013986200222171137</td>\n",
       "      <td>VESCOGNI FOR STATES ATTORNEY</td>\n",
       "      <td>400</td>\n",
       "      <td>3</td>\n",
       "      <td>3000.0</td>\n",
       "      <td>41</td>\n",
       "      <td>73.170732</td>\n",
       "      <td>24.390244</td>\n",
       "      <td>0.060976</td>\n",
       "      <td>3.252033</td>\n",
       "    </tr>\n",
       "    <tr>\n",
       "      <th>4</th>\n",
       "      <td>AR00017645374919409665</td>\n",
       "      <td>DEMOCRATIC PARTY OF OREGON</td>\n",
       "      <td>6200</td>\n",
       "      <td>8</td>\n",
       "      <td>84000.0</td>\n",
       "      <td>96</td>\n",
       "      <td>875.000000</td>\n",
       "      <td>109.375000</td>\n",
       "      <td>0.017641</td>\n",
       "      <td>8.072917</td>\n",
       "    </tr>\n",
       "    <tr>\n",
       "      <th>...</th>\n",
       "      <td>...</td>\n",
       "      <td>...</td>\n",
       "      <td>...</td>\n",
       "      <td>...</td>\n",
       "      <td>...</td>\n",
       "      <td>...</td>\n",
       "      <td>...</td>\n",
       "      <td>...</td>\n",
       "      <td>...</td>\n",
       "      <td>...</td>\n",
       "    </tr>\n",
       "    <tr>\n",
       "      <th>6414</th>\n",
       "      <td>AR18430858742028304385</td>\n",
       "      <td>Rod Honeycutt For Congress</td>\n",
       "      <td>5100</td>\n",
       "      <td>2</td>\n",
       "      <td>176000.0</td>\n",
       "      <td>7</td>\n",
       "      <td>25142.857143</td>\n",
       "      <td>12571.428571</td>\n",
       "      <td>2.464986</td>\n",
       "      <td>364.285714</td>\n",
       "    </tr>\n",
       "    <tr>\n",
       "      <th>6415</th>\n",
       "      <td>AR18433708676167499777</td>\n",
       "      <td>COMMITTEE TO ELECT MEG LOUGHRAN CAPPEL</td>\n",
       "      <td>1400</td>\n",
       "      <td>44</td>\n",
       "      <td>44000.0</td>\n",
       "      <td>351</td>\n",
       "      <td>125.356125</td>\n",
       "      <td>2.849003</td>\n",
       "      <td>0.002035</td>\n",
       "      <td>0.090650</td>\n",
       "    </tr>\n",
       "    <tr>\n",
       "      <th>6416</th>\n",
       "      <td>AR18434980811120836609</td>\n",
       "      <td>PEOPLE FOR MARK LUFT</td>\n",
       "      <td>5500</td>\n",
       "      <td>2</td>\n",
       "      <td>200000.0</td>\n",
       "      <td>12</td>\n",
       "      <td>16666.666667</td>\n",
       "      <td>8333.333333</td>\n",
       "      <td>1.515152</td>\n",
       "      <td>229.166667</td>\n",
       "    </tr>\n",
       "    <tr>\n",
       "      <th>6417</th>\n",
       "      <td>AR18437367850864738305</td>\n",
       "      <td>AMERICANS FOR PROSPERITY</td>\n",
       "      <td>1306600</td>\n",
       "      <td>654</td>\n",
       "      <td>119027000.0</td>\n",
       "      <td>13140</td>\n",
       "      <td>9058.371385</td>\n",
       "      <td>13.850721</td>\n",
       "      <td>0.000011</td>\n",
       "      <td>0.152044</td>\n",
       "    </tr>\n",
       "    <tr>\n",
       "      <th>6418</th>\n",
       "      <td>AR18441871450492108801</td>\n",
       "      <td>SAM GRAVES VICTORY FUND</td>\n",
       "      <td>2100</td>\n",
       "      <td>7</td>\n",
       "      <td>54000.0</td>\n",
       "      <td>316</td>\n",
       "      <td>170.886076</td>\n",
       "      <td>24.412297</td>\n",
       "      <td>0.011625</td>\n",
       "      <td>0.949367</td>\n",
       "    </tr>\n",
       "  </tbody>\n",
       "</table>\n",
       "<p>6418 rows × 10 columns</p>\n",
       "</div>"
      ],
      "text/plain": [
       "               advertiser_id                         advertiser_name  \\\n",
       "0     AR00000475401340059649                  VINCE LEACH FOR SENATE   \n",
       "1     AR00008638175664668673                TINA SMITH FOR MINNESOTA   \n",
       "2     AR00013006535361822721                NICK LALOTA FOR CONGRESS   \n",
       "3     AR00013986200222171137            VESCOGNI FOR STATES ATTORNEY   \n",
       "4     AR00017645374919409665              DEMOCRATIC PARTY OF OREGON   \n",
       "...                      ...                                     ...   \n",
       "6414  AR18430858742028304385              Rod Honeycutt For Congress   \n",
       "6415  AR18433708676167499777  COMMITTEE TO ELECT MEG LOUGHRAN CAPPEL   \n",
       "6416  AR18434980811120836609                    PEOPLE FOR MARK LUFT   \n",
       "6417  AR18437367850864738305                AMERICANS FOR PROSPERITY   \n",
       "6418  AR18441871450492108801                 SAM GRAVES VICTORY FUND   \n",
       "\n",
       "      total_spend_usd  total_creatives  maximum_impressions  total_day  \\\n",
       "0               10500                5             865000.0        276   \n",
       "1              251500              111            8346000.0       2294   \n",
       "2                3300                3              31000.0        138   \n",
       "3                 400                3               3000.0         41   \n",
       "4                6200                8              84000.0         96   \n",
       "...               ...              ...                  ...        ...   \n",
       "6414             5100                2             176000.0          7   \n",
       "6415             1400               44              44000.0        351   \n",
       "6416             5500                2             200000.0         12   \n",
       "6417          1306600              654          119027000.0      13140   \n",
       "6418             2100                7              54000.0        316   \n",
       "\n",
       "      impressions_per_day  impressions_per_ads  impressions_per_spend  \\\n",
       "0             3134.057971           626.811594               0.059696   \n",
       "1             3638.186574            32.776456               0.000130   \n",
       "2              224.637681            74.879227               0.022691   \n",
       "3               73.170732            24.390244               0.060976   \n",
       "4              875.000000           109.375000               0.017641   \n",
       "...                   ...                  ...                    ...   \n",
       "6414         25142.857143         12571.428571               2.464986   \n",
       "6415           125.356125             2.849003               0.002035   \n",
       "6416         16666.666667          8333.333333               1.515152   \n",
       "6417          9058.371385            13.850721               0.000011   \n",
       "6418           170.886076            24.412297               0.011625   \n",
       "\n",
       "      usd_per_ads_day  \n",
       "0            7.608696  \n",
       "1            0.987692  \n",
       "2            7.971014  \n",
       "3            3.252033  \n",
       "4            8.072917  \n",
       "...               ...  \n",
       "6414       364.285714  \n",
       "6415         0.090650  \n",
       "6416       229.166667  \n",
       "6417         0.152044  \n",
       "6418         0.949367  \n",
       "\n",
       "[6418 rows x 10 columns]"
      ]
     },
     "execution_count": 127,
     "metadata": {},
     "output_type": "execute_result"
    }
   ],
   "source": [
    "ads_data['usd_per_ads_day'] = ads_data['total_spend_usd']/(ads_data['total_creatives']*ads_data['total_day'])\n",
    "ads_data"
   ]
  },
  {
   "cell_type": "code",
   "execution_count": 128,
   "metadata": {},
   "outputs": [
    {
     "data": {
      "text/html": [
       "<div>\n",
       "<style scoped>\n",
       "    .dataframe tbody tr th:only-of-type {\n",
       "        vertical-align: middle;\n",
       "    }\n",
       "\n",
       "    .dataframe tbody tr th {\n",
       "        vertical-align: top;\n",
       "    }\n",
       "\n",
       "    .dataframe thead th {\n",
       "        text-align: right;\n",
       "    }\n",
       "</style>\n",
       "<table border=\"1\" class=\"dataframe\">\n",
       "  <thead>\n",
       "    <tr style=\"text-align: right;\">\n",
       "      <th></th>\n",
       "      <th>advertiser_id</th>\n",
       "      <th>advertiser_name</th>\n",
       "      <th>total_spend_usd</th>\n",
       "      <th>total_creatives</th>\n",
       "      <th>maximum_impressions</th>\n",
       "      <th>total_day</th>\n",
       "      <th>impressions_per_day</th>\n",
       "      <th>impressions_per_ads</th>\n",
       "      <th>impressions_per_spend</th>\n",
       "      <th>usd_per_ads_day</th>\n",
       "    </tr>\n",
       "  </thead>\n",
       "  <tbody>\n",
       "    <tr>\n",
       "      <th>167</th>\n",
       "      <td>AR00419310166685515777</td>\n",
       "      <td>VOTERS FOR TRUTH PC</td>\n",
       "      <td>0</td>\n",
       "      <td>1</td>\n",
       "      <td>1000.0</td>\n",
       "      <td>1</td>\n",
       "      <td>1000.000000</td>\n",
       "      <td>1000.000000</td>\n",
       "      <td>inf</td>\n",
       "      <td>0.0</td>\n",
       "    </tr>\n",
       "    <tr>\n",
       "      <th>174</th>\n",
       "      <td>AR00446859530031071233</td>\n",
       "      <td>Hoopes 2022</td>\n",
       "      <td>0</td>\n",
       "      <td>7</td>\n",
       "      <td>7000.0</td>\n",
       "      <td>34</td>\n",
       "      <td>205.882353</td>\n",
       "      <td>29.411765</td>\n",
       "      <td>inf</td>\n",
       "      <td>0.0</td>\n",
       "    </tr>\n",
       "    <tr>\n",
       "      <th>319</th>\n",
       "      <td>AR00860662930167824385</td>\n",
       "      <td>INDABA APPLICATION NETWORK</td>\n",
       "      <td>0</td>\n",
       "      <td>1</td>\n",
       "      <td>1000.0</td>\n",
       "      <td>4</td>\n",
       "      <td>250.000000</td>\n",
       "      <td>250.000000</td>\n",
       "      <td>inf</td>\n",
       "      <td>0.0</td>\n",
       "    </tr>\n",
       "    <tr>\n",
       "      <th>518</th>\n",
       "      <td>AR01392087686197542913</td>\n",
       "      <td>JENNIFER BARBOSA FOR CONGRESS</td>\n",
       "      <td>0</td>\n",
       "      <td>1</td>\n",
       "      <td>1000.0</td>\n",
       "      <td>1</td>\n",
       "      <td>1000.000000</td>\n",
       "      <td>1000.000000</td>\n",
       "      <td>inf</td>\n",
       "      <td>0.0</td>\n",
       "    </tr>\n",
       "    <tr>\n",
       "      <th>556</th>\n",
       "      <td>AR01491166877999693825</td>\n",
       "      <td>UNDERLY FOR WI</td>\n",
       "      <td>0</td>\n",
       "      <td>1</td>\n",
       "      <td>1000.0</td>\n",
       "      <td>5</td>\n",
       "      <td>200.000000</td>\n",
       "      <td>200.000000</td>\n",
       "      <td>inf</td>\n",
       "      <td>0.0</td>\n",
       "    </tr>\n",
       "    <tr>\n",
       "      <th>587</th>\n",
       "      <td>AR01586518175627870209</td>\n",
       "      <td>ISLAND RICHARDS FOR COMMISSIONER</td>\n",
       "      <td>0</td>\n",
       "      <td>1</td>\n",
       "      <td>1000.0</td>\n",
       "      <td>2</td>\n",
       "      <td>500.000000</td>\n",
       "      <td>500.000000</td>\n",
       "      <td>inf</td>\n",
       "      <td>0.0</td>\n",
       "    </tr>\n",
       "    <tr>\n",
       "      <th>896</th>\n",
       "      <td>AR02531863704660606977</td>\n",
       "      <td>FOCUS ON WHITPAIN</td>\n",
       "      <td>0</td>\n",
       "      <td>1</td>\n",
       "      <td>1000.0</td>\n",
       "      <td>1</td>\n",
       "      <td>1000.000000</td>\n",
       "      <td>1000.000000</td>\n",
       "      <td>inf</td>\n",
       "      <td>0.0</td>\n",
       "    </tr>\n",
       "    <tr>\n",
       "      <th>1406</th>\n",
       "      <td>AR03968511985791795201</td>\n",
       "      <td>Empower Northeast Denver</td>\n",
       "      <td>0</td>\n",
       "      <td>1</td>\n",
       "      <td>1000.0</td>\n",
       "      <td>1</td>\n",
       "      <td>1000.000000</td>\n",
       "      <td>1000.000000</td>\n",
       "      <td>inf</td>\n",
       "      <td>0.0</td>\n",
       "    </tr>\n",
       "    <tr>\n",
       "      <th>1932</th>\n",
       "      <td>AR05497118746545750017</td>\n",
       "      <td>CARR FOR DELEGATE</td>\n",
       "      <td>0</td>\n",
       "      <td>1</td>\n",
       "      <td>1000.0</td>\n",
       "      <td>1</td>\n",
       "      <td>1000.000000</td>\n",
       "      <td>1000.000000</td>\n",
       "      <td>inf</td>\n",
       "      <td>0.0</td>\n",
       "    </tr>\n",
       "    <tr>\n",
       "      <th>2477</th>\n",
       "      <td>AR06993778922076766209</td>\n",
       "      <td>CAMPAIGN FUND OF SHARPE ELECTION COMMITTEE</td>\n",
       "      <td>0</td>\n",
       "      <td>1</td>\n",
       "      <td>1000.0</td>\n",
       "      <td>2</td>\n",
       "      <td>500.000000</td>\n",
       "      <td>500.000000</td>\n",
       "      <td>inf</td>\n",
       "      <td>0.0</td>\n",
       "    </tr>\n",
       "    <tr>\n",
       "      <th>2497</th>\n",
       "      <td>AR07048608818174885889</td>\n",
       "      <td>JEFFREY D. PARKER</td>\n",
       "      <td>0</td>\n",
       "      <td>1</td>\n",
       "      <td>1000.0</td>\n",
       "      <td>1</td>\n",
       "      <td>1000.000000</td>\n",
       "      <td>1000.000000</td>\n",
       "      <td>inf</td>\n",
       "      <td>0.0</td>\n",
       "    </tr>\n",
       "    <tr>\n",
       "      <th>2640</th>\n",
       "      <td>AR07424659387060322305</td>\n",
       "      <td>DORA WILSON FOR SCHOOL BOARD</td>\n",
       "      <td>0</td>\n",
       "      <td>1</td>\n",
       "      <td>1000.0</td>\n",
       "      <td>5</td>\n",
       "      <td>200.000000</td>\n",
       "      <td>200.000000</td>\n",
       "      <td>inf</td>\n",
       "      <td>0.0</td>\n",
       "    </tr>\n",
       "    <tr>\n",
       "      <th>2834</th>\n",
       "      <td>AR08003371939177431041</td>\n",
       "      <td>A UNITED HOUSTON</td>\n",
       "      <td>0</td>\n",
       "      <td>1</td>\n",
       "      <td>1000.0</td>\n",
       "      <td>1</td>\n",
       "      <td>1000.000000</td>\n",
       "      <td>1000.000000</td>\n",
       "      <td>inf</td>\n",
       "      <td>0.0</td>\n",
       "    </tr>\n",
       "    <tr>\n",
       "      <th>2844</th>\n",
       "      <td>AR08034052711638892545</td>\n",
       "      <td>MARIJUANA POLICY PROJECT FOUNDATION</td>\n",
       "      <td>0</td>\n",
       "      <td>1</td>\n",
       "      <td>1000.0</td>\n",
       "      <td>1</td>\n",
       "      <td>1000.000000</td>\n",
       "      <td>1000.000000</td>\n",
       "      <td>inf</td>\n",
       "      <td>0.0</td>\n",
       "    </tr>\n",
       "    <tr>\n",
       "      <th>2850</th>\n",
       "      <td>AR08058906347351048193</td>\n",
       "      <td>ELM ACTION FUND INDEPENDENT EXPENDITURE POLITI...</td>\n",
       "      <td>0</td>\n",
       "      <td>1</td>\n",
       "      <td>1000.0</td>\n",
       "      <td>14</td>\n",
       "      <td>71.428571</td>\n",
       "      <td>71.428571</td>\n",
       "      <td>inf</td>\n",
       "      <td>0.0</td>\n",
       "    </tr>\n",
       "    <tr>\n",
       "      <th>2916</th>\n",
       "      <td>AR08251069918682808321</td>\n",
       "      <td>CTE TAMMY T. PATTON</td>\n",
       "      <td>0</td>\n",
       "      <td>1</td>\n",
       "      <td>1000.0</td>\n",
       "      <td>5</td>\n",
       "      <td>200.000000</td>\n",
       "      <td>200.000000</td>\n",
       "      <td>inf</td>\n",
       "      <td>0.0</td>\n",
       "    </tr>\n",
       "    <tr>\n",
       "      <th>3293</th>\n",
       "      <td>AR09309415831114874881</td>\n",
       "      <td>GREITENS FOR MISSOURI</td>\n",
       "      <td>0</td>\n",
       "      <td>2</td>\n",
       "      <td>2000.0</td>\n",
       "      <td>6</td>\n",
       "      <td>333.333333</td>\n",
       "      <td>166.666667</td>\n",
       "      <td>inf</td>\n",
       "      <td>0.0</td>\n",
       "    </tr>\n",
       "    <tr>\n",
       "      <th>3522</th>\n",
       "      <td>AR10018732772425728001</td>\n",
       "      <td>Duan &amp; Lopatka CPA's PC</td>\n",
       "      <td>0</td>\n",
       "      <td>3</td>\n",
       "      <td>3000.0</td>\n",
       "      <td>3</td>\n",
       "      <td>1000.000000</td>\n",
       "      <td>333.333333</td>\n",
       "      <td>inf</td>\n",
       "      <td>0.0</td>\n",
       "    </tr>\n",
       "    <tr>\n",
       "      <th>3565</th>\n",
       "      <td>AR10178610559197380609</td>\n",
       "      <td>COMMITTEE TO ELECT WENDE SCHWINGENDORF</td>\n",
       "      <td>0</td>\n",
       "      <td>1</td>\n",
       "      <td>1000.0</td>\n",
       "      <td>4</td>\n",
       "      <td>250.000000</td>\n",
       "      <td>250.000000</td>\n",
       "      <td>inf</td>\n",
       "      <td>0.0</td>\n",
       "    </tr>\n",
       "    <tr>\n",
       "      <th>3846</th>\n",
       "      <td>AR10987765905089363969</td>\n",
       "      <td>JENNIFER LEEPER 2022</td>\n",
       "      <td>0</td>\n",
       "      <td>1</td>\n",
       "      <td>1000.0</td>\n",
       "      <td>1</td>\n",
       "      <td>1000.000000</td>\n",
       "      <td>1000.000000</td>\n",
       "      <td>inf</td>\n",
       "      <td>0.0</td>\n",
       "    </tr>\n",
       "    <tr>\n",
       "      <th>4454</th>\n",
       "      <td>AR12740855281961926657</td>\n",
       "      <td>American Health Care Association</td>\n",
       "      <td>0</td>\n",
       "      <td>1</td>\n",
       "      <td>1000.0</td>\n",
       "      <td>9</td>\n",
       "      <td>111.111111</td>\n",
       "      <td>111.111111</td>\n",
       "      <td>inf</td>\n",
       "      <td>0.0</td>\n",
       "    </tr>\n",
       "    <tr>\n",
       "      <th>4772</th>\n",
       "      <td>AR13709432667055849473</td>\n",
       "      <td>TIDES ADVOCACY</td>\n",
       "      <td>0</td>\n",
       "      <td>1</td>\n",
       "      <td>1000.0</td>\n",
       "      <td>1</td>\n",
       "      <td>1000.000000</td>\n",
       "      <td>1000.000000</td>\n",
       "      <td>inf</td>\n",
       "      <td>0.0</td>\n",
       "    </tr>\n",
       "    <tr>\n",
       "      <th>4845</th>\n",
       "      <td>AR13939116248051744769</td>\n",
       "      <td>ALASKA DEMOCRATIC PARTY</td>\n",
       "      <td>0</td>\n",
       "      <td>1</td>\n",
       "      <td>1000.0</td>\n",
       "      <td>2</td>\n",
       "      <td>500.000000</td>\n",
       "      <td>500.000000</td>\n",
       "      <td>inf</td>\n",
       "      <td>0.0</td>\n",
       "    </tr>\n",
       "    <tr>\n",
       "      <th>5168</th>\n",
       "      <td>AR14808310976134250497</td>\n",
       "      <td>ROBERT4HD17</td>\n",
       "      <td>0</td>\n",
       "      <td>4</td>\n",
       "      <td>4000.0</td>\n",
       "      <td>9</td>\n",
       "      <td>444.444444</td>\n",
       "      <td>111.111111</td>\n",
       "      <td>inf</td>\n",
       "      <td>0.0</td>\n",
       "    </tr>\n",
       "    <tr>\n",
       "      <th>5247</th>\n",
       "      <td>AR15043025922338848769</td>\n",
       "      <td>JIM PRESSEL FRIENDS OF</td>\n",
       "      <td>0</td>\n",
       "      <td>1</td>\n",
       "      <td>1000.0</td>\n",
       "      <td>2</td>\n",
       "      <td>500.000000</td>\n",
       "      <td>500.000000</td>\n",
       "      <td>inf</td>\n",
       "      <td>0.0</td>\n",
       "    </tr>\n",
       "    <tr>\n",
       "      <th>5292</th>\n",
       "      <td>AR15167754521393758209</td>\n",
       "      <td>ONEWHISTLE INC</td>\n",
       "      <td>0</td>\n",
       "      <td>2</td>\n",
       "      <td>2000.0</td>\n",
       "      <td>3</td>\n",
       "      <td>666.666667</td>\n",
       "      <td>333.333333</td>\n",
       "      <td>inf</td>\n",
       "      <td>0.0</td>\n",
       "    </tr>\n",
       "    <tr>\n",
       "      <th>5588</th>\n",
       "      <td>AR16022085501536174081</td>\n",
       "      <td>FRIENDS OF SANDY NEWSOME</td>\n",
       "      <td>0</td>\n",
       "      <td>1</td>\n",
       "      <td>1000.0</td>\n",
       "      <td>1</td>\n",
       "      <td>1000.000000</td>\n",
       "      <td>1000.000000</td>\n",
       "      <td>inf</td>\n",
       "      <td>0.0</td>\n",
       "    </tr>\n",
       "    <tr>\n",
       "      <th>5617</th>\n",
       "      <td>AR16091836869934841857</td>\n",
       "      <td>COMMITTEE TO ELECT MICHAEL CROWNER</td>\n",
       "      <td>0</td>\n",
       "      <td>1</td>\n",
       "      <td>1000.0</td>\n",
       "      <td>1</td>\n",
       "      <td>1000.000000</td>\n",
       "      <td>1000.000000</td>\n",
       "      <td>inf</td>\n",
       "      <td>0.0</td>\n",
       "    </tr>\n",
       "    <tr>\n",
       "      <th>6324</th>\n",
       "      <td>AR18190514296289492993</td>\n",
       "      <td>FRIENDS OF GLENN CARLSON</td>\n",
       "      <td>0</td>\n",
       "      <td>1</td>\n",
       "      <td>1000.0</td>\n",
       "      <td>1</td>\n",
       "      <td>1000.000000</td>\n",
       "      <td>1000.000000</td>\n",
       "      <td>inf</td>\n",
       "      <td>0.0</td>\n",
       "    </tr>\n",
       "    <tr>\n",
       "      <th>6357</th>\n",
       "      <td>AR18267075489954791425</td>\n",
       "      <td>WILLIAMS FOR SAN FRANCISCO COMMUNITY COLLEGE B...</td>\n",
       "      <td>0</td>\n",
       "      <td>1</td>\n",
       "      <td>1000.0</td>\n",
       "      <td>1</td>\n",
       "      <td>1000.000000</td>\n",
       "      <td>1000.000000</td>\n",
       "      <td>inf</td>\n",
       "      <td>0.0</td>\n",
       "    </tr>\n",
       "  </tbody>\n",
       "</table>\n",
       "</div>"
      ],
      "text/plain": [
       "               advertiser_id  \\\n",
       "167   AR00419310166685515777   \n",
       "174   AR00446859530031071233   \n",
       "319   AR00860662930167824385   \n",
       "518   AR01392087686197542913   \n",
       "556   AR01491166877999693825   \n",
       "587   AR01586518175627870209   \n",
       "896   AR02531863704660606977   \n",
       "1406  AR03968511985791795201   \n",
       "1932  AR05497118746545750017   \n",
       "2477  AR06993778922076766209   \n",
       "2497  AR07048608818174885889   \n",
       "2640  AR07424659387060322305   \n",
       "2834  AR08003371939177431041   \n",
       "2844  AR08034052711638892545   \n",
       "2850  AR08058906347351048193   \n",
       "2916  AR08251069918682808321   \n",
       "3293  AR09309415831114874881   \n",
       "3522  AR10018732772425728001   \n",
       "3565  AR10178610559197380609   \n",
       "3846  AR10987765905089363969   \n",
       "4454  AR12740855281961926657   \n",
       "4772  AR13709432667055849473   \n",
       "4845  AR13939116248051744769   \n",
       "5168  AR14808310976134250497   \n",
       "5247  AR15043025922338848769   \n",
       "5292  AR15167754521393758209   \n",
       "5588  AR16022085501536174081   \n",
       "5617  AR16091836869934841857   \n",
       "6324  AR18190514296289492993   \n",
       "6357  AR18267075489954791425   \n",
       "\n",
       "                                        advertiser_name  total_spend_usd  \\\n",
       "167                                 VOTERS FOR TRUTH PC                0   \n",
       "174                                         Hoopes 2022                0   \n",
       "319                          INDABA APPLICATION NETWORK                0   \n",
       "518                       JENNIFER BARBOSA FOR CONGRESS                0   \n",
       "556                                      UNDERLY FOR WI                0   \n",
       "587                    ISLAND RICHARDS FOR COMMISSIONER                0   \n",
       "896                                   FOCUS ON WHITPAIN                0   \n",
       "1406                           Empower Northeast Denver                0   \n",
       "1932                                  CARR FOR DELEGATE                0   \n",
       "2477         CAMPAIGN FUND OF SHARPE ELECTION COMMITTEE                0   \n",
       "2497                                  JEFFREY D. PARKER                0   \n",
       "2640                       DORA WILSON FOR SCHOOL BOARD                0   \n",
       "2834                                   A UNITED HOUSTON                0   \n",
       "2844                MARIJUANA POLICY PROJECT FOUNDATION                0   \n",
       "2850  ELM ACTION FUND INDEPENDENT EXPENDITURE POLITI...                0   \n",
       "2916                                CTE TAMMY T. PATTON                0   \n",
       "3293                              GREITENS FOR MISSOURI                0   \n",
       "3522                            Duan & Lopatka CPA's PC                0   \n",
       "3565             COMMITTEE TO ELECT WENDE SCHWINGENDORF                0   \n",
       "3846                               JENNIFER LEEPER 2022                0   \n",
       "4454                   American Health Care Association                0   \n",
       "4772                                     TIDES ADVOCACY                0   \n",
       "4845                            ALASKA DEMOCRATIC PARTY                0   \n",
       "5168                                        ROBERT4HD17                0   \n",
       "5247                             JIM PRESSEL FRIENDS OF                0   \n",
       "5292                                     ONEWHISTLE INC                0   \n",
       "5588                           FRIENDS OF SANDY NEWSOME                0   \n",
       "5617                 COMMITTEE TO ELECT MICHAEL CROWNER                0   \n",
       "6324                           FRIENDS OF GLENN CARLSON                0   \n",
       "6357  WILLIAMS FOR SAN FRANCISCO COMMUNITY COLLEGE B...                0   \n",
       "\n",
       "      total_creatives  maximum_impressions  total_day  impressions_per_day  \\\n",
       "167                 1               1000.0          1          1000.000000   \n",
       "174                 7               7000.0         34           205.882353   \n",
       "319                 1               1000.0          4           250.000000   \n",
       "518                 1               1000.0          1          1000.000000   \n",
       "556                 1               1000.0          5           200.000000   \n",
       "587                 1               1000.0          2           500.000000   \n",
       "896                 1               1000.0          1          1000.000000   \n",
       "1406                1               1000.0          1          1000.000000   \n",
       "1932                1               1000.0          1          1000.000000   \n",
       "2477                1               1000.0          2           500.000000   \n",
       "2497                1               1000.0          1          1000.000000   \n",
       "2640                1               1000.0          5           200.000000   \n",
       "2834                1               1000.0          1          1000.000000   \n",
       "2844                1               1000.0          1          1000.000000   \n",
       "2850                1               1000.0         14            71.428571   \n",
       "2916                1               1000.0          5           200.000000   \n",
       "3293                2               2000.0          6           333.333333   \n",
       "3522                3               3000.0          3          1000.000000   \n",
       "3565                1               1000.0          4           250.000000   \n",
       "3846                1               1000.0          1          1000.000000   \n",
       "4454                1               1000.0          9           111.111111   \n",
       "4772                1               1000.0          1          1000.000000   \n",
       "4845                1               1000.0          2           500.000000   \n",
       "5168                4               4000.0          9           444.444444   \n",
       "5247                1               1000.0          2           500.000000   \n",
       "5292                2               2000.0          3           666.666667   \n",
       "5588                1               1000.0          1          1000.000000   \n",
       "5617                1               1000.0          1          1000.000000   \n",
       "6324                1               1000.0          1          1000.000000   \n",
       "6357                1               1000.0          1          1000.000000   \n",
       "\n",
       "      impressions_per_ads  impressions_per_spend  usd_per_ads_day  \n",
       "167           1000.000000                    inf              0.0  \n",
       "174             29.411765                    inf              0.0  \n",
       "319            250.000000                    inf              0.0  \n",
       "518           1000.000000                    inf              0.0  \n",
       "556            200.000000                    inf              0.0  \n",
       "587            500.000000                    inf              0.0  \n",
       "896           1000.000000                    inf              0.0  \n",
       "1406          1000.000000                    inf              0.0  \n",
       "1932          1000.000000                    inf              0.0  \n",
       "2477           500.000000                    inf              0.0  \n",
       "2497          1000.000000                    inf              0.0  \n",
       "2640           200.000000                    inf              0.0  \n",
       "2834          1000.000000                    inf              0.0  \n",
       "2844          1000.000000                    inf              0.0  \n",
       "2850            71.428571                    inf              0.0  \n",
       "2916           200.000000                    inf              0.0  \n",
       "3293           166.666667                    inf              0.0  \n",
       "3522           333.333333                    inf              0.0  \n",
       "3565           250.000000                    inf              0.0  \n",
       "3846          1000.000000                    inf              0.0  \n",
       "4454           111.111111                    inf              0.0  \n",
       "4772          1000.000000                    inf              0.0  \n",
       "4845           500.000000                    inf              0.0  \n",
       "5168           111.111111                    inf              0.0  \n",
       "5247           500.000000                    inf              0.0  \n",
       "5292           333.333333                    inf              0.0  \n",
       "5588          1000.000000                    inf              0.0  \n",
       "5617          1000.000000                    inf              0.0  \n",
       "6324          1000.000000                    inf              0.0  \n",
       "6357          1000.000000                    inf              0.0  "
      ]
     },
     "execution_count": 128,
     "metadata": {},
     "output_type": "execute_result"
    }
   ],
   "source": [
    "ads_data[ads_data['usd_per_ads_day']==0]"
   ]
  },
  {
   "cell_type": "markdown",
   "metadata": {},
   "source": [
    "Karena terdapat value spend dollars 0 tetapi mengeluarkan iklan atau ads dengan adanya impressions juga maka disini Saya asumsikan terdapat miss entry pada big query pada advertiser tersebut. sehingga disini Saya akan drop yang memiliki total spend ==0"
   ]
  },
  {
   "cell_type": "code",
   "execution_count": 129,
   "metadata": {},
   "outputs": [],
   "source": [
    "ads_data.drop(ads_data[ads_data['usd_per_ads_day']==0].index,inplace=True)"
   ]
  },
  {
   "cell_type": "markdown",
   "metadata": {},
   "source": [
    "Sehingga dalam analisa kasus ini menggunakan tiga metric, yaitu:\n",
    "* impressions_per_ads ini adalah metric untuk mengetahui seberapa banyak impressions yang didapat dalam 1 iklan dalam 1 hari.\n",
    "* usd_per_ads_day ini adalah metric untuk mengetahui seberapa banyajk us dollar yang diperlukan dalam 1 iklan dalam 1 hari."
   ]
  },
  {
   "cell_type": "markdown",
   "metadata": {},
   "source": [
    "to_csv untuk save dataframe ke dalam format csv."
   ]
  },
  {
   "cell_type": "code",
   "execution_count": 130,
   "metadata": {},
   "outputs": [],
   "source": [
    "#ads_data.to_csv(\"data_ads.csv\")"
   ]
  },
  {
   "cell_type": "markdown",
   "metadata": {},
   "source": [
    "## Map"
   ]
  },
  {
   "cell_type": "markdown",
   "metadata": {},
   "source": [
    "Loading data query kedua."
   ]
  },
  {
   "cell_type": "code",
   "execution_count": 131,
   "metadata": {},
   "outputs": [
    {
     "data": {
      "text/html": [
       "<div>\n",
       "<style scoped>\n",
       "    .dataframe tbody tr th:only-of-type {\n",
       "        vertical-align: middle;\n",
       "    }\n",
       "\n",
       "    .dataframe tbody tr th {\n",
       "        vertical-align: top;\n",
       "    }\n",
       "\n",
       "    .dataframe thead th {\n",
       "        text-align: right;\n",
       "    }\n",
       "</style>\n",
       "<table border=\"1\" class=\"dataframe\">\n",
       "  <thead>\n",
       "    <tr style=\"text-align: right;\">\n",
       "      <th></th>\n",
       "      <th>country</th>\n",
       "      <th>state</th>\n",
       "      <th>total_district</th>\n",
       "      <th>total_ads</th>\n",
       "      <th>total_spend</th>\n",
       "    </tr>\n",
       "  </thead>\n",
       "  <tbody>\n",
       "    <tr>\n",
       "      <th>0</th>\n",
       "      <td>US</td>\n",
       "      <td>AK</td>\n",
       "      <td>1</td>\n",
       "      <td>3947</td>\n",
       "      <td>2255900</td>\n",
       "    </tr>\n",
       "    <tr>\n",
       "      <th>1</th>\n",
       "      <td>US</td>\n",
       "      <td>AL</td>\n",
       "      <td>7</td>\n",
       "      <td>4786</td>\n",
       "      <td>6926000</td>\n",
       "    </tr>\n",
       "    <tr>\n",
       "      <th>2</th>\n",
       "      <td>US</td>\n",
       "      <td>AR</td>\n",
       "      <td>4</td>\n",
       "      <td>4638</td>\n",
       "      <td>3485800</td>\n",
       "    </tr>\n",
       "    <tr>\n",
       "      <th>3</th>\n",
       "      <td>US</td>\n",
       "      <td>AZ</td>\n",
       "      <td>9</td>\n",
       "      <td>4993</td>\n",
       "      <td>41728600</td>\n",
       "    </tr>\n",
       "    <tr>\n",
       "      <th>4</th>\n",
       "      <td>US</td>\n",
       "      <td>CA</td>\n",
       "      <td>53</td>\n",
       "      <td>5332</td>\n",
       "      <td>93639700</td>\n",
       "    </tr>\n",
       "    <tr>\n",
       "      <th>5</th>\n",
       "      <td>US</td>\n",
       "      <td>CO</td>\n",
       "      <td>7</td>\n",
       "      <td>4989</td>\n",
       "      <td>17811700</td>\n",
       "    </tr>\n",
       "    <tr>\n",
       "      <th>6</th>\n",
       "      <td>US</td>\n",
       "      <td>CT</td>\n",
       "      <td>5</td>\n",
       "      <td>4333</td>\n",
       "      <td>4654800</td>\n",
       "    </tr>\n",
       "    <tr>\n",
       "      <th>7</th>\n",
       "      <td>US</td>\n",
       "      <td>DC</td>\n",
       "      <td>1</td>\n",
       "      <td>4415</td>\n",
       "      <td>4646400</td>\n",
       "    </tr>\n",
       "    <tr>\n",
       "      <th>8</th>\n",
       "      <td>US</td>\n",
       "      <td>DE</td>\n",
       "      <td>1</td>\n",
       "      <td>4167</td>\n",
       "      <td>1487500</td>\n",
       "    </tr>\n",
       "    <tr>\n",
       "      <th>9</th>\n",
       "      <td>US</td>\n",
       "      <td>FL</td>\n",
       "      <td>27</td>\n",
       "      <td>5235</td>\n",
       "      <td>76862200</td>\n",
       "    </tr>\n",
       "  </tbody>\n",
       "</table>\n",
       "</div>"
      ],
      "text/plain": [
       "  country state  total_district  total_ads  total_spend\n",
       "0      US    AK               1       3947      2255900\n",
       "1      US    AL               7       4786      6926000\n",
       "2      US    AR               4       4638      3485800\n",
       "3      US    AZ               9       4993     41728600\n",
       "4      US    CA              53       5332     93639700\n",
       "5      US    CO               7       4989     17811700\n",
       "6      US    CT               5       4333      4654800\n",
       "7      US    DC               1       4415      4646400\n",
       "8      US    DE               1       4167      1487500\n",
       "9      US    FL              27       5235     76862200"
      ]
     },
     "execution_count": 131,
     "metadata": {},
     "output_type": "execute_result"
    }
   ],
   "source": [
    "based_geo = pd.read_csv('deployment/ads_based_geo.csv')\n",
    "based_geo.head(10)"
   ]
  },
  {
   "cell_type": "markdown",
   "metadata": {},
   "source": [
    "Menampilkan data pertama dan terakhir dengan .head .tail"
   ]
  },
  {
   "cell_type": "code",
   "execution_count": 132,
   "metadata": {},
   "outputs": [
    {
     "data": {
      "text/html": [
       "<div>\n",
       "<style scoped>\n",
       "    .dataframe tbody tr th:only-of-type {\n",
       "        vertical-align: middle;\n",
       "    }\n",
       "\n",
       "    .dataframe tbody tr th {\n",
       "        vertical-align: top;\n",
       "    }\n",
       "\n",
       "    .dataframe thead th {\n",
       "        text-align: right;\n",
       "    }\n",
       "</style>\n",
       "<table border=\"1\" class=\"dataframe\">\n",
       "  <thead>\n",
       "    <tr style=\"text-align: right;\">\n",
       "      <th></th>\n",
       "      <th>country</th>\n",
       "      <th>state</th>\n",
       "      <th>total_district</th>\n",
       "      <th>total_ads</th>\n",
       "      <th>total_spend</th>\n",
       "    </tr>\n",
       "  </thead>\n",
       "  <tbody>\n",
       "    <tr>\n",
       "      <th>46</th>\n",
       "      <td>US</td>\n",
       "      <td>VT</td>\n",
       "      <td>1</td>\n",
       "      <td>4339</td>\n",
       "      <td>1022600</td>\n",
       "    </tr>\n",
       "    <tr>\n",
       "      <th>47</th>\n",
       "      <td>US</td>\n",
       "      <td>WA</td>\n",
       "      <td>10</td>\n",
       "      <td>4735</td>\n",
       "      <td>12320700</td>\n",
       "    </tr>\n",
       "    <tr>\n",
       "      <th>48</th>\n",
       "      <td>US</td>\n",
       "      <td>WI</td>\n",
       "      <td>8</td>\n",
       "      <td>4889</td>\n",
       "      <td>24636600</td>\n",
       "    </tr>\n",
       "    <tr>\n",
       "      <th>49</th>\n",
       "      <td>US</td>\n",
       "      <td>WV</td>\n",
       "      <td>3</td>\n",
       "      <td>4625</td>\n",
       "      <td>3290200</td>\n",
       "    </tr>\n",
       "    <tr>\n",
       "      <th>50</th>\n",
       "      <td>US</td>\n",
       "      <td>WY</td>\n",
       "      <td>1</td>\n",
       "      <td>4396</td>\n",
       "      <td>737700</td>\n",
       "    </tr>\n",
       "  </tbody>\n",
       "</table>\n",
       "</div>"
      ],
      "text/plain": [
       "   country state  total_district  total_ads  total_spend\n",
       "46      US    VT               1       4339      1022600\n",
       "47      US    WA              10       4735     12320700\n",
       "48      US    WI               8       4889     24636600\n",
       "49      US    WV               3       4625      3290200\n",
       "50      US    WY               1       4396       737700"
      ]
     },
     "execution_count": 132,
     "metadata": {},
     "output_type": "execute_result"
    }
   ],
   "source": [
    "based_geo.tail()"
   ]
  },
  {
   "cell_type": "code",
   "execution_count": 133,
   "metadata": {},
   "outputs": [
    {
     "name": "stdout",
     "output_type": "stream",
     "text": [
      "<class 'pandas.core.frame.DataFrame'>\n",
      "RangeIndex: 51 entries, 0 to 50\n",
      "Data columns (total 5 columns):\n",
      " #   Column          Non-Null Count  Dtype \n",
      "---  ------          --------------  ----- \n",
      " 0   country         51 non-null     object\n",
      " 1   state           51 non-null     object\n",
      " 2   total_district  51 non-null     int64 \n",
      " 3   total_ads       51 non-null     int64 \n",
      " 4   total_spend     51 non-null     int64 \n",
      "dtypes: int64(3), object(2)\n",
      "memory usage: 2.1+ KB\n"
     ]
    }
   ],
   "source": [
    "based_geo.info()"
   ]
  },
  {
   "cell_type": "markdown",
   "metadata": {},
   "source": [
    "Dapat dilihat tidak ada missing value."
   ]
  },
  {
   "cell_type": "markdown",
   "metadata": {},
   "source": [
    "Saya juga menambahkan suatu data bernama states.csv yang berisikan data latitude longitude dari setiap state di US yang didapat dari google.\n",
    "https://developers.google.com/public-data/docs/canonical/states_csv"
   ]
  },
  {
   "cell_type": "code",
   "execution_count": 134,
   "metadata": {},
   "outputs": [
    {
     "name": "stdout",
     "output_type": "stream",
     "text": [
      "<class 'pandas.core.frame.DataFrame'>\n",
      "RangeIndex: 52 entries, 0 to 51\n",
      "Data columns (total 4 columns):\n",
      " #   Column     Non-Null Count  Dtype  \n",
      "---  ------     --------------  -----  \n",
      " 0   state      52 non-null     object \n",
      " 1   latitude   52 non-null     float64\n",
      " 2   longitude  52 non-null     float64\n",
      " 3   name       52 non-null     object \n",
      "dtypes: float64(2), object(2)\n",
      "memory usage: 1.8+ KB\n"
     ]
    }
   ],
   "source": [
    "state_data = pd.read_csv(\"deployment/states.csv\")\n",
    "state_data.info()"
   ]
  },
  {
   "cell_type": "markdown",
   "metadata": {},
   "source": [
    "Lalu menggabungkan kedua data frame dengan cara mencocokkan state nya a.k.a key = state dengan menggunakan merge left join."
   ]
  },
  {
   "cell_type": "code",
   "execution_count": 135,
   "metadata": {},
   "outputs": [],
   "source": [
    "based_geo_long_lat = based_geo.merge(state_data,left_on='state',right_on='state')"
   ]
  },
  {
   "cell_type": "markdown",
   "metadata": {},
   "source": [
    "Terlihat dataframe sudah tergabung dan sudah berisikan lengkap statistik total_spend dan total adsnya per state dengan ditambah geo locationnya (latitude,longitude)"
   ]
  },
  {
   "cell_type": "code",
   "execution_count": 136,
   "metadata": {},
   "outputs": [
    {
     "data": {
      "text/html": [
       "<div>\n",
       "<style scoped>\n",
       "    .dataframe tbody tr th:only-of-type {\n",
       "        vertical-align: middle;\n",
       "    }\n",
       "\n",
       "    .dataframe tbody tr th {\n",
       "        vertical-align: top;\n",
       "    }\n",
       "\n",
       "    .dataframe thead th {\n",
       "        text-align: right;\n",
       "    }\n",
       "</style>\n",
       "<table border=\"1\" class=\"dataframe\">\n",
       "  <thead>\n",
       "    <tr style=\"text-align: right;\">\n",
       "      <th></th>\n",
       "      <th>country</th>\n",
       "      <th>state</th>\n",
       "      <th>total_district</th>\n",
       "      <th>total_ads</th>\n",
       "      <th>total_spend</th>\n",
       "      <th>latitude</th>\n",
       "      <th>longitude</th>\n",
       "      <th>name</th>\n",
       "    </tr>\n",
       "  </thead>\n",
       "  <tbody>\n",
       "    <tr>\n",
       "      <th>0</th>\n",
       "      <td>US</td>\n",
       "      <td>AK</td>\n",
       "      <td>1</td>\n",
       "      <td>3947</td>\n",
       "      <td>2255900</td>\n",
       "      <td>63.588753</td>\n",
       "      <td>-154.493062</td>\n",
       "      <td>Alaska</td>\n",
       "    </tr>\n",
       "    <tr>\n",
       "      <th>1</th>\n",
       "      <td>US</td>\n",
       "      <td>AL</td>\n",
       "      <td>7</td>\n",
       "      <td>4786</td>\n",
       "      <td>6926000</td>\n",
       "      <td>32.318231</td>\n",
       "      <td>-86.902298</td>\n",
       "      <td>Alabama</td>\n",
       "    </tr>\n",
       "    <tr>\n",
       "      <th>2</th>\n",
       "      <td>US</td>\n",
       "      <td>AR</td>\n",
       "      <td>4</td>\n",
       "      <td>4638</td>\n",
       "      <td>3485800</td>\n",
       "      <td>35.201050</td>\n",
       "      <td>-91.831833</td>\n",
       "      <td>Arkansas</td>\n",
       "    </tr>\n",
       "    <tr>\n",
       "      <th>3</th>\n",
       "      <td>US</td>\n",
       "      <td>AZ</td>\n",
       "      <td>9</td>\n",
       "      <td>4993</td>\n",
       "      <td>41728600</td>\n",
       "      <td>34.048928</td>\n",
       "      <td>-111.093731</td>\n",
       "      <td>Arizona</td>\n",
       "    </tr>\n",
       "    <tr>\n",
       "      <th>4</th>\n",
       "      <td>US</td>\n",
       "      <td>CA</td>\n",
       "      <td>53</td>\n",
       "      <td>5332</td>\n",
       "      <td>93639700</td>\n",
       "      <td>36.778261</td>\n",
       "      <td>-119.417932</td>\n",
       "      <td>California</td>\n",
       "    </tr>\n",
       "    <tr>\n",
       "      <th>5</th>\n",
       "      <td>US</td>\n",
       "      <td>CO</td>\n",
       "      <td>7</td>\n",
       "      <td>4989</td>\n",
       "      <td>17811700</td>\n",
       "      <td>39.550051</td>\n",
       "      <td>-105.782067</td>\n",
       "      <td>Colorado</td>\n",
       "    </tr>\n",
       "    <tr>\n",
       "      <th>6</th>\n",
       "      <td>US</td>\n",
       "      <td>CT</td>\n",
       "      <td>5</td>\n",
       "      <td>4333</td>\n",
       "      <td>4654800</td>\n",
       "      <td>41.603221</td>\n",
       "      <td>-73.087749</td>\n",
       "      <td>Connecticut</td>\n",
       "    </tr>\n",
       "    <tr>\n",
       "      <th>7</th>\n",
       "      <td>US</td>\n",
       "      <td>DC</td>\n",
       "      <td>1</td>\n",
       "      <td>4415</td>\n",
       "      <td>4646400</td>\n",
       "      <td>38.905985</td>\n",
       "      <td>-77.033418</td>\n",
       "      <td>District of Columbia</td>\n",
       "    </tr>\n",
       "    <tr>\n",
       "      <th>8</th>\n",
       "      <td>US</td>\n",
       "      <td>DE</td>\n",
       "      <td>1</td>\n",
       "      <td>4167</td>\n",
       "      <td>1487500</td>\n",
       "      <td>38.910832</td>\n",
       "      <td>-75.527670</td>\n",
       "      <td>Delaware</td>\n",
       "    </tr>\n",
       "    <tr>\n",
       "      <th>9</th>\n",
       "      <td>US</td>\n",
       "      <td>FL</td>\n",
       "      <td>27</td>\n",
       "      <td>5235</td>\n",
       "      <td>76862200</td>\n",
       "      <td>27.664827</td>\n",
       "      <td>-81.515754</td>\n",
       "      <td>Florida</td>\n",
       "    </tr>\n",
       "    <tr>\n",
       "      <th>10</th>\n",
       "      <td>US</td>\n",
       "      <td>GA</td>\n",
       "      <td>14</td>\n",
       "      <td>5069</td>\n",
       "      <td>61168100</td>\n",
       "      <td>32.157435</td>\n",
       "      <td>-82.907123</td>\n",
       "      <td>Georgia</td>\n",
       "    </tr>\n",
       "    <tr>\n",
       "      <th>11</th>\n",
       "      <td>US</td>\n",
       "      <td>HI</td>\n",
       "      <td>2</td>\n",
       "      <td>4324</td>\n",
       "      <td>1427300</td>\n",
       "      <td>19.898682</td>\n",
       "      <td>-155.665857</td>\n",
       "      <td>Hawaii</td>\n",
       "    </tr>\n",
       "    <tr>\n",
       "      <th>12</th>\n",
       "      <td>US</td>\n",
       "      <td>IA</td>\n",
       "      <td>4</td>\n",
       "      <td>4694</td>\n",
       "      <td>24410900</td>\n",
       "      <td>41.878003</td>\n",
       "      <td>-93.097702</td>\n",
       "      <td>Iowa</td>\n",
       "    </tr>\n",
       "    <tr>\n",
       "      <th>13</th>\n",
       "      <td>US</td>\n",
       "      <td>ID</td>\n",
       "      <td>2</td>\n",
       "      <td>4538</td>\n",
       "      <td>2035800</td>\n",
       "      <td>44.068202</td>\n",
       "      <td>-114.742041</td>\n",
       "      <td>Idaho</td>\n",
       "    </tr>\n",
       "    <tr>\n",
       "      <th>14</th>\n",
       "      <td>US</td>\n",
       "      <td>IL</td>\n",
       "      <td>18</td>\n",
       "      <td>5134</td>\n",
       "      <td>28548600</td>\n",
       "      <td>40.633125</td>\n",
       "      <td>-89.398528</td>\n",
       "      <td>Illinois</td>\n",
       "    </tr>\n",
       "    <tr>\n",
       "      <th>15</th>\n",
       "      <td>US</td>\n",
       "      <td>IN</td>\n",
       "      <td>9</td>\n",
       "      <td>4940</td>\n",
       "      <td>9464200</td>\n",
       "      <td>40.551217</td>\n",
       "      <td>-85.602364</td>\n",
       "      <td>Indiana</td>\n",
       "    </tr>\n",
       "    <tr>\n",
       "      <th>16</th>\n",
       "      <td>US</td>\n",
       "      <td>KS</td>\n",
       "      <td>4</td>\n",
       "      <td>4681</td>\n",
       "      <td>6017300</td>\n",
       "      <td>39.011902</td>\n",
       "      <td>-98.484246</td>\n",
       "      <td>Kansas</td>\n",
       "    </tr>\n",
       "    <tr>\n",
       "      <th>17</th>\n",
       "      <td>US</td>\n",
       "      <td>KY</td>\n",
       "      <td>6</td>\n",
       "      <td>4738</td>\n",
       "      <td>11440400</td>\n",
       "      <td>37.839333</td>\n",
       "      <td>-84.270018</td>\n",
       "      <td>Kentucky</td>\n",
       "    </tr>\n",
       "    <tr>\n",
       "      <th>18</th>\n",
       "      <td>US</td>\n",
       "      <td>LA</td>\n",
       "      <td>6</td>\n",
       "      <td>4700</td>\n",
       "      <td>4550700</td>\n",
       "      <td>31.244823</td>\n",
       "      <td>-92.145024</td>\n",
       "      <td>Louisiana</td>\n",
       "    </tr>\n",
       "    <tr>\n",
       "      <th>19</th>\n",
       "      <td>US</td>\n",
       "      <td>MA</td>\n",
       "      <td>9</td>\n",
       "      <td>4505</td>\n",
       "      <td>12311800</td>\n",
       "      <td>42.407211</td>\n",
       "      <td>-71.382437</td>\n",
       "      <td>Massachusetts</td>\n",
       "    </tr>\n",
       "    <tr>\n",
       "      <th>20</th>\n",
       "      <td>US</td>\n",
       "      <td>MD</td>\n",
       "      <td>8</td>\n",
       "      <td>4809</td>\n",
       "      <td>8727200</td>\n",
       "      <td>39.045755</td>\n",
       "      <td>-76.641271</td>\n",
       "      <td>Maryland</td>\n",
       "    </tr>\n",
       "    <tr>\n",
       "      <th>21</th>\n",
       "      <td>US</td>\n",
       "      <td>ME</td>\n",
       "      <td>2</td>\n",
       "      <td>4092</td>\n",
       "      <td>8907200</td>\n",
       "      <td>45.253783</td>\n",
       "      <td>-69.445469</td>\n",
       "      <td>Maine</td>\n",
       "    </tr>\n",
       "    <tr>\n",
       "      <th>22</th>\n",
       "      <td>US</td>\n",
       "      <td>MI</td>\n",
       "      <td>14</td>\n",
       "      <td>5025</td>\n",
       "      <td>38888100</td>\n",
       "      <td>44.314844</td>\n",
       "      <td>-85.602364</td>\n",
       "      <td>Michigan</td>\n",
       "    </tr>\n",
       "    <tr>\n",
       "      <th>23</th>\n",
       "      <td>US</td>\n",
       "      <td>MN</td>\n",
       "      <td>8</td>\n",
       "      <td>4876</td>\n",
       "      <td>17360800</td>\n",
       "      <td>46.729553</td>\n",
       "      <td>-94.685900</td>\n",
       "      <td>Minnesota</td>\n",
       "    </tr>\n",
       "    <tr>\n",
       "      <th>24</th>\n",
       "      <td>US</td>\n",
       "      <td>MO</td>\n",
       "      <td>8</td>\n",
       "      <td>4870</td>\n",
       "      <td>12599800</td>\n",
       "      <td>37.964253</td>\n",
       "      <td>-91.831833</td>\n",
       "      <td>Missouri</td>\n",
       "    </tr>\n",
       "    <tr>\n",
       "      <th>25</th>\n",
       "      <td>US</td>\n",
       "      <td>MS</td>\n",
       "      <td>4</td>\n",
       "      <td>4566</td>\n",
       "      <td>3940700</td>\n",
       "      <td>32.354668</td>\n",
       "      <td>-89.398528</td>\n",
       "      <td>Mississippi</td>\n",
       "    </tr>\n",
       "    <tr>\n",
       "      <th>26</th>\n",
       "      <td>US</td>\n",
       "      <td>MT</td>\n",
       "      <td>1</td>\n",
       "      <td>4387</td>\n",
       "      <td>8570900</td>\n",
       "      <td>46.879682</td>\n",
       "      <td>-110.362566</td>\n",
       "      <td>Montana</td>\n",
       "    </tr>\n",
       "    <tr>\n",
       "      <th>27</th>\n",
       "      <td>US</td>\n",
       "      <td>NC</td>\n",
       "      <td>13</td>\n",
       "      <td>5062</td>\n",
       "      <td>46175700</td>\n",
       "      <td>35.759573</td>\n",
       "      <td>-79.019300</td>\n",
       "      <td>North Carolina</td>\n",
       "    </tr>\n",
       "    <tr>\n",
       "      <th>28</th>\n",
       "      <td>US</td>\n",
       "      <td>ND</td>\n",
       "      <td>1</td>\n",
       "      <td>4301</td>\n",
       "      <td>1389700</td>\n",
       "      <td>47.551493</td>\n",
       "      <td>-101.002012</td>\n",
       "      <td>North Dakota</td>\n",
       "    </tr>\n",
       "    <tr>\n",
       "      <th>29</th>\n",
       "      <td>US</td>\n",
       "      <td>NE</td>\n",
       "      <td>3</td>\n",
       "      <td>4584</td>\n",
       "      <td>3306400</td>\n",
       "      <td>41.492537</td>\n",
       "      <td>-99.901813</td>\n",
       "      <td>Nebraska</td>\n",
       "    </tr>\n",
       "    <tr>\n",
       "      <th>30</th>\n",
       "      <td>US</td>\n",
       "      <td>NH</td>\n",
       "      <td>2</td>\n",
       "      <td>4361</td>\n",
       "      <td>8150100</td>\n",
       "      <td>43.193852</td>\n",
       "      <td>-71.572395</td>\n",
       "      <td>New Hampshire</td>\n",
       "    </tr>\n",
       "    <tr>\n",
       "      <th>31</th>\n",
       "      <td>US</td>\n",
       "      <td>NJ</td>\n",
       "      <td>12</td>\n",
       "      <td>4663</td>\n",
       "      <td>18395100</td>\n",
       "      <td>40.058324</td>\n",
       "      <td>-74.405661</td>\n",
       "      <td>New Jersey</td>\n",
       "    </tr>\n",
       "    <tr>\n",
       "      <th>32</th>\n",
       "      <td>US</td>\n",
       "      <td>NM</td>\n",
       "      <td>3</td>\n",
       "      <td>4683</td>\n",
       "      <td>3723600</td>\n",
       "      <td>34.972730</td>\n",
       "      <td>-105.032363</td>\n",
       "      <td>New Mexico</td>\n",
       "    </tr>\n",
       "    <tr>\n",
       "      <th>33</th>\n",
       "      <td>US</td>\n",
       "      <td>NV</td>\n",
       "      <td>4</td>\n",
       "      <td>4821</td>\n",
       "      <td>14625600</td>\n",
       "      <td>38.802610</td>\n",
       "      <td>-116.419389</td>\n",
       "      <td>Nevada</td>\n",
       "    </tr>\n",
       "    <tr>\n",
       "      <th>34</th>\n",
       "      <td>US</td>\n",
       "      <td>NY</td>\n",
       "      <td>27</td>\n",
       "      <td>5010</td>\n",
       "      <td>31422800</td>\n",
       "      <td>43.299428</td>\n",
       "      <td>-74.217933</td>\n",
       "      <td>New York</td>\n",
       "    </tr>\n",
       "    <tr>\n",
       "      <th>35</th>\n",
       "      <td>US</td>\n",
       "      <td>OH</td>\n",
       "      <td>16</td>\n",
       "      <td>5057</td>\n",
       "      <td>21075200</td>\n",
       "      <td>40.417287</td>\n",
       "      <td>-82.907123</td>\n",
       "      <td>Ohio</td>\n",
       "    </tr>\n",
       "    <tr>\n",
       "      <th>36</th>\n",
       "      <td>US</td>\n",
       "      <td>OK</td>\n",
       "      <td>5</td>\n",
       "      <td>4696</td>\n",
       "      <td>4929800</td>\n",
       "      <td>35.007752</td>\n",
       "      <td>-97.092877</td>\n",
       "      <td>Oklahoma</td>\n",
       "    </tr>\n",
       "    <tr>\n",
       "      <th>37</th>\n",
       "      <td>US</td>\n",
       "      <td>OR</td>\n",
       "      <td>5</td>\n",
       "      <td>4768</td>\n",
       "      <td>8070800</td>\n",
       "      <td>43.804133</td>\n",
       "      <td>-120.554201</td>\n",
       "      <td>Oregon</td>\n",
       "    </tr>\n",
       "    <tr>\n",
       "      <th>38</th>\n",
       "      <td>US</td>\n",
       "      <td>PA</td>\n",
       "      <td>18</td>\n",
       "      <td>5150</td>\n",
       "      <td>50620300</td>\n",
       "      <td>41.203322</td>\n",
       "      <td>-77.194525</td>\n",
       "      <td>Pennsylvania</td>\n",
       "    </tr>\n",
       "    <tr>\n",
       "      <th>39</th>\n",
       "      <td>US</td>\n",
       "      <td>RI</td>\n",
       "      <td>2</td>\n",
       "      <td>4075</td>\n",
       "      <td>1266800</td>\n",
       "      <td>41.580095</td>\n",
       "      <td>-71.477429</td>\n",
       "      <td>Rhode Island</td>\n",
       "    </tr>\n",
       "    <tr>\n",
       "      <th>40</th>\n",
       "      <td>US</td>\n",
       "      <td>SC</td>\n",
       "      <td>7</td>\n",
       "      <td>4892</td>\n",
       "      <td>15666800</td>\n",
       "      <td>33.836081</td>\n",
       "      <td>-81.163725</td>\n",
       "      <td>South Carolina</td>\n",
       "    </tr>\n",
       "    <tr>\n",
       "      <th>41</th>\n",
       "      <td>US</td>\n",
       "      <td>SD</td>\n",
       "      <td>1</td>\n",
       "      <td>4357</td>\n",
       "      <td>797800</td>\n",
       "      <td>43.969515</td>\n",
       "      <td>-99.901813</td>\n",
       "      <td>South Dakota</td>\n",
       "    </tr>\n",
       "    <tr>\n",
       "      <th>42</th>\n",
       "      <td>US</td>\n",
       "      <td>TN</td>\n",
       "      <td>9</td>\n",
       "      <td>4989</td>\n",
       "      <td>13193700</td>\n",
       "      <td>35.517491</td>\n",
       "      <td>-86.580447</td>\n",
       "      <td>Tennessee</td>\n",
       "    </tr>\n",
       "    <tr>\n",
       "      <th>43</th>\n",
       "      <td>US</td>\n",
       "      <td>TX</td>\n",
       "      <td>36</td>\n",
       "      <td>5221</td>\n",
       "      <td>46293900</td>\n",
       "      <td>31.968599</td>\n",
       "      <td>-99.901813</td>\n",
       "      <td>Texas</td>\n",
       "    </tr>\n",
       "    <tr>\n",
       "      <th>44</th>\n",
       "      <td>US</td>\n",
       "      <td>UT</td>\n",
       "      <td>4</td>\n",
       "      <td>4726</td>\n",
       "      <td>4883800</td>\n",
       "      <td>39.320980</td>\n",
       "      <td>-111.093731</td>\n",
       "      <td>Utah</td>\n",
       "    </tr>\n",
       "    <tr>\n",
       "      <th>45</th>\n",
       "      <td>US</td>\n",
       "      <td>VA</td>\n",
       "      <td>11</td>\n",
       "      <td>5118</td>\n",
       "      <td>27067800</td>\n",
       "      <td>37.431573</td>\n",
       "      <td>-78.656894</td>\n",
       "      <td>Virginia</td>\n",
       "    </tr>\n",
       "    <tr>\n",
       "      <th>46</th>\n",
       "      <td>US</td>\n",
       "      <td>VT</td>\n",
       "      <td>1</td>\n",
       "      <td>4339</td>\n",
       "      <td>1022600</td>\n",
       "      <td>44.558803</td>\n",
       "      <td>-72.577841</td>\n",
       "      <td>Vermont</td>\n",
       "    </tr>\n",
       "    <tr>\n",
       "      <th>47</th>\n",
       "      <td>US</td>\n",
       "      <td>WA</td>\n",
       "      <td>10</td>\n",
       "      <td>4735</td>\n",
       "      <td>12320700</td>\n",
       "      <td>47.751074</td>\n",
       "      <td>-120.740139</td>\n",
       "      <td>Washington</td>\n",
       "    </tr>\n",
       "    <tr>\n",
       "      <th>48</th>\n",
       "      <td>US</td>\n",
       "      <td>WI</td>\n",
       "      <td>8</td>\n",
       "      <td>4889</td>\n",
       "      <td>24636600</td>\n",
       "      <td>43.784440</td>\n",
       "      <td>-88.787868</td>\n",
       "      <td>Wisconsin</td>\n",
       "    </tr>\n",
       "    <tr>\n",
       "      <th>49</th>\n",
       "      <td>US</td>\n",
       "      <td>WV</td>\n",
       "      <td>3</td>\n",
       "      <td>4625</td>\n",
       "      <td>3290200</td>\n",
       "      <td>38.597626</td>\n",
       "      <td>-80.454903</td>\n",
       "      <td>West Virginia</td>\n",
       "    </tr>\n",
       "    <tr>\n",
       "      <th>50</th>\n",
       "      <td>US</td>\n",
       "      <td>WY</td>\n",
       "      <td>1</td>\n",
       "      <td>4396</td>\n",
       "      <td>737700</td>\n",
       "      <td>43.075968</td>\n",
       "      <td>-107.290284</td>\n",
       "      <td>Wyoming</td>\n",
       "    </tr>\n",
       "  </tbody>\n",
       "</table>\n",
       "</div>"
      ],
      "text/plain": [
       "   country state  total_district  total_ads  total_spend   latitude  \\\n",
       "0       US    AK               1       3947      2255900  63.588753   \n",
       "1       US    AL               7       4786      6926000  32.318231   \n",
       "2       US    AR               4       4638      3485800  35.201050   \n",
       "3       US    AZ               9       4993     41728600  34.048928   \n",
       "4       US    CA              53       5332     93639700  36.778261   \n",
       "5       US    CO               7       4989     17811700  39.550051   \n",
       "6       US    CT               5       4333      4654800  41.603221   \n",
       "7       US    DC               1       4415      4646400  38.905985   \n",
       "8       US    DE               1       4167      1487500  38.910832   \n",
       "9       US    FL              27       5235     76862200  27.664827   \n",
       "10      US    GA              14       5069     61168100  32.157435   \n",
       "11      US    HI               2       4324      1427300  19.898682   \n",
       "12      US    IA               4       4694     24410900  41.878003   \n",
       "13      US    ID               2       4538      2035800  44.068202   \n",
       "14      US    IL              18       5134     28548600  40.633125   \n",
       "15      US    IN               9       4940      9464200  40.551217   \n",
       "16      US    KS               4       4681      6017300  39.011902   \n",
       "17      US    KY               6       4738     11440400  37.839333   \n",
       "18      US    LA               6       4700      4550700  31.244823   \n",
       "19      US    MA               9       4505     12311800  42.407211   \n",
       "20      US    MD               8       4809      8727200  39.045755   \n",
       "21      US    ME               2       4092      8907200  45.253783   \n",
       "22      US    MI              14       5025     38888100  44.314844   \n",
       "23      US    MN               8       4876     17360800  46.729553   \n",
       "24      US    MO               8       4870     12599800  37.964253   \n",
       "25      US    MS               4       4566      3940700  32.354668   \n",
       "26      US    MT               1       4387      8570900  46.879682   \n",
       "27      US    NC              13       5062     46175700  35.759573   \n",
       "28      US    ND               1       4301      1389700  47.551493   \n",
       "29      US    NE               3       4584      3306400  41.492537   \n",
       "30      US    NH               2       4361      8150100  43.193852   \n",
       "31      US    NJ              12       4663     18395100  40.058324   \n",
       "32      US    NM               3       4683      3723600  34.972730   \n",
       "33      US    NV               4       4821     14625600  38.802610   \n",
       "34      US    NY              27       5010     31422800  43.299428   \n",
       "35      US    OH              16       5057     21075200  40.417287   \n",
       "36      US    OK               5       4696      4929800  35.007752   \n",
       "37      US    OR               5       4768      8070800  43.804133   \n",
       "38      US    PA              18       5150     50620300  41.203322   \n",
       "39      US    RI               2       4075      1266800  41.580095   \n",
       "40      US    SC               7       4892     15666800  33.836081   \n",
       "41      US    SD               1       4357       797800  43.969515   \n",
       "42      US    TN               9       4989     13193700  35.517491   \n",
       "43      US    TX              36       5221     46293900  31.968599   \n",
       "44      US    UT               4       4726      4883800  39.320980   \n",
       "45      US    VA              11       5118     27067800  37.431573   \n",
       "46      US    VT               1       4339      1022600  44.558803   \n",
       "47      US    WA              10       4735     12320700  47.751074   \n",
       "48      US    WI               8       4889     24636600  43.784440   \n",
       "49      US    WV               3       4625      3290200  38.597626   \n",
       "50      US    WY               1       4396       737700  43.075968   \n",
       "\n",
       "     longitude                  name  \n",
       "0  -154.493062                Alaska  \n",
       "1   -86.902298               Alabama  \n",
       "2   -91.831833              Arkansas  \n",
       "3  -111.093731               Arizona  \n",
       "4  -119.417932            California  \n",
       "5  -105.782067              Colorado  \n",
       "6   -73.087749           Connecticut  \n",
       "7   -77.033418  District of Columbia  \n",
       "8   -75.527670              Delaware  \n",
       "9   -81.515754               Florida  \n",
       "10  -82.907123               Georgia  \n",
       "11 -155.665857                Hawaii  \n",
       "12  -93.097702                  Iowa  \n",
       "13 -114.742041                 Idaho  \n",
       "14  -89.398528              Illinois  \n",
       "15  -85.602364               Indiana  \n",
       "16  -98.484246                Kansas  \n",
       "17  -84.270018              Kentucky  \n",
       "18  -92.145024             Louisiana  \n",
       "19  -71.382437         Massachusetts  \n",
       "20  -76.641271              Maryland  \n",
       "21  -69.445469                 Maine  \n",
       "22  -85.602364              Michigan  \n",
       "23  -94.685900             Minnesota  \n",
       "24  -91.831833              Missouri  \n",
       "25  -89.398528           Mississippi  \n",
       "26 -110.362566               Montana  \n",
       "27  -79.019300        North Carolina  \n",
       "28 -101.002012          North Dakota  \n",
       "29  -99.901813              Nebraska  \n",
       "30  -71.572395         New Hampshire  \n",
       "31  -74.405661            New Jersey  \n",
       "32 -105.032363            New Mexico  \n",
       "33 -116.419389                Nevada  \n",
       "34  -74.217933              New York  \n",
       "35  -82.907123                  Ohio  \n",
       "36  -97.092877              Oklahoma  \n",
       "37 -120.554201                Oregon  \n",
       "38  -77.194525          Pennsylvania  \n",
       "39  -71.477429          Rhode Island  \n",
       "40  -81.163725        South Carolina  \n",
       "41  -99.901813          South Dakota  \n",
       "42  -86.580447             Tennessee  \n",
       "43  -99.901813                 Texas  \n",
       "44 -111.093731                  Utah  \n",
       "45  -78.656894              Virginia  \n",
       "46  -72.577841               Vermont  \n",
       "47 -120.740139            Washington  \n",
       "48  -88.787868             Wisconsin  \n",
       "49  -80.454903         West Virginia  \n",
       "50 -107.290284               Wyoming  "
      ]
     },
     "execution_count": 136,
     "metadata": {},
     "output_type": "execute_result"
    }
   ],
   "source": [
    "based_geo_long_lat"
   ]
  },
  {
   "cell_type": "markdown",
   "metadata": {},
   "source": [
    "Pada data ini Saya ingin memvisualisasikan dalam bentuk map dengan scatterplot bubble untuk melihat distribusi total ads dan total spend yang dilakukan per state."
   ]
  },
  {
   "cell_type": "markdown",
   "metadata": {},
   "source": [
    "to_csv untuk save dataframe ke dalam format csv."
   ]
  },
  {
   "cell_type": "code",
   "execution_count": 137,
   "metadata": {},
   "outputs": [],
   "source": [
    "#based_geo_long_lat.to_csv('geo_distribution_data.csv')"
   ]
  },
  {
   "cell_type": "markdown",
   "metadata": {},
   "source": [
    "## Gender"
   ]
  },
  {
   "cell_type": "markdown",
   "metadata": {},
   "source": [
    "Load data gender Query 4 yang akan digunakan dalam analisa persebaran target gender."
   ]
  },
  {
   "cell_type": "code",
   "execution_count": 138,
   "metadata": {},
   "outputs": [
    {
     "name": "stdout",
     "output_type": "stream",
     "text": [
      "<class 'pandas.core.frame.DataFrame'>\n",
      "RangeIndex: 212637 entries, 0 to 212636\n",
      "Data columns (total 2 columns):\n",
      " #   Column            Non-Null Count   Dtype \n",
      "---  ------            --------------   ----- \n",
      " 0   advertiser_id     212637 non-null  object\n",
      " 1   gender_targeting  212637 non-null  object\n",
      "dtypes: object(2)\n",
      "memory usage: 3.2+ MB\n"
     ]
    }
   ],
   "source": [
    "based_gender = pd.read_csv('deployment/ads_based_gender.csv')\n",
    "based_gender.info()"
   ]
  },
  {
   "cell_type": "markdown",
   "metadata": {},
   "source": [
    "menampilkan 10 data pertama."
   ]
  },
  {
   "cell_type": "code",
   "execution_count": 139,
   "metadata": {},
   "outputs": [
    {
     "data": {
      "text/html": [
       "<div>\n",
       "<style scoped>\n",
       "    .dataframe tbody tr th:only-of-type {\n",
       "        vertical-align: middle;\n",
       "    }\n",
       "\n",
       "    .dataframe tbody tr th {\n",
       "        vertical-align: top;\n",
       "    }\n",
       "\n",
       "    .dataframe thead th {\n",
       "        text-align: right;\n",
       "    }\n",
       "</style>\n",
       "<table border=\"1\" class=\"dataframe\">\n",
       "  <thead>\n",
       "    <tr style=\"text-align: right;\">\n",
       "      <th></th>\n",
       "      <th>advertiser_id</th>\n",
       "      <th>gender_targeting</th>\n",
       "    </tr>\n",
       "  </thead>\n",
       "  <tbody>\n",
       "    <tr>\n",
       "      <th>0</th>\n",
       "      <td>AR03944784249986482177</td>\n",
       "      <td>Male, Female, Unknown gender</td>\n",
       "    </tr>\n",
       "    <tr>\n",
       "      <th>1</th>\n",
       "      <td>AR00887684527932047361</td>\n",
       "      <td>Unknown gender</td>\n",
       "    </tr>\n",
       "    <tr>\n",
       "      <th>2</th>\n",
       "      <td>AR01342548090296467457</td>\n",
       "      <td>Female</td>\n",
       "    </tr>\n",
       "    <tr>\n",
       "      <th>3</th>\n",
       "      <td>AR04670024593568694273</td>\n",
       "      <td>Male, Female, Unknown gender</td>\n",
       "    </tr>\n",
       "    <tr>\n",
       "      <th>4</th>\n",
       "      <td>AR04670024593568694273</td>\n",
       "      <td>Female</td>\n",
       "    </tr>\n",
       "    <tr>\n",
       "      <th>5</th>\n",
       "      <td>AR00035659773428891649</td>\n",
       "      <td>Male, Female, Unknown gender</td>\n",
       "    </tr>\n",
       "    <tr>\n",
       "      <th>6</th>\n",
       "      <td>AR17033089192055275521</td>\n",
       "      <td>Male, Female, Unknown gender</td>\n",
       "    </tr>\n",
       "    <tr>\n",
       "      <th>7</th>\n",
       "      <td>AR17033089192055275521</td>\n",
       "      <td>Male, Female, Unknown gender</td>\n",
       "    </tr>\n",
       "    <tr>\n",
       "      <th>8</th>\n",
       "      <td>AR07232495815728562177</td>\n",
       "      <td>Male, Female, Unknown gender</td>\n",
       "    </tr>\n",
       "    <tr>\n",
       "      <th>9</th>\n",
       "      <td>AR07232495815728562177</td>\n",
       "      <td>Male, Female, Unknown gender</td>\n",
       "    </tr>\n",
       "  </tbody>\n",
       "</table>\n",
       "</div>"
      ],
      "text/plain": [
       "            advertiser_id              gender_targeting\n",
       "0  AR03944784249986482177  Male, Female, Unknown gender\n",
       "1  AR00887684527932047361                Unknown gender\n",
       "2  AR01342548090296467457                        Female\n",
       "3  AR04670024593568694273  Male, Female, Unknown gender\n",
       "4  AR04670024593568694273                        Female\n",
       "5  AR00035659773428891649  Male, Female, Unknown gender\n",
       "6  AR17033089192055275521  Male, Female, Unknown gender\n",
       "7  AR17033089192055275521  Male, Female, Unknown gender\n",
       "8  AR07232495815728562177  Male, Female, Unknown gender\n",
       "9  AR07232495815728562177  Male, Female, Unknown gender"
      ]
     },
     "execution_count": 139,
     "metadata": {},
     "output_type": "execute_result"
    }
   ],
   "source": [
    "based_gender.head(10)"
   ]
  },
  {
   "cell_type": "code",
   "execution_count": 140,
   "metadata": {},
   "outputs": [
    {
     "data": {
      "text/plain": [
       "array(['Male, Female, Unknown gender', 'Unknown gender', 'Female',\n",
       "       'Male, Unknown gender', 'Female, Unknown gender', 'Male',\n",
       "       'Male, Female'], dtype=object)"
      ]
     },
     "execution_count": 140,
     "metadata": {},
     "output_type": "execute_result"
    }
   ],
   "source": [
    "based_gender['gender_targeting'].unique()"
   ]
  },
  {
   "cell_type": "code",
   "execution_count": 141,
   "metadata": {},
   "outputs": [
    {
     "data": {
      "text/plain": [
       "212637"
      ]
     },
     "execution_count": 141,
     "metadata": {},
     "output_type": "execute_result"
    }
   ],
   "source": [
    "gender = [] #membuat list kosong untuk sebagai storage sementara cleaning column gender_targeting\n",
    "for i in range(0,len(based_gender)):\n",
    "    if based_gender.iloc[i,1] == 'Male, Female, Unknown gender':\n",
    "        gender.append('All Gender')\n",
    "    elif based_gender.iloc[i,1] == 'Unknown gender':\n",
    "        gender.append('All Gender')\n",
    "    elif based_gender.iloc[i,1] == 'Male, Female':\n",
    "        gender.append('All Gender')\n",
    "    elif based_gender.iloc[i,1] == 'Male':\n",
    "        gender.append('Male')\n",
    "    elif based_gender.iloc[i,1] == 'Male, Unknown gender':\n",
    "        gender.append('Male')\n",
    "    elif based_gender.iloc[i,1] == 'Female':\n",
    "        gender.append('Female')\n",
    "    elif based_gender.iloc[i,1] == 'Female, Unknown gender':\n",
    "        gender.append('Female')\n",
    "len(gender)"
   ]
  },
  {
   "cell_type": "markdown",
   "metadata": {},
   "source": [
    "Membuat kolom gender baruyang dimana kolom sebelumnya dinpretasikan ke kata-baru yang lebih 'categorical'."
   ]
  },
  {
   "cell_type": "code",
   "execution_count": 142,
   "metadata": {},
   "outputs": [],
   "source": [
    "based_gender['gender'] = gender"
   ]
  },
  {
   "cell_type": "code",
   "execution_count": 143,
   "metadata": {},
   "outputs": [
    {
     "data": {
      "text/html": [
       "<div>\n",
       "<style scoped>\n",
       "    .dataframe tbody tr th:only-of-type {\n",
       "        vertical-align: middle;\n",
       "    }\n",
       "\n",
       "    .dataframe tbody tr th {\n",
       "        vertical-align: top;\n",
       "    }\n",
       "\n",
       "    .dataframe thead th {\n",
       "        text-align: right;\n",
       "    }\n",
       "</style>\n",
       "<table border=\"1\" class=\"dataframe\">\n",
       "  <thead>\n",
       "    <tr style=\"text-align: right;\">\n",
       "      <th></th>\n",
       "      <th>advertiser_id</th>\n",
       "      <th>gender_targeting</th>\n",
       "      <th>gender</th>\n",
       "    </tr>\n",
       "  </thead>\n",
       "  <tbody>\n",
       "    <tr>\n",
       "      <th>0</th>\n",
       "      <td>AR03944784249986482177</td>\n",
       "      <td>Male, Female, Unknown gender</td>\n",
       "      <td>All Gender</td>\n",
       "    </tr>\n",
       "    <tr>\n",
       "      <th>1</th>\n",
       "      <td>AR00887684527932047361</td>\n",
       "      <td>Unknown gender</td>\n",
       "      <td>All Gender</td>\n",
       "    </tr>\n",
       "    <tr>\n",
       "      <th>2</th>\n",
       "      <td>AR01342548090296467457</td>\n",
       "      <td>Female</td>\n",
       "      <td>Female</td>\n",
       "    </tr>\n",
       "    <tr>\n",
       "      <th>3</th>\n",
       "      <td>AR04670024593568694273</td>\n",
       "      <td>Male, Female, Unknown gender</td>\n",
       "      <td>All Gender</td>\n",
       "    </tr>\n",
       "    <tr>\n",
       "      <th>4</th>\n",
       "      <td>AR04670024593568694273</td>\n",
       "      <td>Female</td>\n",
       "      <td>Female</td>\n",
       "    </tr>\n",
       "    <tr>\n",
       "      <th>...</th>\n",
       "      <td>...</td>\n",
       "      <td>...</td>\n",
       "      <td>...</td>\n",
       "    </tr>\n",
       "    <tr>\n",
       "      <th>212632</th>\n",
       "      <td>AR13516143195817246721</td>\n",
       "      <td>Female</td>\n",
       "      <td>Female</td>\n",
       "    </tr>\n",
       "    <tr>\n",
       "      <th>212633</th>\n",
       "      <td>AR13405439692208340993</td>\n",
       "      <td>Male, Female, Unknown gender</td>\n",
       "      <td>All Gender</td>\n",
       "    </tr>\n",
       "    <tr>\n",
       "      <th>212634</th>\n",
       "      <td>AR02874137276340764673</td>\n",
       "      <td>Male, Female, Unknown gender</td>\n",
       "      <td>All Gender</td>\n",
       "    </tr>\n",
       "    <tr>\n",
       "      <th>212635</th>\n",
       "      <td>AR02719805151341707265</td>\n",
       "      <td>Male, Female, Unknown gender</td>\n",
       "      <td>All Gender</td>\n",
       "    </tr>\n",
       "    <tr>\n",
       "      <th>212636</th>\n",
       "      <td>AR02719805151341707265</td>\n",
       "      <td>Male, Female, Unknown gender</td>\n",
       "      <td>All Gender</td>\n",
       "    </tr>\n",
       "  </tbody>\n",
       "</table>\n",
       "<p>212637 rows × 3 columns</p>\n",
       "</div>"
      ],
      "text/plain": [
       "                 advertiser_id              gender_targeting      gender\n",
       "0       AR03944784249986482177  Male, Female, Unknown gender  All Gender\n",
       "1       AR00887684527932047361                Unknown gender  All Gender\n",
       "2       AR01342548090296467457                        Female      Female\n",
       "3       AR04670024593568694273  Male, Female, Unknown gender  All Gender\n",
       "4       AR04670024593568694273                        Female      Female\n",
       "...                        ...                           ...         ...\n",
       "212632  AR13516143195817246721                        Female      Female\n",
       "212633  AR13405439692208340993  Male, Female, Unknown gender  All Gender\n",
       "212634  AR02874137276340764673  Male, Female, Unknown gender  All Gender\n",
       "212635  AR02719805151341707265  Male, Female, Unknown gender  All Gender\n",
       "212636  AR02719805151341707265  Male, Female, Unknown gender  All Gender\n",
       "\n",
       "[212637 rows x 3 columns]"
      ]
     },
     "execution_count": 143,
     "metadata": {},
     "output_type": "execute_result"
    }
   ],
   "source": [
    "based_gender"
   ]
  },
  {
   "cell_type": "markdown",
   "metadata": {},
   "source": [
    "Karena sudah ada column gender yang baru yang sudah dilakukan cleaning maka column gender_targeting sudah tidak diperlukan lagi, maka akan di remove."
   ]
  },
  {
   "cell_type": "code",
   "execution_count": 144,
   "metadata": {},
   "outputs": [],
   "source": [
    "based_gender.drop(columns='gender_targeting',inplace=True)"
   ]
  },
  {
   "cell_type": "code",
   "execution_count": 145,
   "metadata": {},
   "outputs": [
    {
     "data": {
      "text/html": [
       "<div>\n",
       "<style scoped>\n",
       "    .dataframe tbody tr th:only-of-type {\n",
       "        vertical-align: middle;\n",
       "    }\n",
       "\n",
       "    .dataframe tbody tr th {\n",
       "        vertical-align: top;\n",
       "    }\n",
       "\n",
       "    .dataframe thead th {\n",
       "        text-align: right;\n",
       "    }\n",
       "</style>\n",
       "<table border=\"1\" class=\"dataframe\">\n",
       "  <thead>\n",
       "    <tr style=\"text-align: right;\">\n",
       "      <th></th>\n",
       "      <th>advertiser_id</th>\n",
       "      <th>gender</th>\n",
       "    </tr>\n",
       "  </thead>\n",
       "  <tbody>\n",
       "    <tr>\n",
       "      <th>0</th>\n",
       "      <td>AR03944784249986482177</td>\n",
       "      <td>All Gender</td>\n",
       "    </tr>\n",
       "    <tr>\n",
       "      <th>1</th>\n",
       "      <td>AR00887684527932047361</td>\n",
       "      <td>All Gender</td>\n",
       "    </tr>\n",
       "    <tr>\n",
       "      <th>2</th>\n",
       "      <td>AR01342548090296467457</td>\n",
       "      <td>Female</td>\n",
       "    </tr>\n",
       "    <tr>\n",
       "      <th>3</th>\n",
       "      <td>AR04670024593568694273</td>\n",
       "      <td>All Gender</td>\n",
       "    </tr>\n",
       "    <tr>\n",
       "      <th>4</th>\n",
       "      <td>AR04670024593568694273</td>\n",
       "      <td>Female</td>\n",
       "    </tr>\n",
       "    <tr>\n",
       "      <th>...</th>\n",
       "      <td>...</td>\n",
       "      <td>...</td>\n",
       "    </tr>\n",
       "    <tr>\n",
       "      <th>212632</th>\n",
       "      <td>AR13516143195817246721</td>\n",
       "      <td>Female</td>\n",
       "    </tr>\n",
       "    <tr>\n",
       "      <th>212633</th>\n",
       "      <td>AR13405439692208340993</td>\n",
       "      <td>All Gender</td>\n",
       "    </tr>\n",
       "    <tr>\n",
       "      <th>212634</th>\n",
       "      <td>AR02874137276340764673</td>\n",
       "      <td>All Gender</td>\n",
       "    </tr>\n",
       "    <tr>\n",
       "      <th>212635</th>\n",
       "      <td>AR02719805151341707265</td>\n",
       "      <td>All Gender</td>\n",
       "    </tr>\n",
       "    <tr>\n",
       "      <th>212636</th>\n",
       "      <td>AR02719805151341707265</td>\n",
       "      <td>All Gender</td>\n",
       "    </tr>\n",
       "  </tbody>\n",
       "</table>\n",
       "<p>212637 rows × 2 columns</p>\n",
       "</div>"
      ],
      "text/plain": [
       "                 advertiser_id      gender\n",
       "0       AR03944784249986482177  All Gender\n",
       "1       AR00887684527932047361  All Gender\n",
       "2       AR01342548090296467457      Female\n",
       "3       AR04670024593568694273  All Gender\n",
       "4       AR04670024593568694273      Female\n",
       "...                        ...         ...\n",
       "212632  AR13516143195817246721      Female\n",
       "212633  AR13405439692208340993  All Gender\n",
       "212634  AR02874137276340764673  All Gender\n",
       "212635  AR02719805151341707265  All Gender\n",
       "212636  AR02719805151341707265  All Gender\n",
       "\n",
       "[212637 rows x 2 columns]"
      ]
     },
     "execution_count": 145,
     "metadata": {},
     "output_type": "execute_result"
    }
   ],
   "source": [
    "based_gender"
   ]
  },
  {
   "cell_type": "markdown",
   "metadata": {},
   "source": [
    "Melakukan GROUPBY untuk menjumlahkan total adds untuk target semua gender (All Gender), male, female."
   ]
  },
  {
   "cell_type": "code",
   "execution_count": 146,
   "metadata": {},
   "outputs": [],
   "source": [
    "based_gender_sum = pd.DataFrame(based_gender.groupby('gender')['advertiser_id'].count()).reset_index()"
   ]
  },
  {
   "cell_type": "code",
   "execution_count": 147,
   "metadata": {},
   "outputs": [
    {
     "data": {
      "text/html": [
       "<div>\n",
       "<style scoped>\n",
       "    .dataframe tbody tr th:only-of-type {\n",
       "        vertical-align: middle;\n",
       "    }\n",
       "\n",
       "    .dataframe tbody tr th {\n",
       "        vertical-align: top;\n",
       "    }\n",
       "\n",
       "    .dataframe thead th {\n",
       "        text-align: right;\n",
       "    }\n",
       "</style>\n",
       "<table border=\"1\" class=\"dataframe\">\n",
       "  <thead>\n",
       "    <tr style=\"text-align: right;\">\n",
       "      <th></th>\n",
       "      <th>gender</th>\n",
       "      <th>advertiser_id</th>\n",
       "    </tr>\n",
       "  </thead>\n",
       "  <tbody>\n",
       "    <tr>\n",
       "      <th>0</th>\n",
       "      <td>All Gender</td>\n",
       "      <td>172759</td>\n",
       "    </tr>\n",
       "    <tr>\n",
       "      <th>1</th>\n",
       "      <td>Female</td>\n",
       "      <td>22673</td>\n",
       "    </tr>\n",
       "    <tr>\n",
       "      <th>2</th>\n",
       "      <td>Male</td>\n",
       "      <td>17205</td>\n",
       "    </tr>\n",
       "  </tbody>\n",
       "</table>\n",
       "</div>"
      ],
      "text/plain": [
       "       gender  advertiser_id\n",
       "0  All Gender         172759\n",
       "1      Female          22673\n",
       "2        Male          17205"
      ]
     },
     "execution_count": 147,
     "metadata": {},
     "output_type": "execute_result"
    }
   ],
   "source": [
    "based_gender_sum"
   ]
  },
  {
   "cell_type": "markdown",
   "metadata": {},
   "source": [
    "Lalu dibuat dalam bentuk persentase."
   ]
  },
  {
   "cell_type": "code",
   "execution_count": 148,
   "metadata": {},
   "outputs": [],
   "source": [
    "total_id = based_gender_sum['advertiser_id'].sum()"
   ]
  },
  {
   "cell_type": "code",
   "execution_count": 149,
   "metadata": {},
   "outputs": [],
   "source": [
    "based_gender_sum['persentase'] = round((based_gender_sum['advertiser_id']/total_id)*100,2)"
   ]
  },
  {
   "cell_type": "code",
   "execution_count": 150,
   "metadata": {},
   "outputs": [
    {
     "data": {
      "text/html": [
       "<div>\n",
       "<style scoped>\n",
       "    .dataframe tbody tr th:only-of-type {\n",
       "        vertical-align: middle;\n",
       "    }\n",
       "\n",
       "    .dataframe tbody tr th {\n",
       "        vertical-align: top;\n",
       "    }\n",
       "\n",
       "    .dataframe thead th {\n",
       "        text-align: right;\n",
       "    }\n",
       "</style>\n",
       "<table border=\"1\" class=\"dataframe\">\n",
       "  <thead>\n",
       "    <tr style=\"text-align: right;\">\n",
       "      <th></th>\n",
       "      <th>gender</th>\n",
       "      <th>advertiser_id</th>\n",
       "      <th>persentase</th>\n",
       "    </tr>\n",
       "  </thead>\n",
       "  <tbody>\n",
       "    <tr>\n",
       "      <th>0</th>\n",
       "      <td>All Gender</td>\n",
       "      <td>172759</td>\n",
       "      <td>81.25</td>\n",
       "    </tr>\n",
       "    <tr>\n",
       "      <th>1</th>\n",
       "      <td>Female</td>\n",
       "      <td>22673</td>\n",
       "      <td>10.66</td>\n",
       "    </tr>\n",
       "    <tr>\n",
       "      <th>2</th>\n",
       "      <td>Male</td>\n",
       "      <td>17205</td>\n",
       "      <td>8.09</td>\n",
       "    </tr>\n",
       "  </tbody>\n",
       "</table>\n",
       "</div>"
      ],
      "text/plain": [
       "       gender  advertiser_id  persentase\n",
       "0  All Gender         172759       81.25\n",
       "1      Female          22673       10.66\n",
       "2        Male          17205        8.09"
      ]
     },
     "execution_count": 150,
     "metadata": {},
     "output_type": "execute_result"
    }
   ],
   "source": [
    "based_gender_sum"
   ]
  },
  {
   "cell_type": "markdown",
   "metadata": {},
   "source": [
    "to csv untuk save dataframe ke csv format."
   ]
  },
  {
   "cell_type": "code",
   "execution_count": 151,
   "metadata": {},
   "outputs": [],
   "source": [
    "#based_gender_sum.to_csv('gender.csv')"
   ]
  },
  {
   "cell_type": "markdown",
   "metadata": {},
   "source": [
    "Melalui data ini Saya ingin melihat proporsi target pada political ads terhadap gendernya, sehingga Saya ingin memvisualisasikan dalam bentuk pie chart."
   ]
  },
  {
   "cell_type": "markdown",
   "metadata": {},
   "source": [
    "## Ads type"
   ]
  },
  {
   "cell_type": "markdown",
   "metadata": {},
   "source": [
    "Loading data query 3 berisikan tipe ads dan total spend dan impressions yang di dapat."
   ]
  },
  {
   "cell_type": "code",
   "execution_count": 152,
   "metadata": {},
   "outputs": [
    {
     "data": {
      "text/html": [
       "<div>\n",
       "<style scoped>\n",
       "    .dataframe tbody tr th:only-of-type {\n",
       "        vertical-align: middle;\n",
       "    }\n",
       "\n",
       "    .dataframe tbody tr th {\n",
       "        vertical-align: top;\n",
       "    }\n",
       "\n",
       "    .dataframe thead th {\n",
       "        text-align: right;\n",
       "    }\n",
       "</style>\n",
       "<table border=\"1\" class=\"dataframe\">\n",
       "  <thead>\n",
       "    <tr style=\"text-align: right;\">\n",
       "      <th></th>\n",
       "      <th>regions</th>\n",
       "      <th>ad_type</th>\n",
       "      <th>impressions</th>\n",
       "      <th>spend_usd</th>\n",
       "    </tr>\n",
       "  </thead>\n",
       "  <tbody>\n",
       "    <tr>\n",
       "      <th>0</th>\n",
       "      <td>US</td>\n",
       "      <td>IMAGE</td>\n",
       "      <td>8000</td>\n",
       "      <td>100</td>\n",
       "    </tr>\n",
       "    <tr>\n",
       "      <th>1</th>\n",
       "      <td>US</td>\n",
       "      <td>IMAGE</td>\n",
       "      <td>30000</td>\n",
       "      <td>400</td>\n",
       "    </tr>\n",
       "    <tr>\n",
       "      <th>2</th>\n",
       "      <td>US</td>\n",
       "      <td>IMAGE</td>\n",
       "      <td>1000</td>\n",
       "      <td>100</td>\n",
       "    </tr>\n",
       "    <tr>\n",
       "      <th>3</th>\n",
       "      <td>US</td>\n",
       "      <td>IMAGE</td>\n",
       "      <td>80000</td>\n",
       "      <td>500</td>\n",
       "    </tr>\n",
       "    <tr>\n",
       "      <th>4</th>\n",
       "      <td>US</td>\n",
       "      <td>IMAGE</td>\n",
       "      <td>1000</td>\n",
       "      <td>100</td>\n",
       "    </tr>\n",
       "    <tr>\n",
       "      <th>5</th>\n",
       "      <td>US</td>\n",
       "      <td>IMAGE</td>\n",
       "      <td>2000</td>\n",
       "      <td>100</td>\n",
       "    </tr>\n",
       "    <tr>\n",
       "      <th>6</th>\n",
       "      <td>US</td>\n",
       "      <td>IMAGE</td>\n",
       "      <td>20000</td>\n",
       "      <td>100</td>\n",
       "    </tr>\n",
       "    <tr>\n",
       "      <th>7</th>\n",
       "      <td>US</td>\n",
       "      <td>IMAGE</td>\n",
       "      <td>3000</td>\n",
       "      <td>100</td>\n",
       "    </tr>\n",
       "    <tr>\n",
       "      <th>8</th>\n",
       "      <td>US</td>\n",
       "      <td>IMAGE</td>\n",
       "      <td>25000</td>\n",
       "      <td>100</td>\n",
       "    </tr>\n",
       "    <tr>\n",
       "      <th>9</th>\n",
       "      <td>US</td>\n",
       "      <td>IMAGE</td>\n",
       "      <td>125000</td>\n",
       "      <td>200</td>\n",
       "    </tr>\n",
       "  </tbody>\n",
       "</table>\n",
       "</div>"
      ],
      "text/plain": [
       "  regions ad_type  impressions  spend_usd\n",
       "0      US   IMAGE         8000        100\n",
       "1      US   IMAGE        30000        400\n",
       "2      US   IMAGE         1000        100\n",
       "3      US   IMAGE        80000        500\n",
       "4      US   IMAGE         1000        100\n",
       "5      US   IMAGE         2000        100\n",
       "6      US   IMAGE        20000        100\n",
       "7      US   IMAGE         3000        100\n",
       "8      US   IMAGE        25000        100\n",
       "9      US   IMAGE       125000        200"
      ]
     },
     "execution_count": 152,
     "metadata": {},
     "output_type": "execute_result"
    }
   ],
   "source": [
    "based_ads_type = pd.read_csv(\"deployment/ads_based_adtype.csv\")\n",
    "based_ads_type.head(10)"
   ]
  },
  {
   "cell_type": "code",
   "execution_count": 153,
   "metadata": {},
   "outputs": [
    {
     "name": "stdout",
     "output_type": "stream",
     "text": [
      "<class 'pandas.core.frame.DataFrame'>\n",
      "RangeIndex: 634153 entries, 0 to 634152\n",
      "Data columns (total 4 columns):\n",
      " #   Column       Non-Null Count   Dtype \n",
      "---  ------       --------------   ----- \n",
      " 0   regions      634153 non-null  object\n",
      " 1   ad_type      634153 non-null  object\n",
      " 2   impressions  634153 non-null  int64 \n",
      " 3   spend_usd    634153 non-null  int64 \n",
      "dtypes: int64(2), object(2)\n",
      "memory usage: 19.4+ MB\n"
     ]
    }
   ],
   "source": [
    "based_ads_type.info()"
   ]
  },
  {
   "cell_type": "markdown",
   "metadata": {},
   "source": [
    "Tidak ada missing values."
   ]
  },
  {
   "cell_type": "code",
   "execution_count": 154,
   "metadata": {},
   "outputs": [
    {
     "data": {
      "text/plain": [
       "array(['IMAGE', 'TEXT', 'VIDEO'], dtype=object)"
      ]
     },
     "execution_count": 154,
     "metadata": {},
     "output_type": "execute_result"
    }
   ],
   "source": [
    "based_ads_type['ad_type'].unique()"
   ]
  },
  {
   "cell_type": "markdown",
   "metadata": {},
   "source": [
    "Terdapat 3 tipe ads, yaitu text, image, dan video."
   ]
  },
  {
   "cell_type": "markdown",
   "metadata": {},
   "source": [
    "Melakukan query dengan membuat variabel per tipe adsnya."
   ]
  },
  {
   "cell_type": "code",
   "execution_count": 155,
   "metadata": {},
   "outputs": [],
   "source": [
    "text = based_ads_type[based_ads_type['ad_type'] == 'TEXT']\n",
    "image = based_ads_type[based_ads_type['ad_type'] == 'IMAGE']\n",
    "video = based_ads_type[based_ads_type['ad_type'] == 'VIDEO']\n"
   ]
  },
  {
   "cell_type": "code",
   "execution_count": 156,
   "metadata": {},
   "outputs": [],
   "source": [
    "#text.to_csv('text.csv')\n",
    "#image.to_csv('image.csv')\n",
    "#video.to_csv('vide0.csv')"
   ]
  },
  {
   "cell_type": "markdown",
   "metadata": {},
   "source": [
    "Dengan data tipe ads ini Saya ingin membandingkan melalui statistik inferensial terkait perbandingan persebaran tipe ads text, vide, dan image apakah memiliki spend usd dan impression yang sama?"
   ]
  },
  {
   "cell_type": "markdown",
   "metadata": {},
   "source": [
    "# Analysis Data"
   ]
  },
  {
   "cell_type": "markdown",
   "metadata": {},
   "source": [
    "## Query 1"
   ]
  },
  {
   "cell_type": "markdown",
   "metadata": {},
   "source": [
    "### Central Tendency Analysis of Impresions per ads per day"
   ]
  },
  {
   "cell_type": "code",
   "execution_count": 157,
   "metadata": {},
   "outputs": [
    {
     "name": "stdout",
     "output_type": "stream",
     "text": [
      "Mean dari impressions per ads per day 3865.476001892363\n",
      "Median dari impressions per ads per day 178.80186068954077\n",
      "Mode dari impressions per ads per day 250.0\n",
      "Skewness dari impressions per ads per day 17.049500924432834\n",
      "Kurtosis dari impressions per ads per day 381.670631332504\n"
     ]
    }
   ],
   "source": [
    "mean_imperesions_per_ads = ads_data['impressions_per_ads'].mean()\n",
    "median_imperesions_per_ads = ads_data['impressions_per_ads'].median()\n",
    "mode_imperesions_per_ads = ads_data['impressions_per_ads'].mode()\n",
    "skew_impressions_per_ads = ads_data['impressions_per_ads'].skew()\n",
    "kurt_impressions_per_ads = ads_data['impressions_per_ads'].kurt()\n",
    "\n",
    "print(f\"Mean dari impressions per ads per day {mean_imperesions_per_ads}\")\n",
    "print(f\"Median dari impressions per ads per day {median_imperesions_per_ads}\")\n",
    "print(f\"Mode dari impressions per ads per day {mode_imperesions_per_ads[0]}\")\n",
    "print(f\"Skewness dari impressions per ads per day {skew_impressions_per_ads}\")\n",
    "print(f\"Kurtosis dari impressions per ads per day {kurt_impressions_per_ads}\")"
   ]
  },
  {
   "cell_type": "markdown",
   "metadata": {},
   "source": [
    "Berdasarkan analisa central tendecy dari jumlah impression per iklan dalam sehari ini memiliki distribusi positive skew yang dimana mean > median. Hal ini berarti total impression lebih banyak frekuensinya di sebelah kiri dari nilai rata-ratanya. Selain itu juga didukung dengan nilai skewness yang positive >0. Selain itu pada distribusi ini sangat runcing atau terpusat mendekati pada 1 value yang dapat dilihat pada distribusi. Setelah dilihat, hal ini didukung karena nilai kurtosis nya yang sangat tinggi.\n",
    "\n",
    "Rata-rata di US untuk dalam political google ads didapat dalam satu ads per harinya sebanyak 3866 impressions. Dari persebaran data impression per ads per harinya paling banyak frekuensi impressions didapat sebanyak 250 impressions."
   ]
  },
  {
   "cell_type": "markdown",
   "metadata": {},
   "source": [
    "### Central Tendency Analysis of USD per ads per day"
   ]
  },
  {
   "cell_type": "code",
   "execution_count": 158,
   "metadata": {},
   "outputs": [
    {
     "name": "stdout",
     "output_type": "stream",
     "text": [
      "Mean dari USD per ads per day 89.11376383595831\n",
      "Median dari USD per ads per day 6.414544254359425\n",
      "Mode dari USD per ads per day 100.0\n",
      "Skewness dari USD per ads per day 18.174422897815166\n",
      "Kurtosis dari USD per ads per day 518.7374740187463\n"
     ]
    }
   ],
   "source": [
    "mean_usd_per_ads = ads_data['usd_per_ads_day'].mean()\n",
    "median_usd_per_ads = ads_data['usd_per_ads_day'].median()\n",
    "mode_usd_per_ads = ads_data['usd_per_ads_day'].mode()\n",
    "skew_usd_per_ads = ads_data['usd_per_ads_day'].skew()\n",
    "kurt_usd_per_ads = ads_data['usd_per_ads_day'].kurt()\n",
    "\n",
    "print(f\"Mean dari USD per ads per day {mean_usd_per_ads}\")\n",
    "print(f\"Median dari USD per ads per day {median_usd_per_ads}\")\n",
    "print(f\"Mode dari USD per ads per day {mode_usd_per_ads[0]}\")\n",
    "print(f\"Skewness dari USD per ads per day {skew_usd_per_ads}\")\n",
    "print(f\"Kurtosis dari USD per ads per day {kurt_usd_per_ads}\")"
   ]
  },
  {
   "cell_type": "markdown",
   "metadata": {},
   "source": [
    "Berdasarkan analisa central tendecy dari jumlah impression per iklan dalam sehari ini memiliki distribusi positive skew yang dimana mean > median. Hal ini berarti total impression lebih banyak frekuensinya di sebelah kiri dari nilai rata-ratanya. Selain itu juga didukung dengan nilai skewness yang positive >0. Selain itu pada distribusi ini sangat runcing atau terpusat mendekati pada 1 value yang dapat dilihat pada distribusi. Setelah dilihat, hal ini didukung karena nilai kurtosis nya yang sangat tinggi.\n",
    "\n",
    "Rata-rata di US melakukan spending per ads per harinya untuk political google ads sebanyak 89 US Dollar. Dari persebaran data impression per ads per harinya paling banyak frekuensi spending didapat sebanyak 100 US Dollar."
   ]
  },
  {
   "cell_type": "code",
   "execution_count": 159,
   "metadata": {},
   "outputs": [
    {
     "name": "stderr",
     "output_type": "stream",
     "text": [
      "c:\\Users\\maula\\anaconda3\\lib\\site-packages\\seaborn\\distributions.py:2619: FutureWarning:\n",
      "\n",
      "`distplot` is a deprecated function and will be removed in a future version. Please adapt your code to use either `displot` (a figure-level function with similar flexibility) or `histplot` (an axes-level function for histograms).\n",
      "\n",
      "c:\\Users\\maula\\anaconda3\\lib\\site-packages\\seaborn\\distributions.py:2619: FutureWarning:\n",
      "\n",
      "`distplot` is a deprecated function and will be removed in a future version. Please adapt your code to use either `displot` (a figure-level function with similar flexibility) or `histplot` (an axes-level function for histograms).\n",
      "\n"
     ]
    },
    {
     "data": {
      "text/plain": [
       "[Text(0.5, 1.0, 'Distribution of US Dolar Spend in ads per day in United States'),\n",
       " Text(0.5, 0, 'Total Spend in US Dollar')]"
      ]
     },
     "execution_count": 159,
     "metadata": {},
     "output_type": "execute_result"
    },
    {
     "data": {
      "image/png": "[encoded data removed]",
      "text/plain": [
       "<Figure size 1152x576 with 2 Axes>"
      ]
     },
     "metadata": {},
     "output_type": "display_data"
    }
   ],
   "source": [
    "plt.figure(figsize=(16,8))\n",
    "plt.subplot(2,2,1)\n",
    "sns.distplot(ads_data['impressions_per_ads'],color = 'red').set(title = 'Distribution of Impressions of ads per day in United States',xlabel ='Impressions')\n",
    "plt.subplot(2,2,2)\n",
    "sns.distplot(ads_data['usd_per_ads_day'],color='green').set(title = 'Distribution of US Dolar Spend in ads per day in United States',xlabel ='Total Spend in US Dollar')"
   ]
  },
  {
   "cell_type": "markdown",
   "metadata": {},
   "source": [
    "Terlihat dan dibuktikan dalam distribution plot bahwa persebaran impressions dan total spend di United States ini memiliki tipe distribusi positive skew. Sehingga banyak distribusi value berada di sisi kiri mean."
   ]
  },
  {
   "cell_type": "markdown",
   "metadata": {},
   "source": [
    "### Distributions of US Spend with Total Impression (Scatter Plot)"
   ]
  },
  {
   "cell_type": "code",
   "execution_count": 160,
   "metadata": {},
   "outputs": [
    {
     "data": {
      "text/plain": [
       "Text(0.5, 1.0, 'The Distributions of Total Spending with Total Impressions ')"
      ]
     },
     "execution_count": 160,
     "metadata": {},
     "output_type": "execute_result"
    },
    {
     "data": {
      "image/png": "[encoded data removed]",
      "text/plain": [
       "<Figure size 432x288 with 1 Axes>"
      ]
     },
     "metadata": {},
     "output_type": "display_data"
    }
   ],
   "source": [
    "plt.scatter(y=ads_data['impressions_per_ads'],x=ads_data['usd_per_ads_day'])\n",
    "plt.xlabel('Spend in US Dollar')\n",
    "plt.ylabel('Impressions')\n",
    "plt.title(\"The Distributions of Total Spending with Total Impressions \")"
   ]
  },
  {
   "cell_type": "markdown",
   "metadata": {},
   "source": [
    "Dapat disimpulkan bahwa perilaku warga United States pada umumnya  baik itu pada setiap organisasi atau individu melakukan budgeting untuk political ads di google untuk 1 iklannya dalam 1 hari di bawah 7.500 US Dollar dengan mendapatkan impression di bawah 300.000 impressions. Walupun terdapat juga tidak banyak berada di angka di atas spend dan impression yang telah disebutkan."
   ]
  },
  {
   "cell_type": "markdown",
   "metadata": {},
   "source": [
    "## MAP"
   ]
  },
  {
   "cell_type": "markdown",
   "metadata": {},
   "source": [
    "### Plot based on total_ads"
   ]
  },
  {
   "cell_type": "markdown",
   "metadata": {},
   "source": [
    "Mencari tahu nilai min dan max total ads"
   ]
  },
  {
   "cell_type": "code",
   "execution_count": 161,
   "metadata": {},
   "outputs": [
    {
     "data": {
      "text/plain": [
       "3947"
      ]
     },
     "execution_count": 161,
     "metadata": {},
     "output_type": "execute_result"
    }
   ],
   "source": [
    "based_geo_long_lat.total_ads.min()"
   ]
  },
  {
   "cell_type": "code",
   "execution_count": 162,
   "metadata": {},
   "outputs": [
    {
     "data": {
      "text/plain": [
       "5332"
      ]
     },
     "execution_count": 162,
     "metadata": {},
     "output_type": "execute_result"
    }
   ],
   "source": [
    "based_geo_long_lat.total_ads.max()"
   ]
  },
  {
   "cell_type": "markdown",
   "metadata": {},
   "source": [
    "Melakukan sorting values terhadap total_ads nya."
   ]
  },
  {
   "cell_type": "code",
   "execution_count": 163,
   "metadata": {},
   "outputs": [],
   "source": [
    "based_geo_long_lat.sort_values('total_ads',ascending=True,inplace=True)\n",
    "based_geo_long_lat.reset_index(inplace=True)\n",
    "based_geo_long_lat.drop(columns='index',inplace=True)"
   ]
  },
  {
   "cell_type": "code",
   "execution_count": 164,
   "metadata": {},
   "outputs": [
    {
     "name": "stdout",
     "output_type": "stream",
     "text": [
      "<class 'pandas.core.frame.DataFrame'>\n",
      "RangeIndex: 51 entries, 0 to 50\n",
      "Data columns (total 8 columns):\n",
      " #   Column          Non-Null Count  Dtype  \n",
      "---  ------          --------------  -----  \n",
      " 0   country         51 non-null     object \n",
      " 1   state           51 non-null     object \n",
      " 2   total_district  51 non-null     int64  \n",
      " 3   total_ads       51 non-null     int64  \n",
      " 4   total_spend     51 non-null     int64  \n",
      " 5   latitude        51 non-null     float64\n",
      " 6   longitude       51 non-null     float64\n",
      " 7   name            51 non-null     object \n",
      "dtypes: float64(2), int64(3), object(3)\n",
      "memory usage: 3.3+ KB\n"
     ]
    }
   ],
   "source": [
    "based_geo_long_lat.info()"
   ]
  },
  {
   "cell_type": "markdown",
   "metadata": {},
   "source": [
    "Total ads setiap state berada di range antara 3947 ads hingga 5332 ads."
   ]
  },
  {
   "cell_type": "markdown",
   "metadata": {},
   "source": [
    "Sehingga dilakukan partisi per stages sebagai berikut:"
   ]
  },
  {
   "cell_type": "markdown",
   "metadata": {},
   "source": [
    "<4000 , 4000 - 4250, 4250-4500, 4500-4750,-4750-5000, >5000"
   ]
  },
  {
   "cell_type": "markdown",
   "metadata": {},
   "source": [
    "membuat variable stages:"
   ]
  },
  {
   "cell_type": "code",
   "execution_count": 165,
   "metadata": {},
   "outputs": [],
   "source": [
    "stages= [\"< 4000\",\"4001-4500\",\"4501-5000\",\"5000+\"]"
   ]
  },
  {
   "cell_type": "markdown",
   "metadata": {},
   "source": [
    "Melalui tuples ini akan di cari value yang memenuhi dengan kondisi yang sudah di tentukan lalu disimpen indexnya jika memenuhi."
   ]
  },
  {
   "cell_type": "code",
   "execution_count": 166,
   "metadata": {},
   "outputs": [
    {
     "data": {
      "text/plain": [
       "[(0, 1), (1, 13), (13, 40), (40, 51)]"
      ]
     },
     "execution_count": 166,
     "metadata": {},
     "output_type": "execute_result"
    }
   ],
   "source": [
    "tuple1 = (0, based_geo_long_lat[based_geo_long_lat.total_ads <= 4000].index[-1]+1)\n",
    "tuple2 = (tuple1[1], based_geo_long_lat[(based_geo_long_lat.total_ads > 4000) & (based_geo_long_lat.total_ads <=4500)].index[-1]+1)\n",
    "tuple3 = (tuple2[1], based_geo_long_lat[(based_geo_long_lat.total_ads > 4501) & (based_geo_long_lat.total_ads <=5000)].index[-1]+1)\n",
    "tuple4 = (tuple3[1], based_geo_long_lat[based_geo_long_lat.total_ads > 5001].index[-1]+1)\n",
    "limits = [tuple1, tuple2, tuple3, tuple4]\n",
    "limits\n"
   ]
  },
  {
   "cell_type": "markdown",
   "metadata": {},
   "source": [
    "Membuat variable colors untuk membedakan warna setiap stages nya."
   ]
  },
  {
   "cell_type": "code",
   "execution_count": 167,
   "metadata": {},
   "outputs": [],
   "source": [
    "colors = [\"#F4C2C2\",\"#FF6961\",\"#FF1C00\",\"#D73B3E\",\"#A40000\", \"#321414\"]"
   ]
  },
  {
   "cell_type": "markdown",
   "metadata": {},
   "source": [
    "Melakukan plotting maps dengan kombinasi scatter plot dengan menggunakan library plotly disini dengan input juga latitude dan longitudenya dan juga beberapa kategori stages yang telah dibuat sebelumnya."
   ]
  },
  {
   "cell_type": "code",
   "execution_count": 168,
   "metadata": {},
   "outputs": [],
   "source": [
    "fig = go.Figure()\n",
    "stage_counter = 0\n",
    "for i in range(len(limits)):\n",
    "    lim = limits[i]\n",
    "    df_sub = based_geo_long_lat[lim[0]:lim[1]]\n",
    "    fig.add_trace(go.Scattergeo(\n",
    "        locationmode = 'USA-states',\n",
    "        lon = df_sub['longitude'],\n",
    "        lat = df_sub['latitude'],\n",
    "        text = df_sub['name'],\n",
    "        marker = dict(\n",
    "            size = df_sub['total_ads']*0.1,\n",
    "            color = colors[i],\n",
    "            line_color='rgb(40,40,40)',\n",
    "            line_width=0.5,\n",
    "            sizemode = 'area'\n",
    "        ),\n",
    "        name = '{}'.format(stages[stage_counter])))\n",
    "    stage_counter = stage_counter+1"
   ]
  },
  {
   "cell_type": "code",
   "execution_count": 169,
   "metadata": {},
   "outputs": [
    {
     "data": {
      "application/vnd.plotly.v1+json": {
       "config": {
        "plotlyServerURL": "https://plot.ly"
       },
       "data": [
        {
         "lat": [
          63.588753
         ],
         "locationmode": "USA-states",
         "lon": [
          -154.493062
         ],
         "marker": {
          "color": "#F4C2C2",
          "line": {
           "color": "rgb(40,40,40)",
           "width": 0.5
          },
          "size": [
           394.70000000000005
          ],
          "sizemode": "area"
         },
         "name": "< 4000",
         "text": [
          "Alaska"
         ],
         "type": "scattergeo"
        },
        {
         "lat": [
          41.580095,
          45.253783,
          38.910832,
          47.551493,
          19.898682,
          41.603221,
          44.558803,
          43.969515,
          43.193852,
          46.879682,
          43.075968,
          38.905985
         ],
         "locationmode": "USA-states",
         "lon": [
          -71.477429,
          -69.445469,
          -75.52767,
          -101.002012,
          -155.665857,
          -73.087749,
          -72.577841,
          -99.901813,
          -71.572395,
          -110.362566,
          -107.290284,
          -77.033418
         ],
         "marker": {
          "color": "#FF6961",
          "line": {
           "color": "rgb(40,40,40)",
           "width": 0.5
          },
          "size": [
           407.5,
           409.20000000000005,
           416.70000000000005,
           430.1,
           432.40000000000003,
           433.3,
           433.90000000000003,
           435.70000000000005,
           436.1,
           438.70000000000005,
           439.6,
           441.5
          ],
          "sizemode": "area"
         },
         "name": "4001-4500",
         "text": [
          "Rhode Island",
          "Maine",
          "Delaware",
          "North Dakota",
          "Hawaii",
          "Connecticut",
          "Vermont",
          "South Dakota",
          "New Hampshire",
          "Montana",
          "Wyoming",
          "District of Columbia"
         ],
         "type": "scattergeo"
        },
        {
         "lat": [
          42.407211,
          44.068202,
          32.354668,
          41.492537,
          38.597626,
          35.20105,
          40.058324,
          39.011902,
          34.97273,
          41.878003,
          35.007752,
          31.244823,
          39.32098,
          47.751074,
          37.839333,
          43.804133,
          32.318231,
          39.045755,
          38.80261,
          37.964253,
          46.729553,
          43.78444,
          33.836081,
          40.551217,
          39.550051,
          35.517491,
          34.048928
         ],
         "locationmode": "USA-states",
         "lon": [
          -71.382437,
          -114.742041,
          -89.398528,
          -99.901813,
          -80.454903,
          -91.831833,
          -74.405661,
          -98.484246,
          -105.032363,
          -93.097702,
          -97.092877,
          -92.145024,
          -111.093731,
          -120.740139,
          -84.270018,
          -120.554201,
          -86.902298,
          -76.641271,
          -116.419389,
          -91.831833,
          -94.6859,
          -88.787868,
          -81.163725,
          -85.602364,
          -105.782067,
          -86.580447,
          -111.093731
         ],
         "marker": {
          "color": "#FF1C00",
          "line": {
           "color": "rgb(40,40,40)",
           "width": 0.5
          },
          "size": [
           450.5,
           453.8,
           456.6,
           458.40000000000003,
           462.5,
           463.8,
           466.3,
           468.1,
           468.3,
           469.40000000000003,
           469.6,
           470,
           472.6,
           473.5,
           473.8,
           476.8,
           478.6,
           480.90000000000003,
           482.1,
           487,
           487.6,
           488.90000000000003,
           489.20000000000005,
           494,
           498.90000000000003,
           498.90000000000003,
           499.3
          ],
          "sizemode": "area"
         },
         "name": "4501-5000",
         "text": [
          "Massachusetts",
          "Idaho",
          "Mississippi",
          "Nebraska",
          "West Virginia",
          "Arkansas",
          "New Jersey",
          "Kansas",
          "New Mexico",
          "Iowa",
          "Oklahoma",
          "Louisiana",
          "Utah",
          "Washington",
          "Kentucky",
          "Oregon",
          "Alabama",
          "Maryland",
          "Nevada",
          "Missouri",
          "Minnesota",
          "Wisconsin",
          "South Carolina",
          "Indiana",
          "Colorado",
          "Tennessee",
          "Arizona"
         ],
         "type": "scattergeo"
        },
        {
         "lat": [
          43.299428,
          44.314844,
          40.417287,
          35.759573,
          32.157435,
          37.431573,
          40.633125,
          41.203322,
          31.968599,
          27.664827,
          36.778261
         ],
         "locationmode": "USA-states",
         "lon": [
          -74.217933,
          -85.602364,
          -82.907123,
          -79.0193,
          -82.907123,
          -78.656894,
          -89.398528,
          -77.194525,
          -99.901813,
          -81.515754,
          -119.417932
         ],
         "marker": {
          "color": "#D73B3E",
          "line": {
           "color": "rgb(40,40,40)",
           "width": 0.5
          },
          "size": [
           501,
           502.5,
           505.70000000000005,
           506.20000000000005,
           506.90000000000003,
           511.8,
           513.4,
           515,
           522.1,
           523.5,
           533.2
          ],
          "sizemode": "area"
         },
         "name": "5000+",
         "text": [
          "New York",
          "Michigan",
          "Ohio",
          "North Carolina",
          "Georgia",
          "Virginia",
          "Illinois",
          "Pennsylvania",
          "Texas",
          "Florida",
          "California"
         ],
         "type": "scattergeo"
        }
       ],
       "layout": {
        "geo": {
         "landcolor": "rgb(217, 217, 217)",
         "projection": {
          "type": "albers usa"
         },
         "scope": "usa"
        },
        "legend": {
         "title": {
          "text": "Range Of Total Ads"
         }
        },
        "showlegend": true,
        "template": {
         "data": {
          "bar": [
           {
            "error_x": {
             "color": "#2a3f5f"
            },
            "error_y": {
             "color": "#2a3f5f"
            },
            "marker": {
             "line": {
              "color": "#E5ECF6",
              "width": 0.5
             },
             "pattern": {
              "fillmode": "overlay",
              "size": 10,
              "solidity": 0.2
             }
            },
            "type": "bar"
           }
          ],
          "barpolar": [
           {
            "marker": {
             "line": {
              "color": "#E5ECF6",
              "width": 0.5
             },
             "pattern": {
              "fillmode": "overlay",
              "size": 10,
              "solidity": 0.2
             }
            },
            "type": "barpolar"
           }
          ],
          "carpet": [
           {
            "aaxis": {
             "endlinecolor": "#2a3f5f",
             "gridcolor": "white",
             "linecolor": "white",
             "minorgridcolor": "white",
             "startlinecolor": "#2a3f5f"
            },
            "baxis": {
             "endlinecolor": "#2a3f5f",
             "gridcolor": "white",
             "linecolor": "white",
             "minorgridcolor": "white",
             "startlinecolor": "#2a3f5f"
            },
            "type": "carpet"
           }
          ],
          "choropleth": [
           {
            "colorbar": {
             "outlinewidth": 0,
             "ticks": ""
            },
            "type": "choropleth"
           }
          ],
          "contour": [
           {
            "colorbar": {
             "outlinewidth": 0,
             "ticks": ""
            },
            "colorscale": [
             [
              0,
              "#0d0887"
             ],
             [
              0.1111111111111111,
              "#46039f"
             ],
             [
              0.2222222222222222,
              "#7201a8"
             ],
             [
              0.3333333333333333,
              "#9c179e"
             ],
             [
              0.4444444444444444,
              "#bd3786"
             ],
             [
              0.5555555555555556,
              "#d8576b"
             ],
             [
              0.6666666666666666,
              "#ed7953"
             ],
             [
              0.7777777777777778,
              "#fb9f3a"
             ],
             [
              0.8888888888888888,
              "#fdca26"
             ],
             [
              1,
              "#f0f921"
             ]
            ],
            "type": "contour"
           }
          ],
          "contourcarpet": [
           {
            "colorbar": {
             "outlinewidth": 0,
             "ticks": ""
            },
            "type": "contourcarpet"
           }
          ],
          "heatmap": [
           {
            "colorbar": {
             "outlinewidth": 0,
             "ticks": ""
            },
            "colorscale": [
             [
              0,
              "#0d0887"
             ],
             [
              0.1111111111111111,
              "#46039f"
             ],
             [
              0.2222222222222222,
              "#7201a8"
             ],
             [
              0.3333333333333333,
              "#9c179e"
             ],
             [
              0.4444444444444444,
              "#bd3786"
             ],
             [
              0.5555555555555556,
              "#d8576b"
             ],
             [
              0.6666666666666666,
              "#ed7953"
             ],
             [
              0.7777777777777778,
              "#fb9f3a"
             ],
             [
              0.8888888888888888,
              "#fdca26"
             ],
             [
              1,
              "#f0f921"
             ]
            ],
            "type": "heatmap"
           }
          ],
          "heatmapgl": [
           {
            "colorbar": {
             "outlinewidth": 0,
             "ticks": ""
            },
            "colorscale": [
             [
              0,
              "#0d0887"
             ],
             [
              0.1111111111111111,
              "#46039f"
             ],
             [
              0.2222222222222222,
              "#7201a8"
             ],
             [
              0.3333333333333333,
              "#9c179e"
             ],
             [
              0.4444444444444444,
              "#bd3786"
             ],
             [
              0.5555555555555556,
              "#d8576b"
             ],
             [
              0.6666666666666666,
              "#ed7953"
             ],
             [
              0.7777777777777778,
              "#fb9f3a"
             ],
             [
              0.8888888888888888,
              "#fdca26"
             ],
             [
              1,
              "#f0f921"
             ]
            ],
            "type": "heatmapgl"
           }
          ],
          "histogram": [
           {
            "marker": {
             "pattern": {
              "fillmode": "overlay",
              "size": 10,
              "solidity": 0.2
             }
            },
            "type": "histogram"
           }
          ],
          "histogram2d": [
           {
            "colorbar": {
             "outlinewidth": 0,
             "ticks": ""
            },
            "colorscale": [
             [
              0,
              "#0d0887"
             ],
             [
              0.1111111111111111,
              "#46039f"
             ],
             [
              0.2222222222222222,
              "#7201a8"
             ],
             [
              0.3333333333333333,
              "#9c179e"
             ],
             [
              0.4444444444444444,
              "#bd3786"
             ],
             [
              0.5555555555555556,
              "#d8576b"
             ],
             [
              0.6666666666666666,
              "#ed7953"
             ],
             [
              0.7777777777777778,
              "#fb9f3a"
             ],
             [
              0.8888888888888888,
              "#fdca26"
             ],
             [
              1,
              "#f0f921"
             ]
            ],
            "type": "histogram2d"
           }
          ],
          "histogram2dcontour": [
           {
            "colorbar": {
             "outlinewidth": 0,
             "ticks": ""
            },
            "colorscale": [
             [
              0,
              "#0d0887"
             ],
             [
              0.1111111111111111,
              "#46039f"
             ],
             [
              0.2222222222222222,
              "#7201a8"
             ],
             [
              0.3333333333333333,
              "#9c179e"
             ],
             [
              0.4444444444444444,
              "#bd3786"
             ],
             [
              0.5555555555555556,
              "#d8576b"
             ],
             [
              0.6666666666666666,
              "#ed7953"
             ],
             [
              0.7777777777777778,
              "#fb9f3a"
             ],
             [
              0.8888888888888888,
              "#fdca26"
             ],
             [
              1,
              "#f0f921"
             ]
            ],
            "type": "histogram2dcontour"
           }
          ],
          "mesh3d": [
           {
            "colorbar": {
             "outlinewidth": 0,
             "ticks": ""
            },
            "type": "mesh3d"
           }
          ],
          "parcoords": [
           {
            "line": {
             "colorbar": {
              "outlinewidth": 0,
              "ticks": ""
             }
            },
            "type": "parcoords"
           }
          ],
          "pie": [
           {
            "automargin": true,
            "type": "pie"
           }
          ],
          "scatter": [
           {
            "fillpattern": {
             "fillmode": "overlay",
             "size": 10,
             "solidity": 0.2
            },
            "type": "scatter"
           }
          ],
          "scatter3d": [
           {
            "line": {
             "colorbar": {
              "outlinewidth": 0,
              "ticks": ""
             }
            },
            "marker": {
             "colorbar": {
              "outlinewidth": 0,
              "ticks": ""
             }
            },
            "type": "scatter3d"
           }
          ],
          "scattercarpet": [
           {
            "marker": {
             "colorbar": {
              "outlinewidth": 0,
              "ticks": ""
             }
            },
            "type": "scattercarpet"
           }
          ],
          "scattergeo": [
           {
            "marker": {
             "colorbar": {
              "outlinewidth": 0,
              "ticks": ""
             }
            },
            "type": "scattergeo"
           }
          ],
          "scattergl": [
           {
            "marker": {
             "colorbar": {
              "outlinewidth": 0,
              "ticks": ""
             }
            },
            "type": "scattergl"
           }
          ],
          "scattermapbox": [
           {
            "marker": {
             "colorbar": {
              "outlinewidth": 0,
              "ticks": ""
             }
            },
            "type": "scattermapbox"
           }
          ],
          "scatterpolar": [
           {
            "marker": {
             "colorbar": {
              "outlinewidth": 0,
              "ticks": ""
             }
            },
            "type": "scatterpolar"
           }
          ],
          "scatterpolargl": [
           {
            "marker": {
             "colorbar": {
              "outlinewidth": 0,
              "ticks": ""
             }
            },
            "type": "scatterpolargl"
           }
          ],
          "scatterternary": [
           {
            "marker": {
             "colorbar": {
              "outlinewidth": 0,
              "ticks": ""
             }
            },
            "type": "scatterternary"
           }
          ],
          "surface": [
           {
            "colorbar": {
             "outlinewidth": 0,
             "ticks": ""
            },
            "colorscale": [
             [
              0,
              "#0d0887"
             ],
             [
              0.1111111111111111,
              "#46039f"
             ],
             [
              0.2222222222222222,
              "#7201a8"
             ],
             [
              0.3333333333333333,
              "#9c179e"
             ],
             [
              0.4444444444444444,
              "#bd3786"
             ],
             [
              0.5555555555555556,
              "#d8576b"
             ],
             [
              0.6666666666666666,
              "#ed7953"
             ],
             [
              0.7777777777777778,
              "#fb9f3a"
             ],
             [
              0.8888888888888888,
              "#fdca26"
             ],
             [
              1,
              "#f0f921"
             ]
            ],
            "type": "surface"
           }
          ],
          "table": [
           {
            "cells": {
             "fill": {
              "color": "#EBF0F8"
             },
             "line": {
              "color": "white"
             }
            },
            "header": {
             "fill": {
              "color": "#C8D4E3"
             },
             "line": {
              "color": "white"
             }
            },
            "type": "table"
           }
          ]
         },
         "layout": {
          "annotationdefaults": {
           "arrowcolor": "#2a3f5f",
           "arrowhead": 0,
           "arrowwidth": 1
          },
          "autotypenumbers": "strict",
          "coloraxis": {
           "colorbar": {
            "outlinewidth": 0,
            "ticks": ""
           }
          },
          "colorscale": {
           "diverging": [
            [
             0,
             "#8e0152"
            ],
            [
             0.1,
             "#c51b7d"
            ],
            [
             0.2,
             "#de77ae"
            ],
            [
             0.3,
             "#f1b6da"
            ],
            [
             0.4,
             "#fde0ef"
            ],
            [
             0.5,
             "#f7f7f7"
            ],
            [
             0.6,
             "#e6f5d0"
            ],
            [
             0.7,
             "#b8e186"
            ],
            [
             0.8,
             "#7fbc41"
            ],
            [
             0.9,
             "#4d9221"
            ],
            [
             1,
             "#276419"
            ]
           ],
           "sequential": [
            [
             0,
             "#0d0887"
            ],
            [
             0.1111111111111111,
             "#46039f"
            ],
            [
             0.2222222222222222,
             "#7201a8"
            ],
            [
             0.3333333333333333,
             "#9c179e"
            ],
            [
             0.4444444444444444,
             "#bd3786"
            ],
            [
             0.5555555555555556,
             "#d8576b"
            ],
            [
             0.6666666666666666,
             "#ed7953"
            ],
            [
             0.7777777777777778,
             "#fb9f3a"
            ],
            [
             0.8888888888888888,
             "#fdca26"
            ],
            [
             1,
             "#f0f921"
            ]
           ],
           "sequentialminus": [
            [
             0,
             "#0d0887"
            ],
            [
             0.1111111111111111,
             "#46039f"
            ],
            [
             0.2222222222222222,
             "#7201a8"
            ],
            [
             0.3333333333333333,
             "#9c179e"
            ],
            [
             0.4444444444444444,
             "#bd3786"
            ],
            [
             0.5555555555555556,
             "#d8576b"
            ],
            [
             0.6666666666666666,
             "#ed7953"
            ],
            [
             0.7777777777777778,
             "#fb9f3a"
            ],
            [
             0.8888888888888888,
             "#fdca26"
            ],
            [
             1,
             "#f0f921"
            ]
           ]
          },
          "colorway": [
           "#636efa",
           "#EF553B",
           "#00cc96",
           "#ab63fa",
           "#FFA15A",
           "#19d3f3",
           "#FF6692",
           "#B6E880",
           "#FF97FF",
           "#FECB52"
          ],
          "font": {
           "color": "#2a3f5f"
          },
          "geo": {
           "bgcolor": "white",
           "lakecolor": "white",
           "landcolor": "#E5ECF6",
           "showlakes": true,
           "showland": true,
           "subunitcolor": "white"
          },
          "hoverlabel": {
           "align": "left"
          },
          "hovermode": "closest",
          "mapbox": {
           "style": "light"
          },
          "paper_bgcolor": "white",
          "plot_bgcolor": "#E5ECF6",
          "polar": {
           "angularaxis": {
            "gridcolor": "white",
            "linecolor": "white",
            "ticks": ""
           },
           "bgcolor": "#E5ECF6",
           "radialaxis": {
            "gridcolor": "white",
            "linecolor": "white",
            "ticks": ""
           }
          },
          "scene": {
           "xaxis": {
            "backgroundcolor": "#E5ECF6",
            "gridcolor": "white",
            "gridwidth": 2,
            "linecolor": "white",
            "showbackground": true,
            "ticks": "",
            "zerolinecolor": "white"
           },
           "yaxis": {
            "backgroundcolor": "#E5ECF6",
            "gridcolor": "white",
            "gridwidth": 2,
            "linecolor": "white",
            "showbackground": true,
            "ticks": "",
            "zerolinecolor": "white"
           },
           "zaxis": {
            "backgroundcolor": "#E5ECF6",
            "gridcolor": "white",
            "gridwidth": 2,
            "linecolor": "white",
            "showbackground": true,
            "ticks": "",
            "zerolinecolor": "white"
           }
          },
          "shapedefaults": {
           "line": {
            "color": "#2a3f5f"
           }
          },
          "ternary": {
           "aaxis": {
            "gridcolor": "white",
            "linecolor": "white",
            "ticks": ""
           },
           "baxis": {
            "gridcolor": "white",
            "linecolor": "white",
            "ticks": ""
           },
           "bgcolor": "#E5ECF6",
           "caxis": {
            "gridcolor": "white",
            "linecolor": "white",
            "ticks": ""
           }
          },
          "title": {
           "x": 0.05
          },
          "xaxis": {
           "automargin": true,
           "gridcolor": "white",
           "linecolor": "white",
           "ticks": "",
           "title": {
            "standoff": 15
           },
           "zerolinecolor": "white",
           "zerolinewidth": 2
          },
          "yaxis": {
           "automargin": true,
           "gridcolor": "white",
           "linecolor": "white",
           "ticks": "",
           "title": {
            "standoff": 15
           },
           "zerolinecolor": "white",
           "zerolinewidth": 2
          }
         }
        },
        "title": {
         "text": "Total Political Ads Distribution In The United States By Geography",
         "x": 0.5
        }
       }
      }
     },
     "metadata": {},
     "output_type": "display_data"
    }
   ],
   "source": [
    "fig.update_layout(\n",
    "        title_text = 'Total Political Ads Distribution In The United States By Geography',\n",
    "        title_x=0.5,\n",
    "        showlegend = True,\n",
    "        legend_title = 'Range Of Total Ads',\n",
    "        geo = dict(\n",
    "            scope = 'usa',\n",
    "            landcolor = 'rgb(217, 217, 217)',\n",
    "            projection=go.layout.geo.Projection(type = 'albers usa'),\n",
    "        )\n",
    "    )"
   ]
  },
  {
   "cell_type": "markdown",
   "metadata": {},
   "source": [
    "Dapat dilihat bahwa persebaran ads di setiap state ini memiliki range yang tidak jauh, berada di range 3900 hingga 5000. Dapat dilihat juga berdasarkan warna bahwa total ads yang tersebar setiap statesnya mayoritas diatas 4500 ads per statenya."
   ]
  },
  {
   "cell_type": "markdown",
   "metadata": {},
   "source": [
    "### Plot based on total_spend"
   ]
  },
  {
   "cell_type": "markdown",
   "metadata": {},
   "source": [
    "Melakukan sorting values terhadap total_ads nya."
   ]
  },
  {
   "cell_type": "code",
   "execution_count": 170,
   "metadata": {},
   "outputs": [],
   "source": [
    "based_geo_long_lat.sort_values('total_spend',ascending=True,inplace=True)\n",
    "based_geo_long_lat.reset_index(inplace=True)\n",
    "based_geo_long_lat.drop(columns='index',inplace=True)"
   ]
  },
  {
   "cell_type": "markdown",
   "metadata": {},
   "source": [
    "Sehingga dilakukan partisi per stages sebagai berikut:\n",
    "`\"< 5.000.000\",\"5.000.001-10.000.000\",\"10.000.001-20.000.000\",\"20.000.001-30.000.000\",\"30.000.001-40.000.000\",\"40.000.001-50.000.000\", \"50.000.001-60.000.000\",\"60.000.001-70.000.000\",\"70.000.001-80.000.000\", \"80.000.000+\"`"
   ]
  },
  {
   "cell_type": "code",
   "execution_count": 171,
   "metadata": {},
   "outputs": [],
   "source": [
    "stage_spend= [\"< 5.000.000\",\"5.000.001-10.000.000\",\"10.000.001-20.000.000\",\"20.000.001-30.000.000\",\"30.000.001-40.000.000\",\"40.000.001-50.000.000\", \"50.000.001-60.000.000\",\"60.000.001-70.000.000\",\"70.000.001-80.000.000\", \"80.000.000+\"]"
   ]
  },
  {
   "cell_type": "markdown",
   "metadata": {},
   "source": [
    "Melalui tuples ini akan di cari value yang memenuhi dengan kondisi yang sudah di tentukan lalu disimpen indexnya jika memenuhi."
   ]
  },
  {
   "cell_type": "code",
   "execution_count": 172,
   "metadata": {},
   "outputs": [
    {
     "data": {
      "text/plain": [
       "[(0, 19),\n",
       " (19, 27),\n",
       " (27, 37),\n",
       " (37, 42),\n",
       " (42, 44),\n",
       " (44, 47),\n",
       " (47, 48),\n",
       " (48, 49),\n",
       " (49, 50),\n",
       " (50, 51)]"
      ]
     },
     "execution_count": 172,
     "metadata": {},
     "output_type": "execute_result"
    }
   ],
   "source": [
    "# Create tuples of row indexes for the above ranges\n",
    "tuple1_spend = (0, based_geo_long_lat[based_geo_long_lat.total_spend <= 5000000].index[-1]+1)\n",
    "tuple2_spend = (tuple1_spend[1], based_geo_long_lat[(based_geo_long_lat.total_spend > 5000000) & (based_geo_long_lat.total_spend <=10000000)].index[-1]+1)\n",
    "tuple3_spend = (tuple2_spend[1], based_geo_long_lat[(based_geo_long_lat.total_spend > 10000000) & (based_geo_long_lat.total_spend <=20000000)].index[-1]+1)\n",
    "tuple4_spend = (tuple3_spend[1], based_geo_long_lat[(based_geo_long_lat.total_spend > 20000000) & (based_geo_long_lat.total_spend <=30000000)].index[-1]+1)\n",
    "tuple5_spend = (tuple4_spend[1], based_geo_long_lat[(based_geo_long_lat.total_spend > 30000000) & (based_geo_long_lat.total_spend <=40000000)].index[-1]+1)\n",
    "tuple6_spend = (tuple5_spend[1], based_geo_long_lat[(based_geo_long_lat.total_spend > 40000000) & (based_geo_long_lat.total_spend <=50000000)].index[-1]+1)\n",
    "tuple7_spend = (tuple6_spend[1], based_geo_long_lat[(based_geo_long_lat.total_spend > 50000000) & (based_geo_long_lat.total_spend <=60000000)].index[-1]+1)\n",
    "tuple8_spend = (tuple7_spend[1], based_geo_long_lat[(based_geo_long_lat.total_spend > 60000000) & (based_geo_long_lat.total_spend <=70000000)].index[-1]+1)\n",
    "tuple9_spend = (tuple8_spend[1], based_geo_long_lat[(based_geo_long_lat.total_spend > 70000000) & (based_geo_long_lat.total_spend <=80000000)].index[-1]+1)\n",
    "tuple10_spend = (tuple9_spend[1], based_geo_long_lat[based_geo_long_lat.total_spend > 80000000].index[-1]+1)\n",
    "\n",
    "limits_spend = [tuple1_spend, tuple2_spend, tuple3_spend, tuple4_spend, tuple5_spend, tuple6_spend, tuple7_spend, tuple8_spend, tuple9_spend,tuple10_spend]\n",
    "limits_spend"
   ]
  },
  {
   "cell_type": "markdown",
   "metadata": {},
   "source": [
    "Membuat variable colors untuk membedakan warna setiap stages nya."
   ]
  },
  {
   "cell_type": "code",
   "execution_count": 173,
   "metadata": {},
   "outputs": [],
   "source": [
    "colors_spend = [\"#B2EC5D\",\"#7CFC00\",\"#ACE1AF\",\"#77DD77\",\"#85BB65\", \"#03C03C\",\"#008000\",\"#78866B\",\"#556B2F\",\"#414833\"]"
   ]
  },
  {
   "cell_type": "markdown",
   "metadata": {},
   "source": [
    "Melakukan plotting maps dengan kombinasi scatter plot dengan menggunakan library plotly disini dengan input juga latitude dan longitudenya dan juga beberapa kategori stages yang telah dibuat sebelumnya."
   ]
  },
  {
   "cell_type": "code",
   "execution_count": 174,
   "metadata": {},
   "outputs": [],
   "source": [
    "fig_spend = go.Figure()\n",
    "stage_spend_counter = 0\n",
    "for i in range(len(limits_spend)):\n",
    "    lim_spend = limits_spend[i]\n",
    "    df_sub_spend = based_geo_long_lat[lim_spend[0]:lim_spend[1]]\n",
    "    fig_spend.add_trace(go.Scattergeo(\n",
    "        locationmode = 'USA-states',\n",
    "        lon = df_sub_spend['longitude'],\n",
    "        lat = df_sub_spend['latitude'],\n",
    "        text = df_sub_spend['name'],\n",
    "        marker = dict(\n",
    "            size = df_sub_spend['total_spend']*0.00002,\n",
    "            color = colors_spend[i],\n",
    "            line_color='rgb(40,40,40)',\n",
    "            line_width=0.5,\n",
    "            sizemode = 'area'\n",
    "        ),\n",
    "        name = '{}'.format(stage_spend[stage_spend_counter])))\n",
    "    stage_spend_counter = stage_spend_counter+1"
   ]
  },
  {
   "cell_type": "code",
   "execution_count": 175,
   "metadata": {},
   "outputs": [
    {
     "data": {
      "application/vnd.plotly.v1+json": {
       "config": {
        "plotlyServerURL": "https://plot.ly"
       },
       "data": [
        {
         "lat": [
          43.075968,
          43.969515,
          44.558803,
          41.580095,
          47.551493,
          19.898682,
          38.910832,
          44.068202,
          63.588753,
          38.597626,
          41.492537,
          35.20105,
          34.97273,
          32.354668,
          31.244823,
          38.905985,
          41.603221,
          39.32098,
          35.007752
         ],
         "locationmode": "USA-states",
         "lon": [
          -107.290284,
          -99.901813,
          -72.577841,
          -71.477429,
          -101.002012,
          -155.665857,
          -75.52767,
          -114.742041,
          -154.493062,
          -80.454903,
          -99.901813,
          -91.831833,
          -105.032363,
          -89.398528,
          -92.145024,
          -77.033418,
          -73.087749,
          -111.093731,
          -97.092877
         ],
         "marker": {
          "color": "#B2EC5D",
          "line": {
           "color": "rgb(40,40,40)",
           "width": 0.5
          },
          "size": [
           14.754000000000001,
           15.956000000000001,
           20.452,
           25.336000000000002,
           27.794000000000004,
           28.546000000000003,
           29.750000000000004,
           40.716,
           45.118,
           65.804,
           66.128,
           69.71600000000001,
           74.47200000000001,
           78.81400000000001,
           91.01400000000001,
           92.92800000000001,
           93.096,
           97.676,
           98.596
          ],
          "sizemode": "area"
         },
         "name": "< 5.000.000",
         "text": [
          "Wyoming",
          "South Dakota",
          "Vermont",
          "Rhode Island",
          "North Dakota",
          "Hawaii",
          "Delaware",
          "Idaho",
          "Alaska",
          "West Virginia",
          "Nebraska",
          "Arkansas",
          "New Mexico",
          "Mississippi",
          "Louisiana",
          "District of Columbia",
          "Connecticut",
          "Utah",
          "Oklahoma"
         ],
         "type": "scattergeo"
        },
        {
         "lat": [
          39.011902,
          32.318231,
          43.804133,
          43.193852,
          46.879682,
          39.045755,
          45.253783,
          40.551217
         ],
         "locationmode": "USA-states",
         "lon": [
          -98.484246,
          -86.902298,
          -120.554201,
          -71.572395,
          -110.362566,
          -76.641271,
          -69.445469,
          -85.602364
         ],
         "marker": {
          "color": "#7CFC00",
          "line": {
           "color": "rgb(40,40,40)",
           "width": 0.5
          },
          "size": [
           120.346,
           138.52,
           161.41600000000003,
           163.002,
           171.418,
           174.544,
           178.144,
           189.28400000000002
          ],
          "sizemode": "area"
         },
         "name": "5.000.001-10.000.000",
         "text": [
          "Kansas",
          "Alabama",
          "Oregon",
          "New Hampshire",
          "Montana",
          "Maryland",
          "Maine",
          "Indiana"
         ],
         "type": "scattergeo"
        },
        {
         "lat": [
          37.839333,
          42.407211,
          47.751074,
          37.964253,
          35.517491,
          38.80261,
          33.836081,
          46.729553,
          39.550051,
          40.058324
         ],
         "locationmode": "USA-states",
         "lon": [
          -84.270018,
          -71.382437,
          -120.740139,
          -91.831833,
          -86.580447,
          -116.419389,
          -81.163725,
          -94.6859,
          -105.782067,
          -74.405661
         ],
         "marker": {
          "color": "#ACE1AF",
          "line": {
           "color": "rgb(40,40,40)",
           "width": 0.5
          },
          "size": [
           228.80800000000002,
           246.23600000000002,
           246.41400000000002,
           251.996,
           263.874,
           292.512,
           313.336,
           347.216,
           356.23400000000004,
           367.90200000000004
          ],
          "sizemode": "area"
         },
         "name": "10.000.001-20.000.000",
         "text": [
          "Kentucky",
          "Massachusetts",
          "Washington",
          "Missouri",
          "Tennessee",
          "Nevada",
          "South Carolina",
          "Minnesota",
          "Colorado",
          "New Jersey"
         ],
         "type": "scattergeo"
        },
        {
         "lat": [
          40.417287,
          41.878003,
          43.78444,
          37.431573,
          40.633125
         ],
         "locationmode": "USA-states",
         "lon": [
          -82.907123,
          -93.097702,
          -88.787868,
          -78.656894,
          -89.398528
         ],
         "marker": {
          "color": "#77DD77",
          "line": {
           "color": "rgb(40,40,40)",
           "width": 0.5
          },
          "size": [
           421.504,
           488.218,
           492.732,
           541.356,
           570.9720000000001
          ],
          "sizemode": "area"
         },
         "name": "20.000.001-30.000.000",
         "text": [
          "Ohio",
          "Iowa",
          "Wisconsin",
          "Virginia",
          "Illinois"
         ],
         "type": "scattergeo"
        },
        {
         "lat": [
          43.299428,
          44.314844
         ],
         "locationmode": "USA-states",
         "lon": [
          -74.217933,
          -85.602364
         ],
         "marker": {
          "color": "#85BB65",
          "line": {
           "color": "rgb(40,40,40)",
           "width": 0.5
          },
          "size": [
           628.456,
           777.7620000000001
          ],
          "sizemode": "area"
         },
         "name": "30.000.001-40.000.000",
         "text": [
          "New York",
          "Michigan"
         ],
         "type": "scattergeo"
        },
        {
         "lat": [
          34.048928,
          35.759573,
          31.968599
         ],
         "locationmode": "USA-states",
         "lon": [
          -111.093731,
          -79.0193,
          -99.901813
         ],
         "marker": {
          "color": "#03C03C",
          "line": {
           "color": "rgb(40,40,40)",
           "width": 0.5
          },
          "size": [
           834.5720000000001,
           923.5140000000001,
           925.878
          ],
          "sizemode": "area"
         },
         "name": "40.000.001-50.000.000",
         "text": [
          "Arizona",
          "North Carolina",
          "Texas"
         ],
         "type": "scattergeo"
        },
        {
         "lat": [
          41.203322
         ],
         "locationmode": "USA-states",
         "lon": [
          -77.194525
         ],
         "marker": {
          "color": "#008000",
          "line": {
           "color": "rgb(40,40,40)",
           "width": 0.5
          },
          "size": [
           1012.4060000000001
          ],
          "sizemode": "area"
         },
         "name": "50.000.001-60.000.000",
         "text": [
          "Pennsylvania"
         ],
         "type": "scattergeo"
        },
        {
         "lat": [
          32.157435
         ],
         "locationmode": "USA-states",
         "lon": [
          -82.907123
         ],
         "marker": {
          "color": "#78866B",
          "line": {
           "color": "rgb(40,40,40)",
           "width": 0.5
          },
          "size": [
           1223.362
          ],
          "sizemode": "area"
         },
         "name": "60.000.001-70.000.000",
         "text": [
          "Georgia"
         ],
         "type": "scattergeo"
        },
        {
         "lat": [
          27.664827
         ],
         "locationmode": "USA-states",
         "lon": [
          -81.515754
         ],
         "marker": {
          "color": "#556B2F",
          "line": {
           "color": "rgb(40,40,40)",
           "width": 0.5
          },
          "size": [
           1537.2440000000001
          ],
          "sizemode": "area"
         },
         "name": "70.000.001-80.000.000",
         "text": [
          "Florida"
         ],
         "type": "scattergeo"
        },
        {
         "lat": [
          36.778261
         ],
         "locationmode": "USA-states",
         "lon": [
          -119.417932
         ],
         "marker": {
          "color": "#414833",
          "line": {
           "color": "rgb(40,40,40)",
           "width": 0.5
          },
          "size": [
           1872.794
          ],
          "sizemode": "area"
         },
         "name": "80.000.000+",
         "text": [
          "California"
         ],
         "type": "scattergeo"
        }
       ],
       "layout": {
        "geo": {
         "landcolor": "rgb(217, 217, 217)",
         "projection": {
          "type": "albers usa"
         },
         "scope": "usa"
        },
        "legend": {
         "title": {
          "text": "Range Of Total Spending in US Dollar"
         }
        },
        "showlegend": true,
        "template": {
         "data": {
          "bar": [
           {
            "error_x": {
             "color": "#2a3f5f"
            },
            "error_y": {
             "color": "#2a3f5f"
            },
            "marker": {
             "line": {
              "color": "#E5ECF6",
              "width": 0.5
             },
             "pattern": {
              "fillmode": "overlay",
              "size": 10,
              "solidity": 0.2
             }
            },
            "type": "bar"
           }
          ],
          "barpolar": [
           {
            "marker": {
             "line": {
              "color": "#E5ECF6",
              "width": 0.5
             },
             "pattern": {
              "fillmode": "overlay",
              "size": 10,
              "solidity": 0.2
             }
            },
            "type": "barpolar"
           }
          ],
          "carpet": [
           {
            "aaxis": {
             "endlinecolor": "#2a3f5f",
             "gridcolor": "white",
             "linecolor": "white",
             "minorgridcolor": "white",
             "startlinecolor": "#2a3f5f"
            },
            "baxis": {
             "endlinecolor": "#2a3f5f",
             "gridcolor": "white",
             "linecolor": "white",
             "minorgridcolor": "white",
             "startlinecolor": "#2a3f5f"
            },
            "type": "carpet"
           }
          ],
          "choropleth": [
           {
            "colorbar": {
             "outlinewidth": 0,
             "ticks": ""
            },
            "type": "choropleth"
           }
          ],
          "contour": [
           {
            "colorbar": {
             "outlinewidth": 0,
             "ticks": ""
            },
            "colorscale": [
             [
              0,
              "#0d0887"
             ],
             [
              0.1111111111111111,
              "#46039f"
             ],
             [
              0.2222222222222222,
              "#7201a8"
             ],
             [
              0.3333333333333333,
              "#9c179e"
             ],
             [
              0.4444444444444444,
              "#bd3786"
             ],
             [
              0.5555555555555556,
              "#d8576b"
             ],
             [
              0.6666666666666666,
              "#ed7953"
             ],
             [
              0.7777777777777778,
              "#fb9f3a"
             ],
             [
              0.8888888888888888,
              "#fdca26"
             ],
             [
              1,
              "#f0f921"
             ]
            ],
            "type": "contour"
           }
          ],
          "contourcarpet": [
           {
            "colorbar": {
             "outlinewidth": 0,
             "ticks": ""
            },
            "type": "contourcarpet"
           }
          ],
          "heatmap": [
           {
            "colorbar": {
             "outlinewidth": 0,
             "ticks": ""
            },
            "colorscale": [
             [
              0,
              "#0d0887"
             ],
             [
              0.1111111111111111,
              "#46039f"
             ],
             [
              0.2222222222222222,
              "#7201a8"
             ],
             [
              0.3333333333333333,
              "#9c179e"
             ],
             [
              0.4444444444444444,
              "#bd3786"
             ],
             [
              0.5555555555555556,
              "#d8576b"
             ],
             [
              0.6666666666666666,
              "#ed7953"
             ],
             [
              0.7777777777777778,
              "#fb9f3a"
             ],
             [
              0.8888888888888888,
              "#fdca26"
             ],
             [
              1,
              "#f0f921"
             ]
            ],
            "type": "heatmap"
           }
          ],
          "heatmapgl": [
           {
            "colorbar": {
             "outlinewidth": 0,
             "ticks": ""
            },
            "colorscale": [
             [
              0,
              "#0d0887"
             ],
             [
              0.1111111111111111,
              "#46039f"
             ],
             [
              0.2222222222222222,
              "#7201a8"
             ],
             [
              0.3333333333333333,
              "#9c179e"
             ],
             [
              0.4444444444444444,
              "#bd3786"
             ],
             [
              0.5555555555555556,
              "#d8576b"
             ],
             [
              0.6666666666666666,
              "#ed7953"
             ],
             [
              0.7777777777777778,
              "#fb9f3a"
             ],
             [
              0.8888888888888888,
              "#fdca26"
             ],
             [
              1,
              "#f0f921"
             ]
            ],
            "type": "heatmapgl"
           }
          ],
          "histogram": [
           {
            "marker": {
             "pattern": {
              "fillmode": "overlay",
              "size": 10,
              "solidity": 0.2
             }
            },
            "type": "histogram"
           }
          ],
          "histogram2d": [
           {
            "colorbar": {
             "outlinewidth": 0,
             "ticks": ""
            },
            "colorscale": [
             [
              0,
              "#0d0887"
             ],
             [
              0.1111111111111111,
              "#46039f"
             ],
             [
              0.2222222222222222,
              "#7201a8"
             ],
             [
              0.3333333333333333,
              "#9c179e"
             ],
             [
              0.4444444444444444,
              "#bd3786"
             ],
             [
              0.5555555555555556,
              "#d8576b"
             ],
             [
              0.6666666666666666,
              "#ed7953"
             ],
             [
              0.7777777777777778,
              "#fb9f3a"
             ],
             [
              0.8888888888888888,
              "#fdca26"
             ],
             [
              1,
              "#f0f921"
             ]
            ],
            "type": "histogram2d"
           }
          ],
          "histogram2dcontour": [
           {
            "colorbar": {
             "outlinewidth": 0,
             "ticks": ""
            },
            "colorscale": [
             [
              0,
              "#0d0887"
             ],
             [
              0.1111111111111111,
              "#46039f"
             ],
             [
              0.2222222222222222,
              "#7201a8"
             ],
             [
              0.3333333333333333,
              "#9c179e"
             ],
             [
              0.4444444444444444,
              "#bd3786"
             ],
             [
              0.5555555555555556,
              "#d8576b"
             ],
             [
              0.6666666666666666,
              "#ed7953"
             ],
             [
              0.7777777777777778,
              "#fb9f3a"
             ],
             [
              0.8888888888888888,
              "#fdca26"
             ],
             [
              1,
              "#f0f921"
             ]
            ],
            "type": "histogram2dcontour"
           }
          ],
          "mesh3d": [
           {
            "colorbar": {
             "outlinewidth": 0,
             "ticks": ""
            },
            "type": "mesh3d"
           }
          ],
          "parcoords": [
           {
            "line": {
             "colorbar": {
              "outlinewidth": 0,
              "ticks": ""
             }
            },
            "type": "parcoords"
           }
          ],
          "pie": [
           {
            "automargin": true,
            "type": "pie"
           }
          ],
          "scatter": [
           {
            "fillpattern": {
             "fillmode": "overlay",
             "size": 10,
             "solidity": 0.2
            },
            "type": "scatter"
           }
          ],
          "scatter3d": [
           {
            "line": {
             "colorbar": {
              "outlinewidth": 0,
              "ticks": ""
             }
            },
            "marker": {
             "colorbar": {
              "outlinewidth": 0,
              "ticks": ""
             }
            },
            "type": "scatter3d"
           }
          ],
          "scattercarpet": [
           {
            "marker": {
             "colorbar": {
              "outlinewidth": 0,
              "ticks": ""
             }
            },
            "type": "scattercarpet"
           }
          ],
          "scattergeo": [
           {
            "marker": {
             "colorbar": {
              "outlinewidth": 0,
              "ticks": ""
             }
            },
            "type": "scattergeo"
           }
          ],
          "scattergl": [
           {
            "marker": {
             "colorbar": {
              "outlinewidth": 0,
              "ticks": ""
             }
            },
            "type": "scattergl"
           }
          ],
          "scattermapbox": [
           {
            "marker": {
             "colorbar": {
              "outlinewidth": 0,
              "ticks": ""
             }
            },
            "type": "scattermapbox"
           }
          ],
          "scatterpolar": [
           {
            "marker": {
             "colorbar": {
              "outlinewidth": 0,
              "ticks": ""
             }
            },
            "type": "scatterpolar"
           }
          ],
          "scatterpolargl": [
           {
            "marker": {
             "colorbar": {
              "outlinewidth": 0,
              "ticks": ""
             }
            },
            "type": "scatterpolargl"
           }
          ],
          "scatterternary": [
           {
            "marker": {
             "colorbar": {
              "outlinewidth": 0,
              "ticks": ""
             }
            },
            "type": "scatterternary"
           }
          ],
          "surface": [
           {
            "colorbar": {
             "outlinewidth": 0,
             "ticks": ""
            },
            "colorscale": [
             [
              0,
              "#0d0887"
             ],
             [
              0.1111111111111111,
              "#46039f"
             ],
             [
              0.2222222222222222,
              "#7201a8"
             ],
             [
              0.3333333333333333,
              "#9c179e"
             ],
             [
              0.4444444444444444,
              "#bd3786"
             ],
             [
              0.5555555555555556,
              "#d8576b"
             ],
             [
              0.6666666666666666,
              "#ed7953"
             ],
             [
              0.7777777777777778,
              "#fb9f3a"
             ],
             [
              0.8888888888888888,
              "#fdca26"
             ],
             [
              1,
              "#f0f921"
             ]
            ],
            "type": "surface"
           }
          ],
          "table": [
           {
            "cells": {
             "fill": {
              "color": "#EBF0F8"
             },
             "line": {
              "color": "white"
             }
            },
            "header": {
             "fill": {
              "color": "#C8D4E3"
             },
             "line": {
              "color": "white"
             }
            },
            "type": "table"
           }
          ]
         },
         "layout": {
          "annotationdefaults": {
           "arrowcolor": "#2a3f5f",
           "arrowhead": 0,
           "arrowwidth": 1
          },
          "autotypenumbers": "strict",
          "coloraxis": {
           "colorbar": {
            "outlinewidth": 0,
            "ticks": ""
           }
          },
          "colorscale": {
           "diverging": [
            [
             0,
             "#8e0152"
            ],
            [
             0.1,
             "#c51b7d"
            ],
            [
             0.2,
             "#de77ae"
            ],
            [
             0.3,
             "#f1b6da"
            ],
            [
             0.4,
             "#fde0ef"
            ],
            [
             0.5,
             "#f7f7f7"
            ],
            [
             0.6,
             "#e6f5d0"
            ],
            [
             0.7,
             "#b8e186"
            ],
            [
             0.8,
             "#7fbc41"
            ],
            [
             0.9,
             "#4d9221"
            ],
            [
             1,
             "#276419"
            ]
           ],
           "sequential": [
            [
             0,
             "#0d0887"
            ],
            [
             0.1111111111111111,
             "#46039f"
            ],
            [
             0.2222222222222222,
             "#7201a8"
            ],
            [
             0.3333333333333333,
             "#9c179e"
            ],
            [
             0.4444444444444444,
             "#bd3786"
            ],
            [
             0.5555555555555556,
             "#d8576b"
            ],
            [
             0.6666666666666666,
             "#ed7953"
            ],
            [
             0.7777777777777778,
             "#fb9f3a"
            ],
            [
             0.8888888888888888,
             "#fdca26"
            ],
            [
             1,
             "#f0f921"
            ]
           ],
           "sequentialminus": [
            [
             0,
             "#0d0887"
            ],
            [
             0.1111111111111111,
             "#46039f"
            ],
            [
             0.2222222222222222,
             "#7201a8"
            ],
            [
             0.3333333333333333,
             "#9c179e"
            ],
            [
             0.4444444444444444,
             "#bd3786"
            ],
            [
             0.5555555555555556,
             "#d8576b"
            ],
            [
             0.6666666666666666,
             "#ed7953"
            ],
            [
             0.7777777777777778,
             "#fb9f3a"
            ],
            [
             0.8888888888888888,
             "#fdca26"
            ],
            [
             1,
             "#f0f921"
            ]
           ]
          },
          "colorway": [
           "#636efa",
           "#EF553B",
           "#00cc96",
           "#ab63fa",
           "#FFA15A",
           "#19d3f3",
           "#FF6692",
           "#B6E880",
           "#FF97FF",
           "#FECB52"
          ],
          "font": {
           "color": "#2a3f5f"
          },
          "geo": {
           "bgcolor": "white",
           "lakecolor": "white",
           "landcolor": "#E5ECF6",
           "showlakes": true,
           "showland": true,
           "subunitcolor": "white"
          },
          "hoverlabel": {
           "align": "left"
          },
          "hovermode": "closest",
          "mapbox": {
           "style": "light"
          },
          "paper_bgcolor": "white",
          "plot_bgcolor": "#E5ECF6",
          "polar": {
           "angularaxis": {
            "gridcolor": "white",
            "linecolor": "white",
            "ticks": ""
           },
           "bgcolor": "#E5ECF6",
           "radialaxis": {
            "gridcolor": "white",
            "linecolor": "white",
            "ticks": ""
           }
          },
          "scene": {
           "xaxis": {
            "backgroundcolor": "#E5ECF6",
            "gridcolor": "white",
            "gridwidth": 2,
            "linecolor": "white",
            "showbackground": true,
            "ticks": "",
            "zerolinecolor": "white"
           },
           "yaxis": {
            "backgroundcolor": "#E5ECF6",
            "gridcolor": "white",
            "gridwidth": 2,
            "linecolor": "white",
            "showbackground": true,
            "ticks": "",
            "zerolinecolor": "white"
           },
           "zaxis": {
            "backgroundcolor": "#E5ECF6",
            "gridcolor": "white",
            "gridwidth": 2,
            "linecolor": "white",
            "showbackground": true,
            "ticks": "",
            "zerolinecolor": "white"
           }
          },
          "shapedefaults": {
           "line": {
            "color": "#2a3f5f"
           }
          },
          "ternary": {
           "aaxis": {
            "gridcolor": "white",
            "linecolor": "white",
            "ticks": ""
           },
           "baxis": {
            "gridcolor": "white",
            "linecolor": "white",
            "ticks": ""
           },
           "bgcolor": "#E5ECF6",
           "caxis": {
            "gridcolor": "white",
            "linecolor": "white",
            "ticks": ""
           }
          },
          "title": {
           "x": 0.05
          },
          "xaxis": {
           "automargin": true,
           "gridcolor": "white",
           "linecolor": "white",
           "ticks": "",
           "title": {
            "standoff": 15
           },
           "zerolinecolor": "white",
           "zerolinewidth": 2
          },
          "yaxis": {
           "automargin": true,
           "gridcolor": "white",
           "linecolor": "white",
           "ticks": "",
           "title": {
            "standoff": 15
           },
           "zerolinecolor": "white",
           "zerolinewidth": 2
          }
         }
        },
        "title": {
         "text": "Total Spending on Political Ads Distribution In The United States By Geography",
         "x": 0.5
        }
       }
      }
     },
     "metadata": {},
     "output_type": "display_data"
    }
   ],
   "source": [
    "fig_spend.update_layout(\n",
    "        title_text = 'Total Spending on Political Ads Distribution In The United States By Geography',\n",
    "        title_x=0.5,\n",
    "        showlegend = True,\n",
    "        legend_title = 'Range Of Total Spending in US Dollar',\n",
    "        geo = dict(\n",
    "            scope = 'usa',\n",
    "            landcolor = 'rgb(217, 217, 217)',\n",
    "            projection=go.layout.geo.Projection(type = 'albers usa'),\n",
    "        )\n",
    "    )"
   ]
  },
  {
   "cell_type": "markdown",
   "metadata": {},
   "source": [
    "Dapat dilihat bahwa persebaran total spending di setiap state ini memiliki range yang bervariasi. Dapat dilihat juga berdasarkan warna dan ukuran buble bahwa terdapat daerah yang total spendingnya sedikit dan juga terdapat daerah yang total spendingnya besar."
   ]
  },
  {
   "cell_type": "markdown",
   "metadata": {},
   "source": [
    "## Gender plot"
   ]
  },
  {
   "cell_type": "markdown",
   "metadata": {},
   "source": [
    "Melakukan plotting pie chart pada gender target."
   ]
  },
  {
   "cell_type": "code",
   "execution_count": 176,
   "metadata": {},
   "outputs": [
    {
     "data": {
      "image/png": "[encoded data removed]",
      "text/plain": [
       "<Figure size 576x576 with 1 Axes>"
      ]
     },
     "metadata": {},
     "output_type": "display_data"
    }
   ],
   "source": [
    "myexplode = [0.2, 0, 0, 0]\n",
    "pie_chart = plt.figure(figsize=(8,8))\n",
    "plt.pie(based_gender_sum.persentase, labels = based_gender_sum.gender, explode= [0.2, 0.2, 0.2], colors = ['green','hotpink','blue'],autopct='%1.1f%%')\n",
    "plt.title('Distribution of Targeting Gender on Political Ads Google')\n",
    "plt.legend()\n",
    "plt.axis('equal')\n",
    "plt.show()"
   ]
  },
  {
   "cell_type": "markdown",
   "metadata": {},
   "source": [
    "Berdasarkan pada pie chart di atas, kita dapat mendapatkan informasi bahwa 80.2 persen dari total ads bertarget pada semua gender, 10.7 persen bertarget pada gender perempuan, dan 8.1 persen bertarget pada gender laki-laki. "
   ]
  },
  {
   "cell_type": "markdown",
   "metadata": {},
   "source": [
    "## Ads Type"
   ]
  },
  {
   "cell_type": "markdown",
   "metadata": {},
   "source": [
    "Pada section ini akan melakukan analisa inferensia, yang dimana perlu diberi perlakuan terlebih dahul datanya untuk menghilangkan outliernya."
   ]
  },
  {
   "cell_type": "markdown",
   "metadata": {},
   "source": [
    "### Text\n"
   ]
  },
  {
   "cell_type": "markdown",
   "metadata": {},
   "source": [
    "Menunjukan summary statistic yang diperlukan sebagai informasi persebaran dan juga untuk digunakan filtering outliers."
   ]
  },
  {
   "cell_type": "code",
   "execution_count": 177,
   "metadata": {},
   "outputs": [
    {
     "name": "stdout",
     "output_type": "stream",
     "text": [
      "Mean dari impressions at text ads 13687.290232254847\n",
      "Median dari impressions at text ads 1000.0\n",
      "Mode dari impressions at text ads 1000\n",
      "Skewness dari impressions at text ads 35.24897459377977\n",
      "Kurtosis dari impressions at text ads 1736.669305076264\n",
      "Variance dari impression at text ads 17666135062.864388\n",
      "Standard Deviation dari impression at text ads 132914.01379412325\n",
      "Q1 dari impression at text ads 1000.0\n",
      "Q3 dari impression at text ads 3000.0\n",
      "Min dari impression at text ads 1000\n",
      "Max dari impressionat text ads 10000000\n"
     ]
    }
   ],
   "source": [
    "mean_impression_text = text['impressions'].mean()\n",
    "median_impression_text = text['impressions'].median()\n",
    "mode_impression_text = text['impressions'].mode()\n",
    "skew_impression_text = text['impressions'].skew()\n",
    "kurt_impression_text = text['impressions'].kurt()\n",
    "var_impression_text = text['impressions'].var()\n",
    "std_impression_text = text['impressions'].std()\n",
    "quartiles_impression_text = np.percentile(text['impressions'],[25,50,75])\n",
    "min_impression_text,max_impression_text = text['impressions'].min(),text['impressions'].max()\n",
    "\n",
    "print(f\"Mean dari impressions at text ads {mean_impression_text}\")\n",
    "print(f\"Median dari impressions at text ads {median_impression_text}\")\n",
    "print(f\"Mode dari impressions at text ads {mode_impression_text[0]}\")\n",
    "print(f\"Skewness dari impressions at text ads {skew_impression_text}\")\n",
    "print(f\"Kurtosis dari impressions at text ads {kurt_impression_text}\")\n",
    "print(f\"Variance dari impression at text ads {var_impression_text}\")\n",
    "print(f\"Standard Deviation dari impression at text ads {std_impression_text}\")\n",
    "print(f\"Q1 dari impression at text ads {quartiles_impression_text[0]}\")\n",
    "print(f\"Q3 dari impression at text ads {quartiles_impression_text[2]}\")\n",
    "print(f\"Min dari impression at text ads {min_impression_text}\")\n",
    "print(f\"Max dari impressionat text ads {max_impression_text}\")"
   ]
  },
  {
   "cell_type": "markdown",
   "metadata": {},
   "source": [
    "Berdasarkan data ini, tipe distribusinya adalah positive right skew karena skewness > 0 dan juga posisi mean di sebelah kanan median."
   ]
  },
  {
   "cell_type": "code",
   "execution_count": 178,
   "metadata": {},
   "outputs": [
    {
     "name": "stderr",
     "output_type": "stream",
     "text": [
      "c:\\Users\\maula\\anaconda3\\lib\\site-packages\\seaborn\\distributions.py:2619: FutureWarning:\n",
      "\n",
      "`distplot` is a deprecated function and will be removed in a future version. Please adapt your code to use either `displot` (a figure-level function with similar flexibility) or `histplot` (an axes-level function for histograms).\n",
      "\n",
      "c:\\Users\\maula\\anaconda3\\lib\\site-packages\\seaborn\\_decorators.py:36: FutureWarning:\n",
      "\n",
      "Pass the following variable as a keyword arg: x. From version 0.12, the only valid positional argument will be `data`, and passing other arguments without an explicit keyword will result in an error or misinterpretation.\n",
      "\n"
     ]
    },
    {
     "data": {
      "text/plain": [
       "[Text(0.5, 1.0, 'Boxplot of Impressions of Text Ads in United States'),\n",
       " Text(0.5, 0, 'Impression ')]"
      ]
     },
     "execution_count": 178,
     "metadata": {},
     "output_type": "execute_result"
    },
    {
     "data": {
      "image/png": "[encoded data removed]",
      "text/plain": [
       "<Figure size 2160x720 with 2 Axes>"
      ]
     },
     "metadata": {},
     "output_type": "display_data"
    }
   ],
   "source": [
    "plt.figure(figsize=(30,10))\n",
    "plt.subplot(2,2,1)\n",
    "sns.distplot(text['impressions'],color = 'blue').set(title = 'Distribution of Impressions of Text Ads in United States',xlabel ='Impression')\n",
    "plt.subplot(2,2,2)\n",
    "sns.boxplot(text['impressions']).set(title = 'Boxplot of Impressions of Text Ads in United States',xlabel ='Impression ')\n"
   ]
  },
  {
   "cell_type": "markdown",
   "metadata": {},
   "source": [
    "Terlihat pada box plot terdapat outliers (plotting sebelah kanan)."
   ]
  },
  {
   "cell_type": "markdown",
   "metadata": {},
   "source": [
    "Mendeteksi dan menghilangkan outliers dengan metode turkey's rule karena data tidak distribusi normal."
   ]
  },
  {
   "cell_type": "code",
   "execution_count": 179,
   "metadata": {},
   "outputs": [
    {
     "name": "stdout",
     "output_type": "stream",
     "text": [
      "Interval berada pada value minimum -2000.0 hingga value maximum 6000.0\n"
     ]
    },
    {
     "name": "stderr",
     "output_type": "stream",
     "text": [
      "c:\\Users\\maula\\anaconda3\\lib\\site-packages\\seaborn\\distributions.py:2619: FutureWarning:\n",
      "\n",
      "`distplot` is a deprecated function and will be removed in a future version. Please adapt your code to use either `displot` (a figure-level function with similar flexibility) or `histplot` (an axes-level function for histograms).\n",
      "\n",
      "c:\\Users\\maula\\anaconda3\\lib\\site-packages\\seaborn\\_decorators.py:36: FutureWarning:\n",
      "\n",
      "Pass the following variable as a keyword arg: x. From version 0.12, the only valid positional argument will be `data`, and passing other arguments without an explicit keyword will result in an error or misinterpretation.\n",
      "\n",
      "c:\\Users\\maula\\anaconda3\\lib\\site-packages\\seaborn\\distributions.py:2619: FutureWarning:\n",
      "\n",
      "`distplot` is a deprecated function and will be removed in a future version. Please adapt your code to use either `displot` (a figure-level function with similar flexibility) or `histplot` (an axes-level function for histograms).\n",
      "\n",
      "c:\\Users\\maula\\anaconda3\\lib\\site-packages\\seaborn\\_decorators.py:36: FutureWarning:\n",
      "\n",
      "Pass the following variable as a keyword arg: x. From version 0.12, the only valid positional argument will be `data`, and passing other arguments without an explicit keyword will result in an error or misinterpretation.\n",
      "\n"
     ]
    },
    {
     "data": {
      "image/png": "[encoded data removed]",
      "text/plain": [
       "<Figure size 2160x720 with 4 Axes>"
      ]
     },
     "metadata": {},
     "output_type": "display_data"
    }
   ],
   "source": [
    "IQR_text = quartiles_impression_text[2] - quartiles_impression_text[0]\n",
    "batas_bawah_text = quartiles_impression_text[0] - 1.5*IQR_text\n",
    "batas_atas_text = quartiles_impression_text [2] + 1.5*IQR_text\n",
    "\n",
    "print(f'Interval berada pada value minimum {batas_bawah_text} hingga value maximum {batas_atas_text}')\n",
    "new_text = text.copy()\n",
    "new_text = np.where(\n",
    "    new_text['impressions'] > batas_atas_text,\n",
    "    batas_atas_text,\n",
    "    np.where(\n",
    "        new_text ['impressions'] < batas_bawah_text,\n",
    "        batas_bawah_text,\n",
    "        new_text ['impressions']\n",
    "    )\n",
    ")\n",
    "plt.figure(figsize=(30,10))\n",
    "plt.subplot(2,2,1)\n",
    "sns.distplot(text['impressions'],color = 'blue').set(title = 'Distribution of Impressions of Text Ads in United States',xlabel ='Impression')\n",
    "plt.subplot(2,2,2)\n",
    "sns.boxplot(text['impressions']).set(title = 'Boxplot of Impressions of Text Ads in United States',xlabel ='Impression ')\n",
    "plt.subplot(2,2,3)\n",
    "sns.distplot(new_text).set(title = 'Distribution of Impressions of Text Ads in United States',xlabel ='Impression')\n",
    "plt.subplot(2,2,4)\n",
    "sns.boxplot(new_text).set(title = 'Boxplot of Impressions of Text Ads in United States',xlabel ='Impression ')\n",
    "plt.subplot(2,2,3)\n",
    "plt.show()"
   ]
  },
  {
   "cell_type": "markdown",
   "metadata": {},
   "source": [
    "Terlihat perbandingannya bagian atas (sebelum filter) bagian bawah (sesudah filter), pada boxplot terlihat bahwa sudah tidak ada outliersnya."
   ]
  },
  {
   "cell_type": "markdown",
   "metadata": {},
   "source": [
    "### Image"
   ]
  },
  {
   "cell_type": "markdown",
   "metadata": {},
   "source": [
    "Menunjukan summary statistic yang diperlukan sebagai informasi persebaran dan juga untuk digunakan filtering outliers."
   ]
  },
  {
   "cell_type": "code",
   "execution_count": 180,
   "metadata": {},
   "outputs": [
    {
     "name": "stdout",
     "output_type": "stream",
     "text": [
      "Mean dari impressions at image ads 108119.3141956503\n",
      "Median dari impressions at image ads 3000.0\n",
      "Mode dari impressions at image ads 1000\n",
      "Skewness dari impressions at image ads 10.656405300760984\n",
      "Kurtosis dari impressions at image ads 138.5589972655688\n",
      "Variance dari impression at image ads 309382450865.4158\n",
      "Standard Deviation dari impression at image ads 556221.5843217663\n",
      "Q1 dari impression at image ads 1000.0\n",
      "Q3 dari impression at image ads 25000.0\n",
      "Min dari impression at image ads 1000\n",
      "Max dari impressionat image ads 10000000\n"
     ]
    }
   ],
   "source": [
    "mean_impression_image = image['impressions'].mean()\n",
    "median_impression_image = image['impressions'].median()\n",
    "mode_impression_image = image['impressions'].mode()\n",
    "skew_impression_image = image['impressions'].skew()\n",
    "kurt_impression_image = image['impressions'].kurt()\n",
    "var_impression_image = image['impressions'].var()\n",
    "std_impression_image = image['impressions'].std()\n",
    "quartiles_impression_image = np.percentile(image['impressions'],[25,50,75])\n",
    "min_impression_image,max_impression_image = image['impressions'].min(),image['impressions'].max()\n",
    "\n",
    "print(f\"Mean dari impressions at image ads {mean_impression_image}\")\n",
    "print(f\"Median dari impressions at image ads {median_impression_image}\")\n",
    "print(f\"Mode dari impressions at image ads {mode_impression_image[0]}\")\n",
    "print(f\"Skewness dari impressions at image ads {skew_impression_image}\")\n",
    "print(f\"Kurtosis dari impressions at image ads {kurt_impression_image}\")\n",
    "print(f\"Variance dari impression at image ads {var_impression_image}\")\n",
    "print(f\"Standard Deviation dari impression at image ads {std_impression_image}\")\n",
    "print(f\"Q1 dari impression at image ads {quartiles_impression_image[0]}\")\n",
    "print(f\"Q3 dari impression at image ads {quartiles_impression_image[2]}\")\n",
    "print(f\"Min dari impression at image ads {min_impression_image}\")\n",
    "print(f\"Max dari impressionat image ads {max_impression_image}\")"
   ]
  },
  {
   "cell_type": "markdown",
   "metadata": {},
   "source": [
    "Berdasarkan data ini, tipe distribusinya adalah positive right skew karena skewness > 0 dan juga posisi mean di sebelah kanan median."
   ]
  },
  {
   "cell_type": "code",
   "execution_count": 181,
   "metadata": {},
   "outputs": [
    {
     "name": "stderr",
     "output_type": "stream",
     "text": [
      "c:\\Users\\maula\\anaconda3\\lib\\site-packages\\seaborn\\distributions.py:2619: FutureWarning:\n",
      "\n",
      "`distplot` is a deprecated function and will be removed in a future version. Please adapt your code to use either `displot` (a figure-level function with similar flexibility) or `histplot` (an axes-level function for histograms).\n",
      "\n",
      "c:\\Users\\maula\\anaconda3\\lib\\site-packages\\seaborn\\_decorators.py:36: FutureWarning:\n",
      "\n",
      "Pass the following variable as a keyword arg: x. From version 0.12, the only valid positional argument will be `data`, and passing other arguments without an explicit keyword will result in an error or misinterpretation.\n",
      "\n"
     ]
    },
    {
     "data": {
      "text/plain": [
       "[Text(0.5, 1.0, 'Boxplot of Impressions of image Ads in United States'),\n",
       " Text(0.5, 0, 'Impression ')]"
      ]
     },
     "execution_count": 181,
     "metadata": {},
     "output_type": "execute_result"
    },
    {
     "data": {
      "image/png": "[encoded data removed]",
      "text/plain": [
       "<Figure size 2160x720 with 2 Axes>"
      ]
     },
     "metadata": {},
     "output_type": "display_data"
    }
   ],
   "source": [
    "plt.figure(figsize=(30,10))\n",
    "plt.subplot(2,2,1)\n",
    "sns.distplot(image['impressions'],color = 'blue').set(title = 'Distribution of Impressions of image Ads in United States',xlabel ='Impression')\n",
    "plt.subplot(2,2,2)\n",
    "sns.boxplot(image['impressions']).set(title = 'Boxplot of Impressions of image Ads in United States',xlabel ='Impression ')\n"
   ]
  },
  {
   "cell_type": "markdown",
   "metadata": {},
   "source": [
    "Terlihat pada box plot terdapat outliers."
   ]
  },
  {
   "cell_type": "markdown",
   "metadata": {},
   "source": [
    "Mendeteksi dan menghilangkan outliers dengan metode turkey's rule karena data tidak distribusi normal."
   ]
  },
  {
   "cell_type": "code",
   "execution_count": 182,
   "metadata": {},
   "outputs": [
    {
     "name": "stdout",
     "output_type": "stream",
     "text": [
      "Interval berada pada value minimum -35000.0 hingga value maximum 61000.0\n"
     ]
    },
    {
     "name": "stderr",
     "output_type": "stream",
     "text": [
      "c:\\Users\\maula\\anaconda3\\lib\\site-packages\\seaborn\\distributions.py:2619: FutureWarning:\n",
      "\n",
      "`distplot` is a deprecated function and will be removed in a future version. Please adapt your code to use either `displot` (a figure-level function with similar flexibility) or `histplot` (an axes-level function for histograms).\n",
      "\n",
      "c:\\Users\\maula\\anaconda3\\lib\\site-packages\\seaborn\\_decorators.py:36: FutureWarning:\n",
      "\n",
      "Pass the following variable as a keyword arg: x. From version 0.12, the only valid positional argument will be `data`, and passing other arguments without an explicit keyword will result in an error or misinterpretation.\n",
      "\n",
      "c:\\Users\\maula\\anaconda3\\lib\\site-packages\\seaborn\\distributions.py:2619: FutureWarning:\n",
      "\n",
      "`distplot` is a deprecated function and will be removed in a future version. Please adapt your code to use either `displot` (a figure-level function with similar flexibility) or `histplot` (an axes-level function for histograms).\n",
      "\n",
      "c:\\Users\\maula\\anaconda3\\lib\\site-packages\\seaborn\\_decorators.py:36: FutureWarning:\n",
      "\n",
      "Pass the following variable as a keyword arg: x. From version 0.12, the only valid positional argument will be `data`, and passing other arguments without an explicit keyword will result in an error or misinterpretation.\n",
      "\n"
     ]
    },
    {
     "data": {
      "image/png": "[encoded data removed]",
      "text/plain": [
       "<Figure size 2160x720 with 4 Axes>"
      ]
     },
     "metadata": {},
     "output_type": "display_data"
    }
   ],
   "source": [
    "IQR_image = quartiles_impression_image[2] - quartiles_impression_image[0]\n",
    "batas_bawah_image = quartiles_impression_image[0] - 1.5*IQR_image\n",
    "batas_atas_image = quartiles_impression_image [2] + 1.5*IQR_image\n",
    "\n",
    "print(f'Interval berada pada value minimum {batas_bawah_image} hingga value maximum {batas_atas_image}')\n",
    "new_image = image.copy()\n",
    "new_image = np.where(\n",
    "    new_image['impressions'] > batas_atas_image,\n",
    "    batas_atas_image,\n",
    "    np.where(\n",
    "        new_image['impressions'] < batas_bawah_image,\n",
    "        batas_bawah_image,\n",
    "        new_image['impressions']\n",
    "    )\n",
    ")\n",
    "plt.figure(figsize=(30,10))\n",
    "plt.subplot(2,2,1)\n",
    "sns.distplot(image['impressions'],color = 'blue').set(title = 'Distribution of Impressions of image Ads in United States',xlabel ='Impression')\n",
    "plt.subplot(2,2,2)\n",
    "sns.boxplot(image['impressions']).set(title = 'Boxplot of Impressions of image Ads in United States',xlabel ='Impression ')\n",
    "plt.subplot(2,2,3)\n",
    "sns.distplot(new_image).set(title = 'Distribution of Impressions of image Ads in United States',xlabel ='Impression')\n",
    "plt.subplot(2,2,4)\n",
    "sns.boxplot(new_image).set(title = 'Boxplot of Impressions of image Ads in United States',xlabel ='Impression ')\n",
    "plt.subplot(2,2,3)\n",
    "plt.show()"
   ]
  },
  {
   "cell_type": "markdown",
   "metadata": {},
   "source": [
    "Terlihat perbandingannya bagian atas (sebelum filter) bagian bawah (sesudah filter), pada boxplot terlihat bahwa sudah tidak ada outliersnya."
   ]
  },
  {
   "cell_type": "markdown",
   "metadata": {},
   "source": [
    "### Video"
   ]
  },
  {
   "cell_type": "markdown",
   "metadata": {},
   "source": [
    "Menunjukan summary statistic yang diperlukan sebagai informasi persebaran dan juga untuk digunakan filtering outliers."
   ]
  },
  {
   "cell_type": "code",
   "execution_count": 183,
   "metadata": {},
   "outputs": [
    {
     "name": "stdout",
     "output_type": "stream",
     "text": [
      "Mean dari impressions at video ads 120618.65412574548\n",
      "Median dari impressions at video ads 9000.0\n",
      "Mode dari impressions at video ads 1000\n",
      "Skewness dari impressions at video ads 10.200031243027905\n",
      "Kurtosis dari impressions at video ads 143.5425725378272\n",
      "Variance dari impression at video ads 214376063028.97137\n",
      "Standard Deviation dari impression at video ads 463007.6273982658\n",
      "Q1 dari impression at video ads 1000.0\n",
      "Q3 dari impression at video ads 60000.0\n",
      "Min dari impression at video ads 1000\n",
      "Max dari impressionat video ads 10000000\n"
     ]
    }
   ],
   "source": [
    "mean_impression_video = video['impressions'].mean()\n",
    "median_impression_video = video['impressions'].median()\n",
    "mode_impression_video = video['impressions'].mode()\n",
    "skew_impression_video = video['impressions'].skew()\n",
    "kurt_impression_video = video['impressions'].kurt()\n",
    "var_impression_video = video['impressions'].var()\n",
    "std_impression_video = video['impressions'].std()\n",
    "quartiles_impression_video = np.percentile(video['impressions'],[25,50,75])\n",
    "min_impression_video,max_impression_video = video['impressions'].min(),video['impressions'].max()\n",
    "\n",
    "print(f\"Mean dari impressions at video ads {mean_impression_video}\")\n",
    "print(f\"Median dari impressions at video ads {median_impression_video}\")\n",
    "print(f\"Mode dari impressions at video ads {mode_impression_video[0]}\")\n",
    "print(f\"Skewness dari impressions at video ads {skew_impression_video}\")\n",
    "print(f\"Kurtosis dari impressions at video ads {kurt_impression_video}\")\n",
    "print(f\"Variance dari impression at video ads {var_impression_video}\")\n",
    "print(f\"Standard Deviation dari impression at video ads {std_impression_video}\")\n",
    "print(f\"Q1 dari impression at video ads {quartiles_impression_video[0]}\")\n",
    "print(f\"Q3 dari impression at video ads {quartiles_impression_video[2]}\")\n",
    "print(f\"Min dari impression at video ads {min_impression_video}\")\n",
    "print(f\"Max dari impressionat video ads {max_impression_video}\")"
   ]
  },
  {
   "cell_type": "markdown",
   "metadata": {},
   "source": [
    "Berdasarkan data ini, tipe distribusinya adalah positive right skew karena skewness > 0 dan juga posisi mean di sebelah kanan median."
   ]
  },
  {
   "cell_type": "code",
   "execution_count": 184,
   "metadata": {},
   "outputs": [
    {
     "name": "stderr",
     "output_type": "stream",
     "text": [
      "c:\\Users\\maula\\anaconda3\\lib\\site-packages\\seaborn\\distributions.py:2619: FutureWarning:\n",
      "\n",
      "`distplot` is a deprecated function and will be removed in a future version. Please adapt your code to use either `displot` (a figure-level function with similar flexibility) or `histplot` (an axes-level function for histograms).\n",
      "\n",
      "c:\\Users\\maula\\anaconda3\\lib\\site-packages\\seaborn\\_decorators.py:36: FutureWarning:\n",
      "\n",
      "Pass the following variable as a keyword arg: x. From version 0.12, the only valid positional argument will be `data`, and passing other arguments without an explicit keyword will result in an error or misinterpretation.\n",
      "\n"
     ]
    },
    {
     "data": {
      "text/plain": [
       "[Text(0.5, 1.0, 'Boxplot of Impressions of video Ads in United States'),\n",
       " Text(0.5, 0, 'Impression ')]"
      ]
     },
     "execution_count": 184,
     "metadata": {},
     "output_type": "execute_result"
    },
    {
     "data": {
      "image/png": "[encoded data removed]",
      "text/plain": [
       "<Figure size 2160x720 with 2 Axes>"
      ]
     },
     "metadata": {},
     "output_type": "display_data"
    }
   ],
   "source": [
    "plt.figure(figsize=(30,10))\n",
    "plt.subplot(2,2,1)\n",
    "sns.distplot(video['impressions'],color = 'blue').set(title = 'Distribution of Impressions of video Ads in United States',xlabel ='Impression')\n",
    "plt.subplot(2,2,2)\n",
    "sns.boxplot(video['impressions']).set(title = 'Boxplot of Impressions of video Ads in United States',xlabel ='Impression ')\n"
   ]
  },
  {
   "cell_type": "markdown",
   "metadata": {},
   "source": [
    "Terlihat pada box plot terdapat outliers."
   ]
  },
  {
   "cell_type": "markdown",
   "metadata": {},
   "source": [
    "Mendeteksi dan menghilangkan outliers dengan metode turkey's rule karena data tidak distribusi normal."
   ]
  },
  {
   "cell_type": "code",
   "execution_count": 185,
   "metadata": {},
   "outputs": [
    {
     "name": "stdout",
     "output_type": "stream",
     "text": [
      "Interval berada pada value minimum -87500.0 hingga value maximum 148500.0\n"
     ]
    },
    {
     "name": "stderr",
     "output_type": "stream",
     "text": [
      "c:\\Users\\maula\\anaconda3\\lib\\site-packages\\seaborn\\distributions.py:2619: FutureWarning:\n",
      "\n",
      "`distplot` is a deprecated function and will be removed in a future version. Please adapt your code to use either `displot` (a figure-level function with similar flexibility) or `histplot` (an axes-level function for histograms).\n",
      "\n",
      "c:\\Users\\maula\\anaconda3\\lib\\site-packages\\seaborn\\_decorators.py:36: FutureWarning:\n",
      "\n",
      "Pass the following variable as a keyword arg: x. From version 0.12, the only valid positional argument will be `data`, and passing other arguments without an explicit keyword will result in an error or misinterpretation.\n",
      "\n",
      "c:\\Users\\maula\\anaconda3\\lib\\site-packages\\seaborn\\distributions.py:2619: FutureWarning:\n",
      "\n",
      "`distplot` is a deprecated function and will be removed in a future version. Please adapt your code to use either `displot` (a figure-level function with similar flexibility) or `histplot` (an axes-level function for histograms).\n",
      "\n",
      "c:\\Users\\maula\\anaconda3\\lib\\site-packages\\seaborn\\_decorators.py:36: FutureWarning:\n",
      "\n",
      "Pass the following variable as a keyword arg: x. From version 0.12, the only valid positional argument will be `data`, and passing other arguments without an explicit keyword will result in an error or misinterpretation.\n",
      "\n"
     ]
    },
    {
     "data": {
      "image/png": "[encoded data removed]",
      "text/plain": [
       "<Figure size 2160x720 with 4 Axes>"
      ]
     },
     "metadata": {},
     "output_type": "display_data"
    }
   ],
   "source": [
    "IQR_video = quartiles_impression_video[2] - quartiles_impression_video[0]\n",
    "batas_bawah_video = quartiles_impression_video[0] - 1.5*IQR_video\n",
    "batas_atas_video = quartiles_impression_video [2] + 1.5*IQR_video\n",
    "\n",
    "print(f'Interval berada pada value minimum {batas_bawah_video} hingga value maximum {batas_atas_video}')\n",
    "new_video = video.copy()\n",
    "new_video = np.where(\n",
    "    new_video['impressions'] > batas_atas_video,\n",
    "    batas_atas_video,\n",
    "    np.where(\n",
    "        new_video['impressions'] < batas_bawah_video,\n",
    "        batas_bawah_video,\n",
    "        new_video['impressions']\n",
    "    )\n",
    ")\n",
    "plt.figure(figsize=(30,10))\n",
    "plt.subplot(2,2,1)\n",
    "sns.distplot(video['impressions'],color = 'blue').set(title = 'Distribution of Impressions of video Ads in United States',xlabel ='Impression')\n",
    "plt.subplot(2,2,2)\n",
    "sns.boxplot(video['impressions']).set(title = 'Boxplot of Impressions of video Ads in United States',xlabel ='Impression ')\n",
    "plt.subplot(2,2,3)\n",
    "sns.distplot(new_video).set(title = 'Distribution of Impressions of video Ads in United States',xlabel ='Impression')\n",
    "plt.subplot(2,2,4)\n",
    "sns.boxplot(new_video).set(title = 'Boxplot of Impressions of video Ads in United States',xlabel ='Impression ')\n",
    "plt.subplot(2,2,3)\n",
    "plt.show()"
   ]
  },
  {
   "cell_type": "markdown",
   "metadata": {},
   "source": [
    "Terlihat perbandingannya bagian atas (sebelum filter) bagian bawah (sesudah filter), pada boxplot terlihat bahwa sudah tidak ada outliersnya."
   ]
  },
  {
   "cell_type": "markdown",
   "metadata": {},
   "source": [
    "### Anova Analysis"
   ]
  },
  {
   "cell_type": "markdown",
   "metadata": {},
   "source": [
    "Di section ini Saya ingin menganalisa ketiga variabel tipe ads (text, image, video),\n",
    "Apakah antar variabel tersebut memiliki kesamaan dalam mendapatkan impression atau statistically significant perbedaannya."
   ]
  },
  {
   "cell_type": "markdown",
   "metadata": {},
   "source": [
    "Dengan Hipotesis sebagai berikut:"
   ]
  },
  {
   "cell_type": "markdown",
   "metadata": {},
   "source": [
    "```txt\n",
    "H0 : Antar Tipe Ads tidak memiliki perbedaan terhadap impression yang di dapat, μtext = μimage = μvideo.\n",
    "H1 : Antar Tipe Ads memiliki perbedaan significant terhadap impression yang di dapat, μtext != μimage != μvideo.\n",
    "```"
   ]
  },
  {
   "cell_type": "markdown",
   "metadata": {},
   "source": [
    "Karena disini terdapat tiga variabel maka Saya menggunakan Analysis ANOVA dengan menggunakan fungsi yang sudah ada pada library scipy.stats"
   ]
  },
  {
   "cell_type": "code",
   "execution_count": 186,
   "metadata": {},
   "outputs": [
    {
     "name": "stdout",
     "output_type": "stream",
     "text": [
      "P-value: 0.0\n",
      "f-stat: 53261.970515553265\n"
     ]
    }
   ],
   "source": [
    "f_stat,p_value = stats.f_oneway(pd.DataFrame(new_text),pd.DataFrame(new_image),pd.DataFrame(new_video))\n",
    "print('P-value:',p_value[0])\n",
    "print('f-stat:',f_stat[0])"
   ]
  },
  {
   "cell_type": "markdown",
   "metadata": {},
   "source": [
    "Sehingga didapat p-value < 0,05, maka H0 di reject. \n",
    "\n",
    "`Dapat disimpulkan bahwa terdapat perbedaan statistically significant antara Ads Type Text, Image, dan Video terhadap impressions yang di dapat.`"
   ]
  },
  {
   "cell_type": "markdown",
   "metadata": {},
   "source": [
    "### Mean, min, max analysis"
   ]
  },
  {
   "cell_type": "markdown",
   "metadata": {},
   "source": [
    "Dengan menggunakan data yang sudah bersih dari outliers dicari value average rata-rata, minimum, dan maximumnya:"
   ]
  },
  {
   "cell_type": "code",
   "execution_count": 187,
   "metadata": {},
   "outputs": [
    {
     "name": "stdout",
     "output_type": "stream",
     "text": [
      "Rata-rata impression yang di dapat dengan menggunakan ads text adalah 2143.56 impressions\n",
      "Minimum impression yang di dapat dengan menggunakan ads text adalah 1000.0 impressions\n",
      "Maximum impression yang di dapat dengan menggunakan ads text adalah 6000.0 impressions\n"
     ]
    }
   ],
   "source": [
    "print(f\"Rata-rata impression yang di dapat dengan menggunakan ads text adalah {round(new_text.mean(),2)} impressions\")\n",
    "print(f\"Minimum impression yang di dapat dengan menggunakan ads text adalah {round(new_text.min(),2)} impressions\")\n",
    "print(f\"Maximum impression yang di dapat dengan menggunakan ads text adalah {round(new_text.max(),2)} impressions\")"
   ]
  },
  {
   "cell_type": "code",
   "execution_count": 188,
   "metadata": {},
   "outputs": [
    {
     "name": "stdout",
     "output_type": "stream",
     "text": [
      "Rata-rata impression yang di dapat dengan menggunakan ads image adalah 16956.66 impressions\n",
      "Minimum impression yang di dapat dengan menggunakan ads image adalah 1000.0 impressions\n",
      "Maximum impression yang di dapat dengan menggunakan ads image adalah 61000.0 impressions\n"
     ]
    }
   ],
   "source": [
    "print(f\"Rata-rata impression yang di dapat dengan menggunakan ads image adalah {round(new_image.mean(),2)} impressions\")\n",
    "print(f\"Minimum impression yang di dapat dengan menggunakan ads image adalah {round(new_image.min(),2)} impressions\")\n",
    "print(f\"Maximum impression yang di dapat dengan menggunakan ads image adalah {round(new_image.max(),2)} impressions\")"
   ]
  },
  {
   "cell_type": "code",
   "execution_count": 189,
   "metadata": {},
   "outputs": [
    {
     "name": "stdout",
     "output_type": "stream",
     "text": [
      "Rata-rata impression yang di dapat dengan menggunakan ads video adalah 39772.97 impressions\n",
      "Minimum impression yang di dapat dengan menggunakan ads video adalah 1000.0 impressions\n",
      "Maximum impression yang di dapat dengan menggunakan ads video adalah 148500.0 impressions\n"
     ]
    }
   ],
   "source": [
    "print(f\"Rata-rata impression yang di dapat dengan menggunakan ads video adalah {round(new_video.mean(),2)} impressions\")\n",
    "print(f\"Minimum impression yang di dapat dengan menggunakan ads video adalah {round(new_video.min(),2)} impressions\")\n",
    "print(f\"Maximum impression yang di dapat dengan menggunakan ads video adalah {round(new_video.max(),2)} impressions\")"
   ]
  },
  {
   "cell_type": "markdown",
   "metadata": {},
   "source": [
    "Dapat dilihat bahwa ads type video memiliki impression yang lebih banyak di banding ads type lainnya."
   ]
  },
  {
   "cell_type": "markdown",
   "metadata": {},
   "source": [
    "Membuat data frame baru untuk melakukan barplot."
   ]
  },
  {
   "cell_type": "code",
   "execution_count": 190,
   "metadata": {},
   "outputs": [],
   "source": [
    "mean_m=[round(new_text.mean(),2),round(new_image.mean(),2),round(new_video.mean(),2)]"
   ]
  },
  {
   "cell_type": "code",
   "execution_count": 191,
   "metadata": {},
   "outputs": [],
   "source": [
    "min_m=[round(new_text.min(),2),round(new_image.min(),2),round(new_video.min(),2)]"
   ]
  },
  {
   "cell_type": "code",
   "execution_count": 192,
   "metadata": {},
   "outputs": [],
   "source": [
    "max_m =[round(new_text.max(),2),round(new_image.max(),2),round(new_video.max(),2)]"
   ]
  },
  {
   "cell_type": "code",
   "execution_count": 193,
   "metadata": {},
   "outputs": [],
   "source": [
    "data_mean_min_max_type = pd.DataFrame()"
   ]
  },
  {
   "cell_type": "code",
   "execution_count": 194,
   "metadata": {},
   "outputs": [],
   "source": [
    "data_mean_min_max_type['Text'] = [round(new_text.mean(),2),round(new_text.min(),2),round(new_text.max(),2)]"
   ]
  },
  {
   "cell_type": "code",
   "execution_count": 195,
   "metadata": {},
   "outputs": [],
   "source": [
    "data_mean_min_max_type['Image'] = [round(new_image.mean(),2),round(new_image.min(),2),round(new_image.max(),2)]"
   ]
  },
  {
   "cell_type": "code",
   "execution_count": 196,
   "metadata": {},
   "outputs": [],
   "source": [
    "data_mean_min_max_type['Video'] = [round(new_video.mean(),2),round(new_video.min(),2),round(new_video.max(),2)]"
   ]
  },
  {
   "cell_type": "code",
   "execution_count": 197,
   "metadata": {},
   "outputs": [],
   "source": [
    "data_mean_min_max_type = data_mean_min_max_type.set_axis(['Average','Minimum','Maximum'])"
   ]
  },
  {
   "cell_type": "code",
   "execution_count": 198,
   "metadata": {},
   "outputs": [
    {
     "data": {
      "text/plain": [
       "<AxesSubplot:title={'center':'Ads Type Comparison in Average, Minimum, and Maximum'}>"
      ]
     },
     "execution_count": 198,
     "metadata": {},
     "output_type": "execute_result"
    },
    {
     "data": {
      "image/png": "[encoded data removed]",
      "text/plain": [
       "<Figure size 720x720 with 1 Axes>"
      ]
     },
     "metadata": {},
     "output_type": "display_data"
    }
   ],
   "source": [
    "data_mean_min_max_type.plot(kind='bar',stacked = True,figsize = (10,10),title = 'Ads Type Comparison in Average, Minimum, and Maximum')"
   ]
  },
  {
   "cell_type": "markdown",
   "metadata": {},
   "source": [
    "Sehingga dapat dilihat pada barplot bahwa proporsi impression yang di hasilkan dari tiap ads type. \n",
    "```txt\n",
    "Di dapatkan bahwa ads type video memiiki impression rata-rata dan maximum tertinggi, lalu diikuti oleh Image, kemudian yang terakhir adalah Text. Untuk Minimum memiliki value yang sama yaitu 1000 impression pada ketiga tipe ads.\n",
    "```"
   ]
  },
  {
   "cell_type": "markdown",
   "metadata": {},
   "source": [
    "Membuat variabel color untuk memberikan pewarnaan yang berbeda pada tiap tie data, dimana Text berwarna biru, Image berwarna hitam, dan Video berwarna merah."
   ]
  },
  {
   "cell_type": "code",
   "execution_count": 199,
   "metadata": {},
   "outputs": [],
   "source": [
    "color1 =[]"
   ]
  },
  {
   "cell_type": "code",
   "execution_count": 200,
   "metadata": {},
   "outputs": [],
   "source": [
    "for i in range(0,len(based_ads_type)):\n",
    "    if based_ads_type.iloc[i,1] == 'TEXT':\n",
    "        color1.append('blue')\n",
    "    elif based_ads_type.iloc[i,1] == 'IMAGE':\n",
    "        color1.append('black')\n",
    "    elif based_ads_type.iloc[i,1] == 'VIDEO':\n",
    "        color1.append('red')\n",
    "        "
   ]
  },
  {
   "cell_type": "code",
   "execution_count": 201,
   "metadata": {},
   "outputs": [],
   "source": [
    "based_ads_type['color'] = color1"
   ]
  },
  {
   "cell_type": "code",
   "execution_count": 202,
   "metadata": {},
   "outputs": [
    {
     "data": {
      "text/html": [
       "<div>\n",
       "<style scoped>\n",
       "    .dataframe tbody tr th:only-of-type {\n",
       "        vertical-align: middle;\n",
       "    }\n",
       "\n",
       "    .dataframe tbody tr th {\n",
       "        vertical-align: top;\n",
       "    }\n",
       "\n",
       "    .dataframe thead th {\n",
       "        text-align: right;\n",
       "    }\n",
       "</style>\n",
       "<table border=\"1\" class=\"dataframe\">\n",
       "  <thead>\n",
       "    <tr style=\"text-align: right;\">\n",
       "      <th></th>\n",
       "      <th>regions</th>\n",
       "      <th>ad_type</th>\n",
       "      <th>impressions</th>\n",
       "      <th>spend_usd</th>\n",
       "      <th>color</th>\n",
       "    </tr>\n",
       "  </thead>\n",
       "  <tbody>\n",
       "    <tr>\n",
       "      <th>0</th>\n",
       "      <td>US</td>\n",
       "      <td>IMAGE</td>\n",
       "      <td>8000</td>\n",
       "      <td>100</td>\n",
       "      <td>black</td>\n",
       "    </tr>\n",
       "    <tr>\n",
       "      <th>1</th>\n",
       "      <td>US</td>\n",
       "      <td>IMAGE</td>\n",
       "      <td>30000</td>\n",
       "      <td>400</td>\n",
       "      <td>black</td>\n",
       "    </tr>\n",
       "    <tr>\n",
       "      <th>2</th>\n",
       "      <td>US</td>\n",
       "      <td>IMAGE</td>\n",
       "      <td>1000</td>\n",
       "      <td>100</td>\n",
       "      <td>black</td>\n",
       "    </tr>\n",
       "    <tr>\n",
       "      <th>3</th>\n",
       "      <td>US</td>\n",
       "      <td>IMAGE</td>\n",
       "      <td>80000</td>\n",
       "      <td>500</td>\n",
       "      <td>black</td>\n",
       "    </tr>\n",
       "    <tr>\n",
       "      <th>4</th>\n",
       "      <td>US</td>\n",
       "      <td>IMAGE</td>\n",
       "      <td>1000</td>\n",
       "      <td>100</td>\n",
       "      <td>black</td>\n",
       "    </tr>\n",
       "  </tbody>\n",
       "</table>\n",
       "</div>"
      ],
      "text/plain": [
       "  regions ad_type  impressions  spend_usd  color\n",
       "0      US   IMAGE         8000        100  black\n",
       "1      US   IMAGE        30000        400  black\n",
       "2      US   IMAGE         1000        100  black\n",
       "3      US   IMAGE        80000        500  black\n",
       "4      US   IMAGE         1000        100  black"
      ]
     },
     "execution_count": 202,
     "metadata": {},
     "output_type": "execute_result"
    }
   ],
   "source": [
    "based_ads_type.head()"
   ]
  },
  {
   "cell_type": "code",
   "execution_count": 203,
   "metadata": {},
   "outputs": [],
   "source": [
    "#based_ads_type.to_csv('colorplot.csv')"
   ]
  },
  {
   "cell_type": "markdown",
   "metadata": {},
   "source": [
    "Melakukan scatter plotting untuk melihat hubungan antara impression dan spending us dollar."
   ]
  },
  {
   "cell_type": "code",
   "execution_count": 204,
   "metadata": {},
   "outputs": [
    {
     "data": {
      "image/png": "[encoded data removed]",
      "text/plain": [
       "<Figure size 720x720 with 1 Axes>"
      ]
     },
     "metadata": {},
     "output_type": "display_data"
    }
   ],
   "source": [
    "plt.figure(figsize=(10,10))\n",
    "plt.style.use('ggplot')\n",
    "plt.title('Relation between Impression and Spending (US Dollar)')\n",
    "plt.xlabel('Spending (US Dollar)')\n",
    "plt.ylabel('Impressions')\n",
    "plt.scatter(x=based_ads_type['spend_usd'],y=based_ads_type['impressions'],s=50,c=based_ads_type['color'],alpha=0.3,marker='o',label = {'Text' : 'blue', 'Image': 'black', 'Video': 'red'})\n",
    "plt.legend() \n",
    "plt.show()"
   ]
  },
  {
   "cell_type": "markdown",
   "metadata": {},
   "source": [
    "Berdasarkan scatter plot di atas bahwa, pada data political_ads ini banyak yang spending besar pada ads tipe Text namun dengan impressions yang di dapat tidak cukup besar, berbeda dengan ads_type Image dan Video yang dimana spending yang dikeluarkan lebih kecil dibanding text, tetapi mendaptkan impressions yang lebih besar."
   ]
  },
  {
   "cell_type": "markdown",
   "metadata": {},
   "source": [
    "# Jawaban pada setiap masalah:"
   ]
  },
  {
   "cell_type": "markdown",
   "metadata": {},
   "source": [
    "* Bagaimana perilaku warga United States dalam mengeluarkan US dollar untuk sebuah iklan terhadap impression yang di dapat? (Visual)"
   ]
  },
  {
   "cell_type": "code",
   "execution_count": 205,
   "metadata": {},
   "outputs": [
    {
     "data": {
      "text/plain": [
       "Text(0.5, 1.0, 'The Distributions of Total Spending with Total Impressions ')"
      ]
     },
     "execution_count": 205,
     "metadata": {},
     "output_type": "execute_result"
    },
    {
     "data": {
      "image/png": "[encoded data removed]",
      "text/plain": [
       "<Figure size 432x288 with 1 Axes>"
      ]
     },
     "metadata": {},
     "output_type": "display_data"
    }
   ],
   "source": [
    "plt.scatter(y=ads_data['impressions_per_ads'],x=ads_data['usd_per_ads_day'])\n",
    "plt.xlabel('Spend in US Dollar')\n",
    "plt.ylabel('Impressions')\n",
    "plt.title(\"The Distributions of Total Spending with Total Impressions \")"
   ]
  },
  {
   "cell_type": "markdown",
   "metadata": {},
   "source": [
    "`Dapat disimpulkan bahwa perilaku warga United States pada umumnya  baik itu pada setiap organisasi atau individu melakukan budgeting untuk political ads di google untuk 1 iklannya dalam 1 hari di bawah 7.500 US Dollar dengan mendapatkan impression di bawah 300.000 impressions. Walupun terdapat juga tidak banyak berada di angka di atas spend dan impression yang telah disebutkan.`"
   ]
  },
  {
   "cell_type": "markdown",
   "metadata": {},
   "source": [
    "* Bagiamana persebaran data pada impression yang di dapat dari sebuah ads di United States? (Deskriptif)"
   ]
  },
  {
   "cell_type": "markdown",
   "metadata": {},
   "source": [
    "`Berdasarkan analisa central tendecy dari jumlah impression per iklan dalam sehari ini memiliki distribusi positive skew yang dimana mean > median. Hal ini berarti total impression lebih banyak frekuensinya di sebelah kiri dari nilai rata-ratanya. Selain itu juga didukung dengan nilai skewness yang positive >0. Selain itu pada distribusi ini sangat runcing atau terpusat mendekati pada 1 value yang dapat dilihat pada distribusi. Setelah dilihat, hal ini didukung karena nilai kurtosis nya yang sangat tinggi.`\n",
    "\n",
    "`Rata-rata di US untuk dalam political google ads didapat dalam satu ads per harinya sebanyak 3866 impressions. Dari persebaran data impression per ads per harinya paling banyak frekuensi impressions didapat sebanyak 250 impressions.`"
   ]
  },
  {
   "cell_type": "markdown",
   "metadata": {},
   "source": [
    "* Bagiamana persebaran data pada US dollar yang dikeluarkan untuk sebuah ads di United States? (Deskriptif)"
   ]
  },
  {
   "cell_type": "markdown",
   "metadata": {},
   "source": [
    "`Berdasarkan analisa central tendecy dari jumlah impression per iklan dalam sehari ini memiliki distribusi positive skew yang dimana mean > median. Hal ini berarti total impression lebih banyak frekuensinya di sebelah kiri dari nilai rata-ratanya. Selain itu juga didukung dengan nilai skewness yang positive >0. Selain itu pada distribusi ini sangat runcing atau terpusat mendekati pada 1 value yang dapat dilihat pada distribusi. Setelah dilihat, hal ini didukung karena nilai kurtosis nya yang sangat tinggi.`\n",
    "\n",
    "`Rata-rata di US melakukan spending per ads per harinya untuk political google ads sebanyak 89 US Dollar. Dari persebaran data impression per ads per harinya paling banyak frekuensi spending didapat sebanyak 100 US Dollar.`"
   ]
  },
  {
   "cell_type": "markdown",
   "metadata": {},
   "source": [
    "* Bagaimana persebaran total ads yang ditujukan pada setiap states di United States?(Visual)"
   ]
  },
  {
   "cell_type": "code",
   "execution_count": 206,
   "metadata": {},
   "outputs": [
    {
     "data": {
      "application/vnd.plotly.v1+json": {
       "config": {
        "plotlyServerURL": "https://plot.ly"
       },
       "data": [
        {
         "lat": [
          63.588753
         ],
         "locationmode": "USA-states",
         "lon": [
          -154.493062
         ],
         "marker": {
          "color": "#F4C2C2",
          "line": {
           "color": "rgb(40,40,40)",
           "width": 0.5
          },
          "size": [
           394.70000000000005
          ],
          "sizemode": "area"
         },
         "name": "< 4000",
         "text": [
          "Alaska"
         ],
         "type": "scattergeo"
        },
        {
         "lat": [
          41.580095,
          45.253783,
          38.910832,
          47.551493,
          19.898682,
          41.603221,
          44.558803,
          43.969515,
          43.193852,
          46.879682,
          43.075968,
          38.905985
         ],
         "locationmode": "USA-states",
         "lon": [
          -71.477429,
          -69.445469,
          -75.52767,
          -101.002012,
          -155.665857,
          -73.087749,
          -72.577841,
          -99.901813,
          -71.572395,
          -110.362566,
          -107.290284,
          -77.033418
         ],
         "marker": {
          "color": "#FF6961",
          "line": {
           "color": "rgb(40,40,40)",
           "width": 0.5
          },
          "size": [
           407.5,
           409.20000000000005,
           416.70000000000005,
           430.1,
           432.40000000000003,
           433.3,
           433.90000000000003,
           435.70000000000005,
           436.1,
           438.70000000000005,
           439.6,
           441.5
          ],
          "sizemode": "area"
         },
         "name": "4001-4500",
         "text": [
          "Rhode Island",
          "Maine",
          "Delaware",
          "North Dakota",
          "Hawaii",
          "Connecticut",
          "Vermont",
          "South Dakota",
          "New Hampshire",
          "Montana",
          "Wyoming",
          "District of Columbia"
         ],
         "type": "scattergeo"
        },
        {
         "lat": [
          42.407211,
          44.068202,
          32.354668,
          41.492537,
          38.597626,
          35.20105,
          40.058324,
          39.011902,
          34.97273,
          41.878003,
          35.007752,
          31.244823,
          39.32098,
          47.751074,
          37.839333,
          43.804133,
          32.318231,
          39.045755,
          38.80261,
          37.964253,
          46.729553,
          43.78444,
          33.836081,
          40.551217,
          39.550051,
          35.517491,
          34.048928
         ],
         "locationmode": "USA-states",
         "lon": [
          -71.382437,
          -114.742041,
          -89.398528,
          -99.901813,
          -80.454903,
          -91.831833,
          -74.405661,
          -98.484246,
          -105.032363,
          -93.097702,
          -97.092877,
          -92.145024,
          -111.093731,
          -120.740139,
          -84.270018,
          -120.554201,
          -86.902298,
          -76.641271,
          -116.419389,
          -91.831833,
          -94.6859,
          -88.787868,
          -81.163725,
          -85.602364,
          -105.782067,
          -86.580447,
          -111.093731
         ],
         "marker": {
          "color": "#FF1C00",
          "line": {
           "color": "rgb(40,40,40)",
           "width": 0.5
          },
          "size": [
           450.5,
           453.8,
           456.6,
           458.40000000000003,
           462.5,
           463.8,
           466.3,
           468.1,
           468.3,
           469.40000000000003,
           469.6,
           470,
           472.6,
           473.5,
           473.8,
           476.8,
           478.6,
           480.90000000000003,
           482.1,
           487,
           487.6,
           488.90000000000003,
           489.20000000000005,
           494,
           498.90000000000003,
           498.90000000000003,
           499.3
          ],
          "sizemode": "area"
         },
         "name": "4501-5000",
         "text": [
          "Massachusetts",
          "Idaho",
          "Mississippi",
          "Nebraska",
          "West Virginia",
          "Arkansas",
          "New Jersey",
          "Kansas",
          "New Mexico",
          "Iowa",
          "Oklahoma",
          "Louisiana",
          "Utah",
          "Washington",
          "Kentucky",
          "Oregon",
          "Alabama",
          "Maryland",
          "Nevada",
          "Missouri",
          "Minnesota",
          "Wisconsin",
          "South Carolina",
          "Indiana",
          "Colorado",
          "Tennessee",
          "Arizona"
         ],
         "type": "scattergeo"
        },
        {
         "lat": [
          43.299428,
          44.314844,
          40.417287,
          35.759573,
          32.157435,
          37.431573,
          40.633125,
          41.203322,
          31.968599,
          27.664827,
          36.778261
         ],
         "locationmode": "USA-states",
         "lon": [
          -74.217933,
          -85.602364,
          -82.907123,
          -79.0193,
          -82.907123,
          -78.656894,
          -89.398528,
          -77.194525,
          -99.901813,
          -81.515754,
          -119.417932
         ],
         "marker": {
          "color": "#D73B3E",
          "line": {
           "color": "rgb(40,40,40)",
           "width": 0.5
          },
          "size": [
           501,
           502.5,
           505.70000000000005,
           506.20000000000005,
           506.90000000000003,
           511.8,
           513.4,
           515,
           522.1,
           523.5,
           533.2
          ],
          "sizemode": "area"
         },
         "name": "5000+",
         "text": [
          "New York",
          "Michigan",
          "Ohio",
          "North Carolina",
          "Georgia",
          "Virginia",
          "Illinois",
          "Pennsylvania",
          "Texas",
          "Florida",
          "California"
         ],
         "type": "scattergeo"
        }
       ],
       "layout": {
        "geo": {
         "landcolor": "rgb(217, 217, 217)",
         "projection": {
          "type": "albers usa"
         },
         "scope": "usa"
        },
        "legend": {
         "title": {
          "text": "Range Of Total Ads"
         }
        },
        "showlegend": true,
        "template": {
         "data": {
          "bar": [
           {
            "error_x": {
             "color": "#2a3f5f"
            },
            "error_y": {
             "color": "#2a3f5f"
            },
            "marker": {
             "line": {
              "color": "#E5ECF6",
              "width": 0.5
             },
             "pattern": {
              "fillmode": "overlay",
              "size": 10,
              "solidity": 0.2
             }
            },
            "type": "bar"
           }
          ],
          "barpolar": [
           {
            "marker": {
             "line": {
              "color": "#E5ECF6",
              "width": 0.5
             },
             "pattern": {
              "fillmode": "overlay",
              "size": 10,
              "solidity": 0.2
             }
            },
            "type": "barpolar"
           }
          ],
          "carpet": [
           {
            "aaxis": {
             "endlinecolor": "#2a3f5f",
             "gridcolor": "white",
             "linecolor": "white",
             "minorgridcolor": "white",
             "startlinecolor": "#2a3f5f"
            },
            "baxis": {
             "endlinecolor": "#2a3f5f",
             "gridcolor": "white",
             "linecolor": "white",
             "minorgridcolor": "white",
             "startlinecolor": "#2a3f5f"
            },
            "type": "carpet"
           }
          ],
          "choropleth": [
           {
            "colorbar": {
             "outlinewidth": 0,
             "ticks": ""
            },
            "type": "choropleth"
           }
          ],
          "contour": [
           {
            "colorbar": {
             "outlinewidth": 0,
             "ticks": ""
            },
            "colorscale": [
             [
              0,
              "#0d0887"
             ],
             [
              0.1111111111111111,
              "#46039f"
             ],
             [
              0.2222222222222222,
              "#7201a8"
             ],
             [
              0.3333333333333333,
              "#9c179e"
             ],
             [
              0.4444444444444444,
              "#bd3786"
             ],
             [
              0.5555555555555556,
              "#d8576b"
             ],
             [
              0.6666666666666666,
              "#ed7953"
             ],
             [
              0.7777777777777778,
              "#fb9f3a"
             ],
             [
              0.8888888888888888,
              "#fdca26"
             ],
             [
              1,
              "#f0f921"
             ]
            ],
            "type": "contour"
           }
          ],
          "contourcarpet": [
           {
            "colorbar": {
             "outlinewidth": 0,
             "ticks": ""
            },
            "type": "contourcarpet"
           }
          ],
          "heatmap": [
           {
            "colorbar": {
             "outlinewidth": 0,
             "ticks": ""
            },
            "colorscale": [
             [
              0,
              "#0d0887"
             ],
             [
              0.1111111111111111,
              "#46039f"
             ],
             [
              0.2222222222222222,
              "#7201a8"
             ],
             [
              0.3333333333333333,
              "#9c179e"
             ],
             [
              0.4444444444444444,
              "#bd3786"
             ],
             [
              0.5555555555555556,
              "#d8576b"
             ],
             [
              0.6666666666666666,
              "#ed7953"
             ],
             [
              0.7777777777777778,
              "#fb9f3a"
             ],
             [
              0.8888888888888888,
              "#fdca26"
             ],
             [
              1,
              "#f0f921"
             ]
            ],
            "type": "heatmap"
           }
          ],
          "heatmapgl": [
           {
            "colorbar": {
             "outlinewidth": 0,
             "ticks": ""
            },
            "colorscale": [
             [
              0,
              "#0d0887"
             ],
             [
              0.1111111111111111,
              "#46039f"
             ],
             [
              0.2222222222222222,
              "#7201a8"
             ],
             [
              0.3333333333333333,
              "#9c179e"
             ],
             [
              0.4444444444444444,
              "#bd3786"
             ],
             [
              0.5555555555555556,
              "#d8576b"
             ],
             [
              0.6666666666666666,
              "#ed7953"
             ],
             [
              0.7777777777777778,
              "#fb9f3a"
             ],
             [
              0.8888888888888888,
              "#fdca26"
             ],
             [
              1,
              "#f0f921"
             ]
            ],
            "type": "heatmapgl"
           }
          ],
          "histogram": [
           {
            "marker": {
             "pattern": {
              "fillmode": "overlay",
              "size": 10,
              "solidity": 0.2
             }
            },
            "type": "histogram"
           }
          ],
          "histogram2d": [
           {
            "colorbar": {
             "outlinewidth": 0,
             "ticks": ""
            },
            "colorscale": [
             [
              0,
              "#0d0887"
             ],
             [
              0.1111111111111111,
              "#46039f"
             ],
             [
              0.2222222222222222,
              "#7201a8"
             ],
             [
              0.3333333333333333,
              "#9c179e"
             ],
             [
              0.4444444444444444,
              "#bd3786"
             ],
             [
              0.5555555555555556,
              "#d8576b"
             ],
             [
              0.6666666666666666,
              "#ed7953"
             ],
             [
              0.7777777777777778,
              "#fb9f3a"
             ],
             [
              0.8888888888888888,
              "#fdca26"
             ],
             [
              1,
              "#f0f921"
             ]
            ],
            "type": "histogram2d"
           }
          ],
          "histogram2dcontour": [
           {
            "colorbar": {
             "outlinewidth": 0,
             "ticks": ""
            },
            "colorscale": [
             [
              0,
              "#0d0887"
             ],
             [
              0.1111111111111111,
              "#46039f"
             ],
             [
              0.2222222222222222,
              "#7201a8"
             ],
             [
              0.3333333333333333,
              "#9c179e"
             ],
             [
              0.4444444444444444,
              "#bd3786"
             ],
             [
              0.5555555555555556,
              "#d8576b"
             ],
             [
              0.6666666666666666,
              "#ed7953"
             ],
             [
              0.7777777777777778,
              "#fb9f3a"
             ],
             [
              0.8888888888888888,
              "#fdca26"
             ],
             [
              1,
              "#f0f921"
             ]
            ],
            "type": "histogram2dcontour"
           }
          ],
          "mesh3d": [
           {
            "colorbar": {
             "outlinewidth": 0,
             "ticks": ""
            },
            "type": "mesh3d"
           }
          ],
          "parcoords": [
           {
            "line": {
             "colorbar": {
              "outlinewidth": 0,
              "ticks": ""
             }
            },
            "type": "parcoords"
           }
          ],
          "pie": [
           {
            "automargin": true,
            "type": "pie"
           }
          ],
          "scatter": [
           {
            "fillpattern": {
             "fillmode": "overlay",
             "size": 10,
             "solidity": 0.2
            },
            "type": "scatter"
           }
          ],
          "scatter3d": [
           {
            "line": {
             "colorbar": {
              "outlinewidth": 0,
              "ticks": ""
             }
            },
            "marker": {
             "colorbar": {
              "outlinewidth": 0,
              "ticks": ""
             }
            },
            "type": "scatter3d"
           }
          ],
          "scattercarpet": [
           {
            "marker": {
             "colorbar": {
              "outlinewidth": 0,
              "ticks": ""
             }
            },
            "type": "scattercarpet"
           }
          ],
          "scattergeo": [
           {
            "marker": {
             "colorbar": {
              "outlinewidth": 0,
              "ticks": ""
             }
            },
            "type": "scattergeo"
           }
          ],
          "scattergl": [
           {
            "marker": {
             "colorbar": {
              "outlinewidth": 0,
              "ticks": ""
             }
            },
            "type": "scattergl"
           }
          ],
          "scattermapbox": [
           {
            "marker": {
             "colorbar": {
              "outlinewidth": 0,
              "ticks": ""
             }
            },
            "type": "scattermapbox"
           }
          ],
          "scatterpolar": [
           {
            "marker": {
             "colorbar": {
              "outlinewidth": 0,
              "ticks": ""
             }
            },
            "type": "scatterpolar"
           }
          ],
          "scatterpolargl": [
           {
            "marker": {
             "colorbar": {
              "outlinewidth": 0,
              "ticks": ""
             }
            },
            "type": "scatterpolargl"
           }
          ],
          "scatterternary": [
           {
            "marker": {
             "colorbar": {
              "outlinewidth": 0,
              "ticks": ""
             }
            },
            "type": "scatterternary"
           }
          ],
          "surface": [
           {
            "colorbar": {
             "outlinewidth": 0,
             "ticks": ""
            },
            "colorscale": [
             [
              0,
              "#0d0887"
             ],
             [
              0.1111111111111111,
              "#46039f"
             ],
             [
              0.2222222222222222,
              "#7201a8"
             ],
             [
              0.3333333333333333,
              "#9c179e"
             ],
             [
              0.4444444444444444,
              "#bd3786"
             ],
             [
              0.5555555555555556,
              "#d8576b"
             ],
             [
              0.6666666666666666,
              "#ed7953"
             ],
             [
              0.7777777777777778,
              "#fb9f3a"
             ],
             [
              0.8888888888888888,
              "#fdca26"
             ],
             [
              1,
              "#f0f921"
             ]
            ],
            "type": "surface"
           }
          ],
          "table": [
           {
            "cells": {
             "fill": {
              "color": "#EBF0F8"
             },
             "line": {
              "color": "white"
             }
            },
            "header": {
             "fill": {
              "color": "#C8D4E3"
             },
             "line": {
              "color": "white"
             }
            },
            "type": "table"
           }
          ]
         },
         "layout": {
          "annotationdefaults": {
           "arrowcolor": "#2a3f5f",
           "arrowhead": 0,
           "arrowwidth": 1
          },
          "autotypenumbers": "strict",
          "coloraxis": {
           "colorbar": {
            "outlinewidth": 0,
            "ticks": ""
           }
          },
          "colorscale": {
           "diverging": [
            [
             0,
             "#8e0152"
            ],
            [
             0.1,
             "#c51b7d"
            ],
            [
             0.2,
             "#de77ae"
            ],
            [
             0.3,
             "#f1b6da"
            ],
            [
             0.4,
             "#fde0ef"
            ],
            [
             0.5,
             "#f7f7f7"
            ],
            [
             0.6,
             "#e6f5d0"
            ],
            [
             0.7,
             "#b8e186"
            ],
            [
             0.8,
             "#7fbc41"
            ],
            [
             0.9,
             "#4d9221"
            ],
            [
             1,
             "#276419"
            ]
           ],
           "sequential": [
            [
             0,
             "#0d0887"
            ],
            [
             0.1111111111111111,
             "#46039f"
            ],
            [
             0.2222222222222222,
             "#7201a8"
            ],
            [
             0.3333333333333333,
             "#9c179e"
            ],
            [
             0.4444444444444444,
             "#bd3786"
            ],
            [
             0.5555555555555556,
             "#d8576b"
            ],
            [
             0.6666666666666666,
             "#ed7953"
            ],
            [
             0.7777777777777778,
             "#fb9f3a"
            ],
            [
             0.8888888888888888,
             "#fdca26"
            ],
            [
             1,
             "#f0f921"
            ]
           ],
           "sequentialminus": [
            [
             0,
             "#0d0887"
            ],
            [
             0.1111111111111111,
             "#46039f"
            ],
            [
             0.2222222222222222,
             "#7201a8"
            ],
            [
             0.3333333333333333,
             "#9c179e"
            ],
            [
             0.4444444444444444,
             "#bd3786"
            ],
            [
             0.5555555555555556,
             "#d8576b"
            ],
            [
             0.6666666666666666,
             "#ed7953"
            ],
            [
             0.7777777777777778,
             "#fb9f3a"
            ],
            [
             0.8888888888888888,
             "#fdca26"
            ],
            [
             1,
             "#f0f921"
            ]
           ]
          },
          "colorway": [
           "#636efa",
           "#EF553B",
           "#00cc96",
           "#ab63fa",
           "#FFA15A",
           "#19d3f3",
           "#FF6692",
           "#B6E880",
           "#FF97FF",
           "#FECB52"
          ],
          "font": {
           "color": "#2a3f5f"
          },
          "geo": {
           "bgcolor": "white",
           "lakecolor": "white",
           "landcolor": "#E5ECF6",
           "showlakes": true,
           "showland": true,
           "subunitcolor": "white"
          },
          "hoverlabel": {
           "align": "left"
          },
          "hovermode": "closest",
          "mapbox": {
           "style": "light"
          },
          "paper_bgcolor": "white",
          "plot_bgcolor": "#E5ECF6",
          "polar": {
           "angularaxis": {
            "gridcolor": "white",
            "linecolor": "white",
            "ticks": ""
           },
           "bgcolor": "#E5ECF6",
           "radialaxis": {
            "gridcolor": "white",
            "linecolor": "white",
            "ticks": ""
           }
          },
          "scene": {
           "xaxis": {
            "backgroundcolor": "#E5ECF6",
            "gridcolor": "white",
            "gridwidth": 2,
            "linecolor": "white",
            "showbackground": true,
            "ticks": "",
            "zerolinecolor": "white"
           },
           "yaxis": {
            "backgroundcolor": "#E5ECF6",
            "gridcolor": "white",
            "gridwidth": 2,
            "linecolor": "white",
            "showbackground": true,
            "ticks": "",
            "zerolinecolor": "white"
           },
           "zaxis": {
            "backgroundcolor": "#E5ECF6",
            "gridcolor": "white",
            "gridwidth": 2,
            "linecolor": "white",
            "showbackground": true,
            "ticks": "",
            "zerolinecolor": "white"
           }
          },
          "shapedefaults": {
           "line": {
            "color": "#2a3f5f"
           }
          },
          "ternary": {
           "aaxis": {
            "gridcolor": "white",
            "linecolor": "white",
            "ticks": ""
           },
           "baxis": {
            "gridcolor": "white",
            "linecolor": "white",
            "ticks": ""
           },
           "bgcolor": "#E5ECF6",
           "caxis": {
            "gridcolor": "white",
            "linecolor": "white",
            "ticks": ""
           }
          },
          "title": {
           "x": 0.05
          },
          "xaxis": {
           "automargin": true,
           "gridcolor": "white",
           "linecolor": "white",
           "ticks": "",
           "title": {
            "standoff": 15
           },
           "zerolinecolor": "white",
           "zerolinewidth": 2
          },
          "yaxis": {
           "automargin": true,
           "gridcolor": "white",
           "linecolor": "white",
           "ticks": "",
           "title": {
            "standoff": 15
           },
           "zerolinecolor": "white",
           "zerolinewidth": 2
          }
         }
        },
        "title": {
         "text": "Total Political Ads Distribution In The United States By Geography",
         "x": 0.5
        }
       }
      }
     },
     "metadata": {},
     "output_type": "display_data"
    }
   ],
   "source": [
    "fig"
   ]
  },
  {
   "cell_type": "markdown",
   "metadata": {},
   "source": [
    "`Dapat dilihat bahwa persebaran ads di setiap state ini memiliki range yang tidak jauh, berada di range 3900 hingga 5000. Dapat dilihat juga berdasarkan warna bahwa total ads yang tersebar setiap statesnya mayoritas diatas 4500 ads per statenya.`"
   ]
  },
  {
   "cell_type": "markdown",
   "metadata": {},
   "source": [
    "* Bagaimana persebaran total dana yang dikeluarkan pada suatu iklan yang ditujukan pada setiap states di United States? (Visual)"
   ]
  },
  {
   "cell_type": "code",
   "execution_count": 207,
   "metadata": {},
   "outputs": [
    {
     "data": {
      "application/vnd.plotly.v1+json": {
       "config": {
        "plotlyServerURL": "https://plot.ly"
       },
       "data": [
        {
         "lat": [
          43.075968,
          43.969515,
          44.558803,
          41.580095,
          47.551493,
          19.898682,
          38.910832,
          44.068202,
          63.588753,
          38.597626,
          41.492537,
          35.20105,
          34.97273,
          32.354668,
          31.244823,
          38.905985,
          41.603221,
          39.32098,
          35.007752
         ],
         "locationmode": "USA-states",
         "lon": [
          -107.290284,
          -99.901813,
          -72.577841,
          -71.477429,
          -101.002012,
          -155.665857,
          -75.52767,
          -114.742041,
          -154.493062,
          -80.454903,
          -99.901813,
          -91.831833,
          -105.032363,
          -89.398528,
          -92.145024,
          -77.033418,
          -73.087749,
          -111.093731,
          -97.092877
         ],
         "marker": {
          "color": "#B2EC5D",
          "line": {
           "color": "rgb(40,40,40)",
           "width": 0.5
          },
          "size": [
           14.754000000000001,
           15.956000000000001,
           20.452,
           25.336000000000002,
           27.794000000000004,
           28.546000000000003,
           29.750000000000004,
           40.716,
           45.118,
           65.804,
           66.128,
           69.71600000000001,
           74.47200000000001,
           78.81400000000001,
           91.01400000000001,
           92.92800000000001,
           93.096,
           97.676,
           98.596
          ],
          "sizemode": "area"
         },
         "name": "< 5.000.000",
         "text": [
          "Wyoming",
          "South Dakota",
          "Vermont",
          "Rhode Island",
          "North Dakota",
          "Hawaii",
          "Delaware",
          "Idaho",
          "Alaska",
          "West Virginia",
          "Nebraska",
          "Arkansas",
          "New Mexico",
          "Mississippi",
          "Louisiana",
          "District of Columbia",
          "Connecticut",
          "Utah",
          "Oklahoma"
         ],
         "type": "scattergeo"
        },
        {
         "lat": [
          39.011902,
          32.318231,
          43.804133,
          43.193852,
          46.879682,
          39.045755,
          45.253783,
          40.551217
         ],
         "locationmode": "USA-states",
         "lon": [
          -98.484246,
          -86.902298,
          -120.554201,
          -71.572395,
          -110.362566,
          -76.641271,
          -69.445469,
          -85.602364
         ],
         "marker": {
          "color": "#7CFC00",
          "line": {
           "color": "rgb(40,40,40)",
           "width": 0.5
          },
          "size": [
           120.346,
           138.52,
           161.41600000000003,
           163.002,
           171.418,
           174.544,
           178.144,
           189.28400000000002
          ],
          "sizemode": "area"
         },
         "name": "5.000.001-10.000.000",
         "text": [
          "Kansas",
          "Alabama",
          "Oregon",
          "New Hampshire",
          "Montana",
          "Maryland",
          "Maine",
          "Indiana"
         ],
         "type": "scattergeo"
        },
        {
         "lat": [
          37.839333,
          42.407211,
          47.751074,
          37.964253,
          35.517491,
          38.80261,
          33.836081,
          46.729553,
          39.550051,
          40.058324
         ],
         "locationmode": "USA-states",
         "lon": [
          -84.270018,
          -71.382437,
          -120.740139,
          -91.831833,
          -86.580447,
          -116.419389,
          -81.163725,
          -94.6859,
          -105.782067,
          -74.405661
         ],
         "marker": {
          "color": "#ACE1AF",
          "line": {
           "color": "rgb(40,40,40)",
           "width": 0.5
          },
          "size": [
           228.80800000000002,
           246.23600000000002,
           246.41400000000002,
           251.996,
           263.874,
           292.512,
           313.336,
           347.216,
           356.23400000000004,
           367.90200000000004
          ],
          "sizemode": "area"
         },
         "name": "10.000.001-20.000.000",
         "text": [
          "Kentucky",
          "Massachusetts",
          "Washington",
          "Missouri",
          "Tennessee",
          "Nevada",
          "South Carolina",
          "Minnesota",
          "Colorado",
          "New Jersey"
         ],
         "type": "scattergeo"
        },
        {
         "lat": [
          40.417287,
          41.878003,
          43.78444,
          37.431573,
          40.633125
         ],
         "locationmode": "USA-states",
         "lon": [
          -82.907123,
          -93.097702,
          -88.787868,
          -78.656894,
          -89.398528
         ],
         "marker": {
          "color": "#77DD77",
          "line": {
           "color": "rgb(40,40,40)",
           "width": 0.5
          },
          "size": [
           421.504,
           488.218,
           492.732,
           541.356,
           570.9720000000001
          ],
          "sizemode": "area"
         },
         "name": "20.000.001-30.000.000",
         "text": [
          "Ohio",
          "Iowa",
          "Wisconsin",
          "Virginia",
          "Illinois"
         ],
         "type": "scattergeo"
        },
        {
         "lat": [
          43.299428,
          44.314844
         ],
         "locationmode": "USA-states",
         "lon": [
          -74.217933,
          -85.602364
         ],
         "marker": {
          "color": "#85BB65",
          "line": {
           "color": "rgb(40,40,40)",
           "width": 0.5
          },
          "size": [
           628.456,
           777.7620000000001
          ],
          "sizemode": "area"
         },
         "name": "30.000.001-40.000.000",
         "text": [
          "New York",
          "Michigan"
         ],
         "type": "scattergeo"
        },
        {
         "lat": [
          34.048928,
          35.759573,
          31.968599
         ],
         "locationmode": "USA-states",
         "lon": [
          -111.093731,
          -79.0193,
          -99.901813
         ],
         "marker": {
          "color": "#03C03C",
          "line": {
           "color": "rgb(40,40,40)",
           "width": 0.5
          },
          "size": [
           834.5720000000001,
           923.5140000000001,
           925.878
          ],
          "sizemode": "area"
         },
         "name": "40.000.001-50.000.000",
         "text": [
          "Arizona",
          "North Carolina",
          "Texas"
         ],
         "type": "scattergeo"
        },
        {
         "lat": [
          41.203322
         ],
         "locationmode": "USA-states",
         "lon": [
          -77.194525
         ],
         "marker": {
          "color": "#008000",
          "line": {
           "color": "rgb(40,40,40)",
           "width": 0.5
          },
          "size": [
           1012.4060000000001
          ],
          "sizemode": "area"
         },
         "name": "50.000.001-60.000.000",
         "text": [
          "Pennsylvania"
         ],
         "type": "scattergeo"
        },
        {
         "lat": [
          32.157435
         ],
         "locationmode": "USA-states",
         "lon": [
          -82.907123
         ],
         "marker": {
          "color": "#78866B",
          "line": {
           "color": "rgb(40,40,40)",
           "width": 0.5
          },
          "size": [
           1223.362
          ],
          "sizemode": "area"
         },
         "name": "60.000.001-70.000.000",
         "text": [
          "Georgia"
         ],
         "type": "scattergeo"
        },
        {
         "lat": [
          27.664827
         ],
         "locationmode": "USA-states",
         "lon": [
          -81.515754
         ],
         "marker": {
          "color": "#556B2F",
          "line": {
           "color": "rgb(40,40,40)",
           "width": 0.5
          },
          "size": [
           1537.2440000000001
          ],
          "sizemode": "area"
         },
         "name": "70.000.001-80.000.000",
         "text": [
          "Florida"
         ],
         "type": "scattergeo"
        },
        {
         "lat": [
          36.778261
         ],
         "locationmode": "USA-states",
         "lon": [
          -119.417932
         ],
         "marker": {
          "color": "#414833",
          "line": {
           "color": "rgb(40,40,40)",
           "width": 0.5
          },
          "size": [
           1872.794
          ],
          "sizemode": "area"
         },
         "name": "80.000.000+",
         "text": [
          "California"
         ],
         "type": "scattergeo"
        }
       ],
       "layout": {
        "geo": {
         "landcolor": "rgb(217, 217, 217)",
         "projection": {
          "type": "albers usa"
         },
         "scope": "usa"
        },
        "legend": {
         "title": {
          "text": "Range Of Total Spending in US Dollar"
         }
        },
        "showlegend": true,
        "template": {
         "data": {
          "bar": [
           {
            "error_x": {
             "color": "#2a3f5f"
            },
            "error_y": {
             "color": "#2a3f5f"
            },
            "marker": {
             "line": {
              "color": "#E5ECF6",
              "width": 0.5
             },
             "pattern": {
              "fillmode": "overlay",
              "size": 10,
              "solidity": 0.2
             }
            },
            "type": "bar"
           }
          ],
          "barpolar": [
           {
            "marker": {
             "line": {
              "color": "#E5ECF6",
              "width": 0.5
             },
             "pattern": {
              "fillmode": "overlay",
              "size": 10,
              "solidity": 0.2
             }
            },
            "type": "barpolar"
           }
          ],
          "carpet": [
           {
            "aaxis": {
             "endlinecolor": "#2a3f5f",
             "gridcolor": "white",
             "linecolor": "white",
             "minorgridcolor": "white",
             "startlinecolor": "#2a3f5f"
            },
            "baxis": {
             "endlinecolor": "#2a3f5f",
             "gridcolor": "white",
             "linecolor": "white",
             "minorgridcolor": "white",
             "startlinecolor": "#2a3f5f"
            },
            "type": "carpet"
           }
          ],
          "choropleth": [
           {
            "colorbar": {
             "outlinewidth": 0,
             "ticks": ""
            },
            "type": "choropleth"
           }
          ],
          "contour": [
           {
            "colorbar": {
             "outlinewidth": 0,
             "ticks": ""
            },
            "colorscale": [
             [
              0,
              "#0d0887"
             ],
             [
              0.1111111111111111,
              "#46039f"
             ],
             [
              0.2222222222222222,
              "#7201a8"
             ],
             [
              0.3333333333333333,
              "#9c179e"
             ],
             [
              0.4444444444444444,
              "#bd3786"
             ],
             [
              0.5555555555555556,
              "#d8576b"
             ],
             [
              0.6666666666666666,
              "#ed7953"
             ],
             [
              0.7777777777777778,
              "#fb9f3a"
             ],
             [
              0.8888888888888888,
              "#fdca26"
             ],
             [
              1,
              "#f0f921"
             ]
            ],
            "type": "contour"
           }
          ],
          "contourcarpet": [
           {
            "colorbar": {
             "outlinewidth": 0,
             "ticks": ""
            },
            "type": "contourcarpet"
           }
          ],
          "heatmap": [
           {
            "colorbar": {
             "outlinewidth": 0,
             "ticks": ""
            },
            "colorscale": [
             [
              0,
              "#0d0887"
             ],
             [
              0.1111111111111111,
              "#46039f"
             ],
             [
              0.2222222222222222,
              "#7201a8"
             ],
             [
              0.3333333333333333,
              "#9c179e"
             ],
             [
              0.4444444444444444,
              "#bd3786"
             ],
             [
              0.5555555555555556,
              "#d8576b"
             ],
             [
              0.6666666666666666,
              "#ed7953"
             ],
             [
              0.7777777777777778,
              "#fb9f3a"
             ],
             [
              0.8888888888888888,
              "#fdca26"
             ],
             [
              1,
              "#f0f921"
             ]
            ],
            "type": "heatmap"
           }
          ],
          "heatmapgl": [
           {
            "colorbar": {
             "outlinewidth": 0,
             "ticks": ""
            },
            "colorscale": [
             [
              0,
              "#0d0887"
             ],
             [
              0.1111111111111111,
              "#46039f"
             ],
             [
              0.2222222222222222,
              "#7201a8"
             ],
             [
              0.3333333333333333,
              "#9c179e"
             ],
             [
              0.4444444444444444,
              "#bd3786"
             ],
             [
              0.5555555555555556,
              "#d8576b"
             ],
             [
              0.6666666666666666,
              "#ed7953"
             ],
             [
              0.7777777777777778,
              "#fb9f3a"
             ],
             [
              0.8888888888888888,
              "#fdca26"
             ],
             [
              1,
              "#f0f921"
             ]
            ],
            "type": "heatmapgl"
           }
          ],
          "histogram": [
           {
            "marker": {
             "pattern": {
              "fillmode": "overlay",
              "size": 10,
              "solidity": 0.2
             }
            },
            "type": "histogram"
           }
          ],
          "histogram2d": [
           {
            "colorbar": {
             "outlinewidth": 0,
             "ticks": ""
            },
            "colorscale": [
             [
              0,
              "#0d0887"
             ],
             [
              0.1111111111111111,
              "#46039f"
             ],
             [
              0.2222222222222222,
              "#7201a8"
             ],
             [
              0.3333333333333333,
              "#9c179e"
             ],
             [
              0.4444444444444444,
              "#bd3786"
             ],
             [
              0.5555555555555556,
              "#d8576b"
             ],
             [
              0.6666666666666666,
              "#ed7953"
             ],
             [
              0.7777777777777778,
              "#fb9f3a"
             ],
             [
              0.8888888888888888,
              "#fdca26"
             ],
             [
              1,
              "#f0f921"
             ]
            ],
            "type": "histogram2d"
           }
          ],
          "histogram2dcontour": [
           {
            "colorbar": {
             "outlinewidth": 0,
             "ticks": ""
            },
            "colorscale": [
             [
              0,
              "#0d0887"
             ],
             [
              0.1111111111111111,
              "#46039f"
             ],
             [
              0.2222222222222222,
              "#7201a8"
             ],
             [
              0.3333333333333333,
              "#9c179e"
             ],
             [
              0.4444444444444444,
              "#bd3786"
             ],
             [
              0.5555555555555556,
              "#d8576b"
             ],
             [
              0.6666666666666666,
              "#ed7953"
             ],
             [
              0.7777777777777778,
              "#fb9f3a"
             ],
             [
              0.8888888888888888,
              "#fdca26"
             ],
             [
              1,
              "#f0f921"
             ]
            ],
            "type": "histogram2dcontour"
           }
          ],
          "mesh3d": [
           {
            "colorbar": {
             "outlinewidth": 0,
             "ticks": ""
            },
            "type": "mesh3d"
           }
          ],
          "parcoords": [
           {
            "line": {
             "colorbar": {
              "outlinewidth": 0,
              "ticks": ""
             }
            },
            "type": "parcoords"
           }
          ],
          "pie": [
           {
            "automargin": true,
            "type": "pie"
           }
          ],
          "scatter": [
           {
            "fillpattern": {
             "fillmode": "overlay",
             "size": 10,
             "solidity": 0.2
            },
            "type": "scatter"
           }
          ],
          "scatter3d": [
           {
            "line": {
             "colorbar": {
              "outlinewidth": 0,
              "ticks": ""
             }
            },
            "marker": {
             "colorbar": {
              "outlinewidth": 0,
              "ticks": ""
             }
            },
            "type": "scatter3d"
           }
          ],
          "scattercarpet": [
           {
            "marker": {
             "colorbar": {
              "outlinewidth": 0,
              "ticks": ""
             }
            },
            "type": "scattercarpet"
           }
          ],
          "scattergeo": [
           {
            "marker": {
             "colorbar": {
              "outlinewidth": 0,
              "ticks": ""
             }
            },
            "type": "scattergeo"
           }
          ],
          "scattergl": [
           {
            "marker": {
             "colorbar": {
              "outlinewidth": 0,
              "ticks": ""
             }
            },
            "type": "scattergl"
           }
          ],
          "scattermapbox": [
           {
            "marker": {
             "colorbar": {
              "outlinewidth": 0,
              "ticks": ""
             }
            },
            "type": "scattermapbox"
           }
          ],
          "scatterpolar": [
           {
            "marker": {
             "colorbar": {
              "outlinewidth": 0,
              "ticks": ""
             }
            },
            "type": "scatterpolar"
           }
          ],
          "scatterpolargl": [
           {
            "marker": {
             "colorbar": {
              "outlinewidth": 0,
              "ticks": ""
             }
            },
            "type": "scatterpolargl"
           }
          ],
          "scatterternary": [
           {
            "marker": {
             "colorbar": {
              "outlinewidth": 0,
              "ticks": ""
             }
            },
            "type": "scatterternary"
           }
          ],
          "surface": [
           {
            "colorbar": {
             "outlinewidth": 0,
             "ticks": ""
            },
            "colorscale": [
             [
              0,
              "#0d0887"
             ],
             [
              0.1111111111111111,
              "#46039f"
             ],
             [
              0.2222222222222222,
              "#7201a8"
             ],
             [
              0.3333333333333333,
              "#9c179e"
             ],
             [
              0.4444444444444444,
              "#bd3786"
             ],
             [
              0.5555555555555556,
              "#d8576b"
             ],
             [
              0.6666666666666666,
              "#ed7953"
             ],
             [
              0.7777777777777778,
              "#fb9f3a"
             ],
             [
              0.8888888888888888,
              "#fdca26"
             ],
             [
              1,
              "#f0f921"
             ]
            ],
            "type": "surface"
           }
          ],
          "table": [
           {
            "cells": {
             "fill": {
              "color": "#EBF0F8"
             },
             "line": {
              "color": "white"
             }
            },
            "header": {
             "fill": {
              "color": "#C8D4E3"
             },
             "line": {
              "color": "white"
             }
            },
            "type": "table"
           }
          ]
         },
         "layout": {
          "annotationdefaults": {
           "arrowcolor": "#2a3f5f",
           "arrowhead": 0,
           "arrowwidth": 1
          },
          "autotypenumbers": "strict",
          "coloraxis": {
           "colorbar": {
            "outlinewidth": 0,
            "ticks": ""
           }
          },
          "colorscale": {
           "diverging": [
            [
             0,
             "#8e0152"
            ],
            [
             0.1,
             "#c51b7d"
            ],
            [
             0.2,
             "#de77ae"
            ],
            [
             0.3,
             "#f1b6da"
            ],
            [
             0.4,
             "#fde0ef"
            ],
            [
             0.5,
             "#f7f7f7"
            ],
            [
             0.6,
             "#e6f5d0"
            ],
            [
             0.7,
             "#b8e186"
            ],
            [
             0.8,
             "#7fbc41"
            ],
            [
             0.9,
             "#4d9221"
            ],
            [
             1,
             "#276419"
            ]
           ],
           "sequential": [
            [
             0,
             "#0d0887"
            ],
            [
             0.1111111111111111,
             "#46039f"
            ],
            [
             0.2222222222222222,
             "#7201a8"
            ],
            [
             0.3333333333333333,
             "#9c179e"
            ],
            [
             0.4444444444444444,
             "#bd3786"
            ],
            [
             0.5555555555555556,
             "#d8576b"
            ],
            [
             0.6666666666666666,
             "#ed7953"
            ],
            [
             0.7777777777777778,
             "#fb9f3a"
            ],
            [
             0.8888888888888888,
             "#fdca26"
            ],
            [
             1,
             "#f0f921"
            ]
           ],
           "sequentialminus": [
            [
             0,
             "#0d0887"
            ],
            [
             0.1111111111111111,
             "#46039f"
            ],
            [
             0.2222222222222222,
             "#7201a8"
            ],
            [
             0.3333333333333333,
             "#9c179e"
            ],
            [
             0.4444444444444444,
             "#bd3786"
            ],
            [
             0.5555555555555556,
             "#d8576b"
            ],
            [
             0.6666666666666666,
             "#ed7953"
            ],
            [
             0.7777777777777778,
             "#fb9f3a"
            ],
            [
             0.8888888888888888,
             "#fdca26"
            ],
            [
             1,
             "#f0f921"
            ]
           ]
          },
          "colorway": [
           "#636efa",
           "#EF553B",
           "#00cc96",
           "#ab63fa",
           "#FFA15A",
           "#19d3f3",
           "#FF6692",
           "#B6E880",
           "#FF97FF",
           "#FECB52"
          ],
          "font": {
           "color": "#2a3f5f"
          },
          "geo": {
           "bgcolor": "white",
           "lakecolor": "white",
           "landcolor": "#E5ECF6",
           "showlakes": true,
           "showland": true,
           "subunitcolor": "white"
          },
          "hoverlabel": {
           "align": "left"
          },
          "hovermode": "closest",
          "mapbox": {
           "style": "light"
          },
          "paper_bgcolor": "white",
          "plot_bgcolor": "#E5ECF6",
          "polar": {
           "angularaxis": {
            "gridcolor": "white",
            "linecolor": "white",
            "ticks": ""
           },
           "bgcolor": "#E5ECF6",
           "radialaxis": {
            "gridcolor": "white",
            "linecolor": "white",
            "ticks": ""
           }
          },
          "scene": {
           "xaxis": {
            "backgroundcolor": "#E5ECF6",
            "gridcolor": "white",
            "gridwidth": 2,
            "linecolor": "white",
            "showbackground": true,
            "ticks": "",
            "zerolinecolor": "white"
           },
           "yaxis": {
            "backgroundcolor": "#E5ECF6",
            "gridcolor": "white",
            "gridwidth": 2,
            "linecolor": "white",
            "showbackground": true,
            "ticks": "",
            "zerolinecolor": "white"
           },
           "zaxis": {
            "backgroundcolor": "#E5ECF6",
            "gridcolor": "white",
            "gridwidth": 2,
            "linecolor": "white",
            "showbackground": true,
            "ticks": "",
            "zerolinecolor": "white"
           }
          },
          "shapedefaults": {
           "line": {
            "color": "#2a3f5f"
           }
          },
          "ternary": {
           "aaxis": {
            "gridcolor": "white",
            "linecolor": "white",
            "ticks": ""
           },
           "baxis": {
            "gridcolor": "white",
            "linecolor": "white",
            "ticks": ""
           },
           "bgcolor": "#E5ECF6",
           "caxis": {
            "gridcolor": "white",
            "linecolor": "white",
            "ticks": ""
           }
          },
          "title": {
           "x": 0.05
          },
          "xaxis": {
           "automargin": true,
           "gridcolor": "white",
           "linecolor": "white",
           "ticks": "",
           "title": {
            "standoff": 15
           },
           "zerolinecolor": "white",
           "zerolinewidth": 2
          },
          "yaxis": {
           "automargin": true,
           "gridcolor": "white",
           "linecolor": "white",
           "ticks": "",
           "title": {
            "standoff": 15
           },
           "zerolinecolor": "white",
           "zerolinewidth": 2
          }
         }
        },
        "title": {
         "text": "Total Spending on Political Ads Distribution In The United States By Geography",
         "x": 0.5
        }
       }
      }
     },
     "metadata": {},
     "output_type": "display_data"
    }
   ],
   "source": [
    "fig_spend"
   ]
  },
  {
   "cell_type": "markdown",
   "metadata": {},
   "source": [
    "`Dapat dilihat bahwa persebaran total spending di setiap state ini memiliki range yang bervariasi. Dapat dilihat juga berdasarkan warna dan ukuran buble bahwa terdapat daerah yang total spendingnya sedikit dan juga terdapat daerah yang total spendingnya besar.`"
   ]
  },
  {
   "cell_type": "markdown",
   "metadata": {},
   "source": [
    "* Gender apa saja yang menjadi target dalam political ads? Bagaimana proporsinya? (Visual)"
   ]
  },
  {
   "cell_type": "code",
   "execution_count": 208,
   "metadata": {},
   "outputs": [
    {
     "data": {
      "image/png": "[encoded data removed]",
      "text/plain": [
       "<Figure size 576x576 with 1 Axes>"
      ]
     },
     "metadata": {},
     "output_type": "display_data"
    }
   ],
   "source": [
    "myexplode = [0.2, 0, 0, 0]\n",
    "pie_chart = plt.figure(figsize=(8,8))\n",
    "plt.pie(based_gender_sum.persentase, labels = based_gender_sum.gender, explode= [0.2, 0.2, 0.2], colors = ['green','hotpink','blue'],autopct='%1.1f%%')\n",
    "plt.title('Distribution of Targeting Gender on Political Ads Google')\n",
    "plt.legend()\n",
    "plt.axis('equal')\n",
    "plt.show()"
   ]
  },
  {
   "cell_type": "markdown",
   "metadata": {},
   "source": [
    "`Berdasarkan pada pie chart di atas, kita dapat mendapatkan informasi bahwa 80.2 persen dari total ads bertarget pada semua gender, 10.7 persen bertarget pada gender perempuan, dan 8.1 persen bertarget pada gender laki-laki. `"
   ]
  },
  {
   "cell_type": "markdown",
   "metadata": {},
   "source": [
    "* Apakah impressions yang didapatkan pada setiap tipe ads sama? (Inferensial)\n"
   ]
  },
  {
   "cell_type": "markdown",
   "metadata": {},
   "source": [
    "Di section ini Saya ingin menganalisa ketiga variabel tipe ads (text, image, video),\n",
    "Apakah antar variabel tersebut memiliki kesamaan dalam mendapatkan impression atau statistically significant perbedaannya."
   ]
  },
  {
   "cell_type": "markdown",
   "metadata": {},
   "source": [
    "Dengan Hipotesis sebagai berikut:\n",
    "```txt\n",
    "H0 : Antar Tipe Ads tidak memiliki perbedaan terhadap impression yang di dapat, μtext = μimage = μvideo.\n",
    "H1 : Antar Tipe Ads memiliki perbedaan significant terhadap impression yang di dapat, μtext != μimage != μvideo.\n",
    "```"
   ]
  },
  {
   "cell_type": "markdown",
   "metadata": {},
   "source": [
    "Dengan confidence level 95%, Sehingga didapat p-value < 0,05, maka H0 di reject. \n",
    "\n",
    "`Dapat disimpulkan bahwa terdapat perbedaan statistically significant antara Ads Type Text, Image, dan Video terhadap impressions yang di dapat.`"
   ]
  },
  {
   "cell_type": "markdown",
   "metadata": {},
   "source": [
    "* Tipe ads apa yang paling di rekomendasikan? (Visual)"
   ]
  },
  {
   "cell_type": "code",
   "execution_count": 209,
   "metadata": {},
   "outputs": [
    {
     "data": {
      "image/png": "[encoded data removed]",
      "text/plain": [
       "<Figure size 720x720 with 1 Axes>"
      ]
     },
     "metadata": {},
     "output_type": "display_data"
    }
   ],
   "source": [
    "plt.figure(figsize=(10,10))\n",
    "plt.style.use('ggplot')\n",
    "plt.title('Relation between Impression and Spending (US Dollar)')\n",
    "plt.xlabel('Spending (US Dollar)')\n",
    "plt.ylabel('Impressions')\n",
    "plt.scatter(x=based_ads_type['spend_usd'],y=based_ads_type['impressions'],s=50,c=based_ads_type['color'],alpha=0.3,marker='o',label = {'Text' : 'blue', 'Image': 'black', 'Video': 'red'})\n",
    "plt.legend() \n",
    "plt.show()"
   ]
  },
  {
   "cell_type": "markdown",
   "metadata": {},
   "source": [
    "Berdasarkan scatter plot di atas bahwa, pada data political_ads ini banyak yang spending besar pada ads tipe Text namun dengan impressions yang di dapat tidak cukup besar, berbeda dengan ads_type Image dan Video yang dimana spending yang dikeluarkan lebih kecil dibanding text, tetapi mendaptkan impressions yang lebih besar.\n",
    "\n",
    "`Sehingga direkomendasikan untuk memilih tipe ads yang lebih memberikan impressions yang banyak yaitu video ataupun image dengan total spending yang lebih sedikit dibandingkan tipe text`"
   ]
  },
  {
   "cell_type": "markdown",
   "metadata": {},
   "source": [
    "# Kesimpulan"
   ]
  },
  {
   "cell_type": "markdown",
   "metadata": {},
   "source": [
    "`Sehingga kesimpulannya adalah dalam menyusun sebuah budgeting untuk sebuah ads dapat melihat pada penjabaran sebelumnya terkait perilaku warga United States dalam mengeluarkan US dollar untuk sebuah iklan terhadap impression yang di dapat. Dari plotting tersebut, Tim Sukses dapat melakukan budgeting sebuah ads sesuai dengan budget yang ingin dikeluarkan, berapa banyaknya iklan, dan juga jumlah hari iklan tersebut akan ditayangkan. Dari plotting tersebut dapat memperkirakan dengan perilaku yang telah dipelajari sehingga mendapatkan estimasi dari Impressions yang akan di dapat.`\n",
    "\n",
    "`Selain itu juga pentingnya strategi dimana tujuan iklan itu ditujukan dengan melihat acuan sebelumnya pada plotting secara geografis persebaran total iklan dan total uang yang dikeluarkan pada setiap states.`\n",
    "\n",
    "`Selain itu juga jika tidak ada gender target lebih diutamakan agar bisa mendapat impression yang lebih banyak melihat pada pie chart bahwa lebih banyak iklan yang bertarget pada semua gender.`\n",
    "\n",
    "`Yang terakhir adalah pemilihan tipe iklan yang akan dipilih. Ini merupakan hal yang penting, berdasar pada analisis Anova yang dilakukan didapatkan bahwa ketiga tipe ads itu memiliki perbedaan yang significant (statistically significant). Selain itu juga direkomendasikan untuk menggunakan tipe ads berupa image atau video karena berdasarkan pola perilaku tipe ads terhadap spending dan impression yang didapat bahwa tipe image dan video dengan spending ayng lebih sedikit dari tipe text bisa mendapatkan imprssion yang lebih banyak.`"
   ]
  }
 ],
 "metadata": {
  "kernelspec": {
   "display_name": "Python 3.9.7 ('base')",
   "language": "python",
   "name": "python3"
  },
  "language_info": {
   "codemirror_mode": {
    "name": "ipython",
    "version": 3
   },
   "file_extension": ".py",
   "mimetype": "text/x-python",
   "name": "python",
   "nbconvert_exporter": "python",
   "pygments_lexer": "ipython3",
   "version": "3.9.7"
  },
  "orig_nbformat": 4,
  "vscode": {
   "interpreter": {
    "hash": "cec7daa8bc2b3acc688b72e107af71b7070ca84a9339e237bd4d9d44f746e39c"
   }
  }
 },
 "nbformat": 4,
 "nbformat_minor": 2
}
